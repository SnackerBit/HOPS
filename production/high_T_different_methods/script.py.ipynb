{
 "cells": [
  {
   "cell_type": "code",
   "execution_count": 8,
   "id": "radio-chart",
   "metadata": {},
   "outputs": [],
   "source": [
    "import numpy as np\n",
    "import sys\n",
    "sys.path.append(\"../../\")\n",
    "from src.util import operators\n",
    "from src.homps import homps\n",
    "from src.hops import hops\n",
    "from src.util import noise_generator\n",
    "from src.util import debye_spectral_density"
   ]
  },
  {
   "cell_type": "code",
   "execution_count": 9,
   "id": "numerous-solution",
   "metadata": {},
   "outputs": [],
   "source": [
    "# Parameters for the spin-boson model\n",
    "epsilon = 2.0\n",
    "delta = -2.0\n",
    "# Parameters for the Debye spectral density\n",
    "beta = 0.5\n",
    "T = 1/beta\n",
    "gamma = 0.25\n",
    "eta = 0.5\n",
    "# operators\n",
    "sigma_x, sigma_z, eye = operators.generate_physical_operators()\n",
    "L = sigma_z\n",
    "h = operators.generate_spin_boson_hamiltonian(delta=delta, epsilon=epsilon)\n",
    "# time window\n",
    "duration = 30"
   ]
  },
  {
   "cell_type": "code",
   "execution_count": 10,
   "id": "colonial-workstation",
   "metadata": {},
   "outputs": [],
   "source": [
    "N_steps = 15000\n",
    "N_trunc = 40\n",
    "N_terms = 1"
   ]
  },
  {
   "cell_type": "code",
   "execution_count": 11,
   "id": "metropolitan-dominant",
   "metadata": {},
   "outputs": [],
   "source": [
    "g, w = debye_spectral_density.get_debye_coefficients(N_terms, T, gamma, eta)"
   ]
  },
  {
   "cell_type": "code",
   "execution_count": 12,
   "id": "economic-guide",
   "metadata": {},
   "outputs": [],
   "source": [
    "options = {\n",
    "    'linear' : False,\n",
    "    'use_noise' : True,\n",
    "}\n",
    "my_hops = hops.HOPS_Engine_Simple(g, w, h, sigma_z, duration, N_steps, N_trunc, options)\n",
    "zts_debug = my_hops.generator.sample_process()\n",
    "psis = my_hops.compute_realizations(1, zts_debug=zts_debug)\n",
    "np.save(\"data/psi_hops\", psis)"
   ]
  },
  {
   "cell_type": "code",
   "execution_count": 13,
   "id": "imperial-purple",
   "metadata": {},
   "outputs": [],
   "source": [
    "options = {\n",
    "    'linear' : False,\n",
    "    'use_noise' : True,\n",
    "    'chi_max' : 10,\n",
    "    'eps' : 0,\n",
    "    'method' : 'RK4',\n",
    "    'rescale_aux' : True,\n",
    "}\n",
    "my_homps = homps.HOMPS_Engine(g, w, h, sigma_z, duration, N_steps, N_trunc, options)\n",
    "psis = my_homps.compute_realizations(1, zts_debug=zts_debug)\n",
    "np.save(\"data/psi_homps_RK4\", psis)"
   ]
  },
  {
   "cell_type": "code",
   "execution_count": 14,
   "id": "tribal-champion",
   "metadata": {},
   "outputs": [],
   "source": [
    "options = {\n",
    "    'linear' : False,\n",
    "    'use_noise' : True,\n",
    "    'chi_max' : 10,\n",
    "    'eps' : 0,\n",
    "    'method' : 'TDVP2',\n",
    "    'rescale_aux' : True,\n",
    "}\n",
    "my_homps = homps.HOMPS_Engine(g, w, h, sigma_z, duration, N_steps, N_trunc, options)\n",
    "psis = my_homps.compute_realizations(1, zts_debug=zts_debug[::2])\n",
    "np.save(\"data/psi_homps_TDVP2\", psis)"
   ]
  }
 ],
 "metadata": {
  "kernelspec": {
   "display_name": "Python 3",
   "language": "python",
   "name": "python3"
  },
  "language_info": {
   "codemirror_mode": {
    "name": "ipython",
    "version": 3
   },
   "file_extension": ".py",
   "mimetype": "text/x-python",
   "name": "python",
   "nbconvert_exporter": "python",
   "pygments_lexer": "ipython3",
   "version": "3.8.5"
  }
 },
 "nbformat": 4,
 "nbformat_minor": 5
}
