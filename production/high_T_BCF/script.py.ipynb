{
 "cells": [
  {
   "cell_type": "code",
   "execution_count": 3,
   "id": "infrared-replica",
   "metadata": {},
   "outputs": [],
   "source": [
    "import numpy as np\n",
    "import sys\n",
    "sys.path.append(\"../../\")\n",
    "from src.util import operators\n",
    "from src.homps import homps\n",
    "from src.util import noise_generator\n",
    "from src.util import debye_spectral_density\n",
    "from src.util import bath_correlation_function"
   ]
  },
  {
   "cell_type": "code",
   "execution_count": 2,
   "id": "timely-wildlife",
   "metadata": {},
   "outputs": [],
   "source": [
    "# Parameters for the spin-boson model\n",
    "epsilon = 2.0\n",
    "delta = -2.0\n",
    "# Parameters for the Debye spectral density\n",
    "beta = 0.5\n",
    "T = 1/beta\n",
    "gamma = 0.25\n",
    "eta = 0.5\n",
    "# operators\n",
    "sigma_x, sigma_z, eye = operators.generate_physical_operators()\n",
    "L = sigma_z\n",
    "h = operators.generate_spin_boson_hamiltonian(delta=delta, epsilon=epsilon)\n",
    "# time window\n",
    "duration = 30"
   ]
  },
  {
   "cell_type": "code",
   "execution_count": 13,
   "id": "gentle-blast",
   "metadata": {},
   "outputs": [],
   "source": [
    "N_steps = 1000\n",
    "taus = np.linspace(0, duration, N_steps)"
   ]
  },
  {
   "cell_type": "code",
   "execution_count": 14,
   "id": "blocked-management",
   "metadata": {},
   "outputs": [],
   "source": [
    "J = lambda w : debye_spectral_density.debye_spectral_density(w, eta, gamma)"
   ]
  },
  {
   "cell_type": "code",
   "execution_count": 51,
   "id": "passing-chapter",
   "metadata": {},
   "outputs": [],
   "source": [
    "w_cut = 1000\n",
    "N = 100000\n",
    "dw = w_cut/N"
   ]
  },
  {
   "cell_type": "code",
   "execution_count": 52,
   "id": "expensive-surveillance",
   "metadata": {},
   "outputs": [],
   "source": [
    "alphas_compare = np.array([bath_correlation_function.alpha_sum(tau, J, beta, N, dw) for tau in taus])"
   ]
  },
  {
   "cell_type": "code",
   "execution_count": 53,
   "id": "classical-understanding",
   "metadata": {},
   "outputs": [],
   "source": [
    "g, w, = debye_spectral_density.get_debye_coefficients(1, T, gamma, eta)\n",
    "alphas = bath_correlation_function.alpha(taus, g, w)"
   ]
  },
  {
   "cell_type": "code",
   "execution_count": 57,
   "id": "human-violence",
   "metadata": {},
   "outputs": [],
   "source": [
    "np.save(\"data/taus\", taus[1:])\n",
    "np.save(\"data/alphas_compare\", alphas_compare[1:])\n",
    "np.save(\"data/alphas\", alphas[1:])"
   ]
  }
 ],
 "metadata": {
  "kernelspec": {
   "display_name": "Python 3",
   "language": "python",
   "name": "python3"
  },
  "language_info": {
   "codemirror_mode": {
    "name": "ipython",
    "version": 3
   },
   "file_extension": ".py",
   "mimetype": "text/x-python",
   "name": "python",
   "nbconvert_exporter": "python",
   "pygments_lexer": "ipython3",
   "version": "3.8.5"
  }
 },
 "nbformat": 4,
 "nbformat_minor": 5
}
