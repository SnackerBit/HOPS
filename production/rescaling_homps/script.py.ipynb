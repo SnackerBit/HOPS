{
 "cells": [
  {
   "cell_type": "code",
   "execution_count": 1,
   "id": "alternative-mouth",
   "metadata": {},
   "outputs": [],
   "source": [
    "import numpy as np\n",
    "import matplotlib.pyplot as plt\n",
    "from tqdm.notebook import  tqdm\n",
    "import time\n",
    "import sys\n",
    "sys.path.append(\"../../\")\n",
    "from src.util import operators\n",
    "from src.util.stochastic_expectation_value import compute_stochastic_expectation_value_nonlinear as compute_exp_val_nonlinear\n",
    "from src.util.stochastic_expectation_value import compute_stochastic_expectation_value_linear as compute_exp_val_linear\n",
    "from src.util import bath_correlation_function\n",
    "from src.util import debye_spectral_density  \n",
    "from src.homps import homps\n",
    "from src.util import operators\n",
    "from src.hops import hops\n",
    "from src.util import noise_generator"
   ]
  },
  {
   "cell_type": "code",
   "execution_count": 2,
   "id": "decent-finish",
   "metadata": {},
   "outputs": [],
   "source": [
    "def extract_auxillary_state(psi, n):\n",
    "    contr = psi.Bs[-1][:, 0, n[-1]] # vL\n",
    "    for i in range(N_terms-1, 0, -1):\n",
    "        contr = np.tensordot(psi.Bs[i][:, :, n[-1-i]], contr, ([1], [0])) # vL [vR], [vL] -> vL\n",
    "    result = np.tensordot(psi.Bs[0][0, :, :], contr, ([0], [0])) # [vR] i, [vL] -> i\n",
    "    return result * psi.norm"
   ]
  },
  {
   "cell_type": "code",
   "execution_count": 3,
   "id": "working-challenge",
   "metadata": {},
   "outputs": [],
   "source": [
    "# Parameters for the spin-boson model\n",
    "epsilon = 2.0\n",
    "delta = -2.0\n",
    "# Parameters for the Debye spectral density\n",
    "beta = 0.5\n",
    "T = 1/beta\n",
    "gamma = 0.25\n",
    "eta = 0.5\n",
    "# operators\n",
    "sigma_x, sigma_z, eye = operators.generate_physical_operators()\n",
    "L = sigma_z\n",
    "h = operators.generate_spin_boson_hamiltonian(delta=delta, epsilon=epsilon)\n",
    "# time window\n",
    "duration = 30\n",
    "# BCF\n",
    "N_terms = 1\n",
    "g, w = debye_spectral_density.get_debye_coefficients(N_terms, T, gamma, eta)"
   ]
  },
  {
   "cell_type": "code",
   "execution_count": 4,
   "id": "satisfactory-faith",
   "metadata": {},
   "outputs": [],
   "source": [
    "N_steps = 1000\n",
    "N_trunc = 40\n",
    "options = {\n",
    "    'linear' : False,\n",
    "    'use_noise' : False,\n",
    "    'chi_max' : 10,\n",
    "    'eps' : 0,\n",
    "    'method' : 'RK4',\n",
    "    'rescale_aux' : True\n",
    "}"
   ]
  },
  {
   "cell_type": "code",
   "execution_count": 5,
   "id": "forward-photographer",
   "metadata": {},
   "outputs": [],
   "source": [
    "options['rescale_aux'] = True\n",
    "my_homps_rescaled = homps.HOMPS_Engine(g, w, h, L, duration, N_steps, N_trunc, options)\n",
    "psis_rescaled = my_homps_rescaled.compute_realizations(1, collect_debug_info=True)"
   ]
  },
  {
   "cell_type": "code",
   "execution_count": 6,
   "id": "female-college",
   "metadata": {},
   "outputs": [],
   "source": [
    "options['rescale_aux'] = False\n",
    "my_homps_default = homps.HOMPS_Engine(g, w, h, L, duration, N_steps, N_trunc, options)\n",
    "psis_default = my_homps_default.compute_realizations(1, collect_debug_info=True)"
   ]
  },
  {
   "cell_type": "code",
   "execution_count": 7,
   "id": "built-demographic",
   "metadata": {},
   "outputs": [],
   "source": [
    "sigma_zs_rescaled = compute_exp_val_linear(psis_rescaled, sigma_z)\n",
    "sigma_zs_default = compute_exp_val_linear(psis_default, sigma_z)"
   ]
  },
  {
   "cell_type": "code",
   "execution_count": 8,
   "id": "attractive-convert",
   "metadata": {},
   "outputs": [],
   "source": [
    "np.save(\"data/high_T_sigma_zs_rescaled\", sigma_zs_rescaled)\n",
    "np.save(\"data/high_T_sigma_zs_default\", sigma_zs_default)"
   ]
  },
  {
   "cell_type": "code",
   "execution_count": 9,
   "id": "heated-twenty",
   "metadata": {},
   "outputs": [
    {
     "data": {
      "image/png": "[encoded data removed]",
      "text/plain": [
       "<Figure size 432x288 with 1 Axes>"
      ]
     },
     "metadata": {
      "needs_background": "light"
     },
     "output_type": "display_data"
    }
   ],
   "source": [
    "plt.plot(sigma_zs_rescaled)\n",
    "plt.plot(sigma_zs_default)\n",
    "plt.show()"
   ]
  },
  {
   "cell_type": "code",
   "execution_count": 10,
   "id": "downtown-algorithm",
   "metadata": {},
   "outputs": [],
   "source": [
    "# Extract auxillary states from default HOPS\n",
    "auxillary_states_default = np.empty((N_trunc, N_steps, 2), dtype=complex)\n",
    "auxillary_magnitudes_default = np.empty((N_trunc, N_steps), dtype=complex)\n",
    "for n in range(N_trunc):\n",
    "    for i in range(N_steps):\n",
    "        auxillary_states_default[n, i, :] = extract_auxillary_state(my_homps_default.debug_info['full_state'][0][i], [n])\n",
    "        auxillary_magnitudes_default[n, i] = np.linalg.norm(auxillary_states_default[n, i, :])"
   ]
  },
  {
   "cell_type": "code",
   "execution_count": 11,
   "id": "least-coast",
   "metadata": {},
   "outputs": [],
   "source": [
    "# Extract auxillary states from rescaled HOPS\n",
    "auxillary_states_rescaled = np.empty((N_trunc, N_steps, 2), dtype=complex)\n",
    "auxillary_magnitudes_rescaled = np.empty((N_trunc, N_steps), dtype=complex)\n",
    "for n in range(N_trunc):\n",
    "    for i in range(N_steps):\n",
    "        auxillary_states_rescaled[n, i, :] = extract_auxillary_state(my_homps_rescaled.debug_info['full_state'][0][i], [n])\n",
    "        auxillary_magnitudes_rescaled[n, i] = np.linalg.norm(auxillary_states_rescaled[n, i, :])"
   ]
  },
  {
   "cell_type": "code",
   "execution_count": 13,
   "id": "closed-zealand",
   "metadata": {},
   "outputs": [],
   "source": [
    "for n in range(N_trunc):\n",
    "    np.save(f\"data/high_T_magnitudes_rescaled_{n}\", auxillary_magnitudes_rescaled[n])\n",
    "    np.save(f\"data/high_T_magnitudes_default_{n}\", auxillary_magnitudes_default[n])"
   ]
  }
 ],
 "metadata": {
  "kernelspec": {
   "display_name": "Python 3",
   "language": "python",
   "name": "python3"
  },
  "language_info": {
   "codemirror_mode": {
    "name": "ipython",
    "version": 3
   },
   "file_extension": ".py",
   "mimetype": "text/x-python",
   "name": "python",
   "nbconvert_exporter": "python",
   "pygments_lexer": "ipython3",
   "version": "3.8.5"
  }
 },
 "nbformat": 4,
 "nbformat_minor": 5
}
