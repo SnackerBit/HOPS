{
 "cells": [
  {
   "cell_type": "code",
   "execution_count": 1,
   "id": "eefbe1ca",
   "metadata": {},
   "outputs": [],
   "source": [
    "%load_ext autoreload\n",
    "%autoreload 2"
   ]
  },
  {
   "cell_type": "code",
   "execution_count": 2,
   "id": "93df72f1",
   "metadata": {},
   "outputs": [],
   "source": [
    "import numpy as np\n",
    "import matplotlib.pyplot as plt\n",
    "import sys\n",
    "sys.path.append(\"../../\")\n",
    "from src.hops import runge_kutta"
   ]
  },
  {
   "cell_type": "markdown",
   "id": "0389be1d",
   "metadata": {},
   "source": [
    "This is a short notebook testing the implementation of Runge-Kutta 4 on a simple differential equation\n",
    "\n",
    "\\begin{equation}\n",
    "    \\frac{d}{dt}y(t) = \\sin(t)^2 \\cdot y(t),\n",
    "\\end{equation}\n",
    "\n",
    "which has an exact solution that can be easily determined analytically."
   ]
  },
  {
   "cell_type": "code",
   "execution_count": 3,
   "id": "1eb5ac8c",
   "metadata": {},
   "outputs": [],
   "source": [
    "def exact_solution(ts):\n",
    "    return np.exp((2*ts-np.sin(2*ts))/4)"
   ]
  },
  {
   "cell_type": "code",
   "execution_count": 4,
   "id": "a3ac81b0",
   "metadata": {},
   "outputs": [],
   "source": [
    "N_exact = 1000\n",
    "ts_exact = np.linspace(0, 5, N_exact)\n",
    "exact = exact_solution(ts_exact)"
   ]
  },
  {
   "cell_type": "code",
   "execution_count": 5,
   "id": "bcd858c0",
   "metadata": {},
   "outputs": [],
   "source": [
    "def rk4_solution(N):\n",
    "    ts = np.linspace(0, 5, 2*N)\n",
    "    def f(t_index, y):\n",
    "        return np.sin(ts[t_index])**2 * y\n",
    "    y = 1\n",
    "    dt = ts[2] - ts[0]\n",
    "    ys = [y]\n",
    "    for i in range(N-1):\n",
    "        y = runge_kutta.integrate_RK4(y, 2*i, dt, f)\n",
    "        ys.append(y)\n",
    "    return ys"
   ]
  },
  {
   "cell_type": "code",
   "execution_count": 6,
   "id": "34d47686",
   "metadata": {},
   "outputs": [],
   "source": [
    "rk4_10 = rk4_solution(10)\n",
    "rk4_100 = rk4_solution(100)\n",
    "rk4_1000 = rk4_solution(1000)"
   ]
  },
  {
   "cell_type": "code",
   "execution_count": 7,
   "id": "e9daf22c",
   "metadata": {},
   "outputs": [
    {
     "data": {
      "image/png": "[encoded data removed]",
      "text/plain": [
       "<Figure size 432x288 with 1 Axes>"
      ]
     },
     "metadata": {
      "needs_background": "light"
     },
     "output_type": "display_data"
    }
   ],
   "source": [
    "plt.plot(np.linspace(0, 5, 10), rk4_10, \"-\", label=\"RK4 with 10 steps\")\n",
    "plt.plot(np.linspace(0, 5, 100), rk4_100, \"-\", label=\"RK4 with 100 steps\")\n",
    "plt.plot(np.linspace(0, 5, 1000), rk4_1000, \"-\", label=\"RK4 with 1000 steps\")\n",
    "plt.plot(ts_exact, exact, \"--\", label=\"exact\")\n",
    "plt.legend()\n",
    "plt.show()"
   ]
  }
 ],
 "metadata": {
  "kernelspec": {
   "display_name": "Python 3 (ipykernel)",
   "language": "python",
   "name": "python3"
  },
  "language_info": {
   "codemirror_mode": {
    "name": "ipython",
    "version": 3
   },
   "file_extension": ".py",
   "mimetype": "text/x-python",
   "name": "python",
   "nbconvert_exporter": "python",
   "pygments_lexer": "ipython3",
   "version": "3.9.7"
  }
 },
 "nbformat": 4,
 "nbformat_minor": 5
}
