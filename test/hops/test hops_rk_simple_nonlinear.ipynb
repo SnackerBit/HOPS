{
 "cells": [
  {
   "cell_type": "code",
   "execution_count": 1,
   "id": "4ba18764",
   "metadata": {},
   "outputs": [],
   "source": [
    "%load_ext autoreload\n",
    "%autoreload 2"
   ]
  },
  {
   "cell_type": "code",
   "execution_count": 2,
   "id": "b7d7a781",
   "metadata": {},
   "outputs": [],
   "source": [
    "import numpy as np\n",
    "import matplotlib.pyplot as plt\n",
    "from tqdm.notebook import tqdm\n",
    "import sys\n",
    "sys.path.append(\"../../\")\n",
    "from src.util import operators\n",
    "from src.util import bath_correlation_function\n",
    "from src.util.stochastic_expectation_value import compute_stochastic_expectation_value_nonlinear as compute_exp_val\n",
    "from src.hops import hops"
   ]
  },
  {
   "cell_type": "markdown",
   "id": "a3de7281",
   "metadata": {},
   "source": [
    "In this notebook we want to compute the dynamics of the spin-boson model, using the non-linear HOPS equation\n",
    "\n",
    "\\begin{equation}\n",
    "    \\frac{\\partial}{\\partial t}\\tilde{\\Psi}_t^{(k)} = \\left(-iH-k\\omega+\\tilde{z}_t^*L\\right)\\tilde{\\Psi}_t^{(k)} + k\\alpha(0)L\\tilde{\\Psi}_t^{(k-1)} - \\left(L^\\dagger - \\left\\langle L^\\dagger\\right\\rangle_t\\right)\\tilde{\\Psi}_t^{(k+1)},\n",
    "\\end{equation}\n",
    "\n",
    "where\n",
    "\n",
    "\\begin{equation}\n",
    "    \\tilde{z}_t^* = z_t^*+\\int_0^t\\text{ds}\\alpha^*(t-s)\\left\\langle L^{\\dagger}\\right\\rangle_s.\n",
    "\\end{equation}\n",
    "\n",
    "We will use RK4 to integrate the state, compare to the linear HOPS equation:\n",
    "\n",
    "\\begin{equation}\n",
    "\\begin{split}\n",
    "    y_{n+1} & = y_{n} + \\frac{1}{6}\\left(k_1 + 2k_2 + 2k_3 + k_4\\right)\\cdot h \\\\\n",
    "    t_{n+1} & = t_n + h,\n",
    "\\end{split}\n",
    "\\end{equation}\n",
    "\n",
    "where\n",
    "\n",
    "\\begin{equation}\n",
    "\\begin{split}\n",
    "    k_1 & = f\\left(t_n, y_n\\right), \\\\\n",
    "    k_2 & = f\\left(t_n + \\frac{h}{2}, y_n + h\\frac{k_1}{2}\\right), \\\\\n",
    "    k_3 & = f\\left(t_n + \\frac{h}{2}, y_n + h\\frac{k_2}{2}\\right), \\\\\n",
    "    k_4 & = f\\left(t_n + h, y_n + hk_3\\right).\n",
    "\\end{split}\n",
    "\\end{equation}"
   ]
  },
  {
   "cell_type": "markdown",
   "id": "1d1dc69d",
   "metadata": {},
   "source": [
    "Again we will have to define the function $f$ computing the R.H.S. of the HOPS equation:\n",
    "\n",
    "\\begin{equation}\n",
    "    f^{(k)}\\left(t, \\boldsymbol{\\Psi}_t\\right) = \\frac{\\partial}{\\partial t} \\boldsymbol{\\Psi}_t\n",
    "\\end{equation}\n",
    "\n",
    "We will again work with a vector of states\n",
    "\n",
    "\\begin{equation}\n",
    "    \\boldsymbol{\\Psi}_t \\equiv\n",
    "    \\begin{pmatrix}\n",
    "    \\Psi_t^{(0)} \\\\\n",
    "    \\Psi_t^{(1)} \\\\\n",
    "    \\vdots \\\\\n",
    "    \\Psi_t^{(N_\\text{trunc}-1)} \\\\\n",
    "    \\end{pmatrix}\n",
    "\\end{equation}"
   ]
  },
  {
   "cell_type": "markdown",
   "id": "8d66c6f9",
   "metadata": {},
   "source": [
    "We can split the function into a \"linear\", a \"non-linear\" and a \"noise\" part:\n",
    "\n",
    "\\begin{equation}\n",
    "f^{(k)}\\left(t, \\boldsymbol{\\Psi}_t\\right) = \\left(M_\\text{linear} + \\tilde{z}_t^* \\cdot M_\\text{noise} + \\left\\langle L^\\dagger\\right\\rangle \\cdot M_\\text{non-linear}\\right) \\boldsymbol{\\Psi}_t.\n",
    "\\end{equation}\n",
    "\n",
    "The linear and noise propagator are equal to the propagators in the linear HOPS equation:\n",
    "\n",
    "\\begin{equation}\n",
    "    M_\\text{linear} =\n",
    "    \\begin{pmatrix}\n",
    "        -iH         & -L^\\dagger           & 0                      & \\cdots     &        &        & 0 \\\\\n",
    "        \\alpha(0)L  & -iH-\\omega\\mathbb{1} & -L^{\\dagger}           & 0          & \\cdots &        & 0 \\\\\n",
    "        0           & 2\\alpha(0)L          & -iH-2\\omega\\mathbb{1}  & -L^\\dagger & 0      & \\cdots & 0 \\\\\n",
    "        \\vdots      & \\vdots               & \\vdots                 & \\vdots     & \\vdots & \\vdots & \\vdots \\\\\n",
    "    \\end{pmatrix}\n",
    "\\end{equation}\n",
    "\\begin{equation}\n",
    "    M_\\text{noise} =\n",
    "    \\begin{pmatrix}\n",
    "        L      & 0      & \\cdots &        \\\\\n",
    "        0      & L      & 0      & \\cdots \\\\\n",
    "        \\vdots & 0      & L      & \\ddots \\\\\n",
    "               & \\vdots & \\ddots & \\ddots \\\\\n",
    "    \\end{pmatrix}\n",
    "\\end{equation}\n",
    "The non-linear propagator only has identitys on the diagonal shifted up one entry:\n",
    "\\begin{equation}\n",
    "    M_\\text{non-linear} = \n",
    "    \\begin{pmatrix}\n",
    "        0      & \\mathbb{1} & \\cdots     &        \\\\\n",
    "        0      & 0          & \\mathbb{1} & \\cdots \\\\\n",
    "        \\vdots & 0          & 0          & \\ddots \\\\\n",
    "               & \\vdots & \\ddots & \\ddots \\\\\n",
    "    \\end{pmatrix}\n",
    "\\end{equation}\n",
    "\n",
    "The expectation value of $L^\\dagger$ can be easily computed if we have the state at time $t$:\n",
    "\n",
    "\\begin{equation}\n",
    "    \\left\\langle L^\\dagger\\right\\rangle_t = \\frac{\\left\\langle\\Psi^{(0)}_t\\right|L^\\dagger\\left|\\Psi^{(0)}_t\\right\\rangle}{\\left\\langle\\Psi^{(0)}_t\\middle|\\Psi^{(0)}_t\\right\\rangle}\n",
    "\\end{equation}"
   ]
  },
  {
   "cell_type": "markdown",
   "id": "974ace07",
   "metadata": {},
   "source": [
    "The last remaining problem is the computation of the shifted noise\n",
    "\n",
    "\\begin{equation}\n",
    "    \\tilde{z}_t^* = z_t^*+\\int_0^t\\text{ds}\\alpha^*(t-s)\\left\\langle L^{\\dagger}\\right\\rangle_s\n",
    "\\end{equation}\n",
    "\n",
    "which contains the \"memory term\"\n",
    "\n",
    "\\begin{equation}\n",
    "    z^*_\\text{memory}(t) \\equiv \\int_0^t\\text{ds}\\alpha^*(t-s)\\left\\langle L^{\\dagger}\\right\\rangle_s\n",
    "\\end{equation}\n",
    "\n",
    "To avoid recalculating the memory term at each step, we can also derive an iterative update equation using some approximations:\n",
    "\n",
    "\\begin{equation}\n",
    "\\begin{split}\n",
    "    z^*_\\text{memory}(t+dt) &= \\int_0^{t+dt}\\text{ds}\\,\\alpha^*(t+\\Delta t-s)\\left\\langle L^{\\dagger}\\right\\rangle_s = e^{-\\omega^*\\Delta t} \\int_0^{t+dt}\\text{ds}\\,\\alpha^*(t-s)\\left\\langle L^{\\dagger}\\right\\rangle_s \\\\\n",
    "    &= e^{-\\omega^*\\Delta t} z^*_\\text{memory}(t) + e^{-\\omega^*\\Delta t} \\int_t^{t+dt}\\text{ds}\\,\\alpha^*(t-s)\\left\\langle L^{\\dagger}\\right\\rangle_s \\\\\n",
    "    &\\approx e^{-\\omega^*\\Delta t} z^*_\\text{memory}(t) + e^{-\\omega^*\\Delta t} \\Delta t \\alpha^*(0) \\left\\langle L^{\\dagger}\\right\\rangle_t \\\\\n",
    "    &\\approx z^*_\\text{memory}(t) - \\omega^*\\Delta t \\, z^*_\\text{memory}(t) + \\Delta t \\, g^* \\left\\langle L^{\\dagger}\\right\\rangle_t\n",
    "\\end{split}\n",
    "\\end{equation}"
   ]
  },
  {
   "cell_type": "markdown",
   "id": "75e77115",
   "metadata": {},
   "source": [
    "With this we can update the memory terms using runge-kutta:\n",
    "\n",
    "\\begin{equation}\n",
    "\\begin{split}\n",
    "    z^*_\\text{memory}(t_{n+1}) & = z^*_\\text{memory}(t_n) + \\frac{1}{6}\\left(k_1 + 2k_2 + 2k_3 + k_4\\right)\\cdot \\Delta t \\\\\n",
    "    t_{n} & = t_0 + n\\cdot\\Delta t,\n",
    "\\end{split}\n",
    "\\end{equation}\n",
    "\n",
    "where\n",
    "\n",
    "\\begin{equation}\n",
    "\\begin{split}\n",
    "    k_1^\\prime & = g\\left(z^*_\\text{memory}(t_{n}),\\, t_n,\\, y_n\\right), \\\\\n",
    "    k_2^\\prime & = g\\left(z^*_\\text{memory}(t_{n}) + \\frac{\\Delta t}{2}k_1^\\prime,\\, t_{n+1},\\, y_n + \\frac{\\Delta t}{2}k_1\\right), \\\\\n",
    "    k_3^\\prime & = g\\left(z^*_\\text{memory}(t_{n}) + \\frac{\\Delta t}{2}k_2^\\prime,\\, t_{n+1},\\, y_n + \\frac{\\Delta t}{2}k_2\\right), \\\\\n",
    "    k_4^\\prime & = g\\left(z^*_\\text{memory}(t_{n}) + \\Delta tk_3^\\prime,\\, t_{n+2},\\, y_n + \\Delta tk_3\\right).\n",
    "\\end{split}\n",
    "\\end{equation}\n",
    "\n",
    "and\n",
    "\n",
    "\\begin{equation}\n",
    "    g(z^*_\\text{memory},\\,t,\\,y) = - \\omega^* z^*_\\text{memory}+g^*\\left\\langle L^\\dagger\\right\\rangle_t\n",
    "\\end{equation}"
   ]
  },
  {
   "cell_type": "code",
   "execution_count": 16,
   "id": "c0c009f2",
   "metadata": {},
   "outputs": [],
   "source": [
    "# parameters for the bath correlation functions\n",
    "g = np.array([2])\n",
    "w = np.array([0.5+2j])\n",
    "# time\n",
    "duration = 50\n",
    "# operators\n",
    "sigma_x, sigma_z, eye = operators.generate_physical_operators()\n",
    "h = operators.generate_spin_boson_hamiltonian()\n",
    "L = sigma_z"
   ]
  },
  {
   "cell_type": "code",
   "execution_count": 18,
   "id": "0924a778",
   "metadata": {},
   "outputs": [
    {
     "name": "stdout",
     "output_type": "stream",
     "text": [
      "Without noise:\n"
     ]
    },
    {
     "data": {
      "image/png": "[encoded data removed]",
      "text/plain": [
       "<Figure size 432x288 with 1 Axes>"
      ]
     },
     "metadata": {
      "needs_background": "light"
     },
     "output_type": "display_data"
    },
    {
     "name": "stdout",
     "output_type": "stream",
     "text": [
      "With noise:\n"
     ]
    },
    {
     "data": {
      "image/png": "[encoded data removed]",
      "text/plain": [
       "<Figure size 432x288 with 1 Axes>"
      ]
     },
     "metadata": {
      "needs_background": "light"
     },
     "output_type": "display_data"
    }
   ],
   "source": [
    "N_steps = 1000\n",
    "N_trunc = 8\n",
    "options = {\n",
    "    'linear' : False,\n",
    "    'use_noise' : False,\n",
    "    'method' : 'RK4'\n",
    "}\n",
    "\n",
    "print(\"Without noise:\")\n",
    "my_hops = hops.HOPS_Engine_Simple(g, w, h, L, duration, N_steps, N_trunc, options)\n",
    "psis = my_hops.compute_realizations(1)\n",
    "sigma_zs = compute_exp_val(psis, sigma_z)\n",
    "plt.plot(np.linspace(0, duration, N_steps), sigma_zs, \"-\")\n",
    "plt.ylim(-1, 1)\n",
    "plt.xlim(0, duration)\n",
    "plt.show()\n",
    "\n",
    "print(\"With noise:\")\n",
    "options['use_noise'] = True\n",
    "my_hops = hops.HOPS_Engine_Simple(g, w, h, L, duration, N_steps, N_trunc, options)\n",
    "for i in range(3):\n",
    "    psis = my_hops.compute_realizations(1)\n",
    "    sigma_zs = compute_exp_val(psis, sigma_z)\n",
    "    plt.plot(np.linspace(0, duration, N_steps), sigma_zs, \"-\")\n",
    "plt.ylim(-1, 1)\n",
    "plt.xlim(0, duration)\n",
    "plt.show()"
   ]
  },
  {
   "cell_type": "markdown",
   "id": "875402d0",
   "metadata": {},
   "source": [
    "# Varying the Step Count"
   ]
  },
  {
   "cell_type": "code",
   "execution_count": null,
   "id": "37183f2f",
   "metadata": {},
   "outputs": [],
   "source": [
    "N_steps_list = [500, 1000, 2000]\n",
    "N_trunc = 8\n",
    "N_samples = 1\n",
    "options = {\n",
    "    'linear' : False,\n",
    "    'use_noise' : False,\n",
    "    'method' : 'RK4'\n",
    "}\n",
    "\n",
    "psi_list_step_count_no_noise = []\n",
    "\n",
    "for N_steps in N_steps_list:\n",
    "    print(\"N_steps =\", N_steps)\n",
    "    my_hops = hops.HOPS_Engine_Simple(g, w, h, L, duration, N_steps, N_trunc, options)\n",
    "    psis = my_hops.compute_realizations(N_samples, progressBar=tqdm)\n",
    "    psi_list_step_count_no_noise.append(psis)"
   ]
  },
  {
   "cell_type": "code",
   "execution_count": null,
   "id": "d59f0036",
   "metadata": {},
   "outputs": [],
   "source": [
    "N_steps_list = [500, 1000, 2000]\n",
    "for i, N_steps in enumerate(N_steps_list):\n",
    "    sigma_zs = compute_exp_val(psi_list_step_count_no_noise[i], sigma_z)\n",
    "    plt.plot(np.linspace(0, duration, N_steps), sigma_zs, label=str(N_steps)+\" steps\")\n",
    "plt.legend()\n",
    "plt.xlabel(\"t\")\n",
    "plt.ylabel(\"$<\\sigma_z>$\")\n",
    "plt.ylim(-1, 1)\n",
    "plt.xlim(0, duration)\n",
    "plt.show()"
   ]
  },
  {
   "cell_type": "code",
   "execution_count": null,
   "id": "eec7c26b",
   "metadata": {},
   "outputs": [],
   "source": [
    "N_steps_list = [500, 1000, 2000]\n",
    "N_trunc = 8\n",
    "N_samples = 1000\n",
    "options = {\n",
    "    'linear' : False,\n",
    "    'use_noise' : True,\n",
    "    'method' : 'RK4'\n",
    "}\n",
    "\n",
    "psi_list_step_count = []\n",
    "\n",
    "for N_steps in N_steps_list:\n",
    "    print(\"N_steps =\", N_steps)\n",
    "    my_hops = hops.HOPS_Engine_Simple(g, w, h, L, duration, N_steps, N_trunc, options)\n",
    "    psis = my_hops.compute_realizations(N_samples, progressBar=tqdm)\n",
    "    psi_list_step_count.append(psis)"
   ]
  },
  {
   "cell_type": "code",
   "execution_count": null,
   "id": "5a644f77",
   "metadata": {},
   "outputs": [],
   "source": [
    "N_steps_list = [500, 1000, 2000]\n",
    "for i, N_steps in enumerate(N_steps_list):\n",
    "    sigma_zs = compute_exp_val(psi_list_step_count[i], sigma_z)\n",
    "    plt.plot(np.linspace(0, duration, N_steps), sigma_zs, label=str(N_steps)+\" steps\")\n",
    "plt.legend()\n",
    "plt.xlabel(\"t\")\n",
    "plt.ylabel(\"$<\\sigma_z>$\")\n",
    "plt.ylim(-1, 1)\n",
    "plt.xlim(0, duration)\n",
    "plt.show()"
   ]
  },
  {
   "cell_type": "markdown",
   "id": "ec5b71e6",
   "metadata": {},
   "source": [
    "# Varying the truncation order"
   ]
  },
  {
   "cell_type": "code",
   "execution_count": null,
   "id": "437cbe0f",
   "metadata": {},
   "outputs": [],
   "source": [
    "N_steps = 1000\n",
    "N_trunc_list = [1, 2, 4, 8, 16]\n",
    "N_samples = 1\n",
    "options = {\n",
    "    'linear' : False,\n",
    "    'use_noise' : False,\n",
    "    'method' : 'RK4'\n",
    "}\n",
    "\n",
    "psis_lis_truncation_order_without_noise = []\n",
    "\n",
    "for N_trunc in N_trunc_list:\n",
    "    print(\"N_trunc =\", N_trunc)\n",
    "    my_hops = hops.HOPS_Engine_Simple(g, w, h, L, duration, N_steps, N_trunc, options)\n",
    "    psis = my_hops.compute_realizations(N_samples)\n",
    "    psis_lis_truncation_order_without_noise.append(psis)"
   ]
  },
  {
   "cell_type": "code",
   "execution_count": null,
   "id": "5cfec7bd",
   "metadata": {},
   "outputs": [],
   "source": [
    "N_steps = 1000\n",
    "N_trunc_list = [1, 2, 4, 8, 16]\n",
    "for i, N_trunc in enumerate(N_trunc_list):\n",
    "    sigma_zs = compute_exp_val(psis_lis_truncation_order_without_noise[i], sigma_z)\n",
    "    plt.plot(np.linspace(0, duration, N_steps), sigma_zs, label=\"$N_{trunc} = \"+str(N_trunc)+\"$\")\n",
    "plt.legend()\n",
    "plt.xlabel(\"t\")\n",
    "plt.ylabel(\"$<\\sigma_z>$\")\n",
    "plt.ylim(-1, 1)\n",
    "plt.xlim(0, duration)\n",
    "plt.show()"
   ]
  },
  {
   "cell_type": "code",
   "execution_count": null,
   "id": "45866b1e",
   "metadata": {},
   "outputs": [],
   "source": [
    "N_steps = 1000\n",
    "N_trunc_list = [1, 2, 4, 8, 16]\n",
    "N_samples = 1000\n",
    "options = {\n",
    "    'linear' : False,\n",
    "    'use_noise' : True,\n",
    "    'method' : 'RK4'\n",
    "}\n",
    "\n",
    "psis_list_truncation_order_with_noise = []\n",
    "\n",
    "for N_trunc in N_trunc_list:\n",
    "    print(\"N_trunc =\", N_trunc)\n",
    "    my_hops = hops.HOPS_Engine_Simple(g, w, h, L, duration, N_steps, N_trunc, options)\n",
    "    psis = my_hops.compute_realizations(N_samples, progressBar=tqdm)\n",
    "    psis_list_truncation_order_with_noise.append(psis)"
   ]
  },
  {
   "cell_type": "code",
   "execution_count": null,
   "id": "3497df2f",
   "metadata": {},
   "outputs": [],
   "source": [
    "N_trunc_list = [1, 2, 4, 8, 16]\n",
    "for i, N_trunc in enumerate(N_trunc_list):\n",
    "    sigma_zs = compute_exp_val(psis_list_truncation_order_with_noise[i], sigma_z)\n",
    "    plt.plot(np.linspace(0, duration, N_steps), sigma_zs, label=\"$N_{trunc} = \"+str(N_trunc)+\"$\")\n",
    "plt.legend(loc=\"right\")\n",
    "plt.xlabel(\"t\")\n",
    "plt.ylabel(\"$<\\sigma_z>$\")\n",
    "plt.ylim(-1, 1)\n",
    "plt.xlim(0, duration)\n",
    "plt.show()"
   ]
  },
  {
   "cell_type": "markdown",
   "id": "9009d3f3",
   "metadata": {},
   "source": [
    "# Varying the number of samples"
   ]
  },
  {
   "cell_type": "code",
   "execution_count": 8,
   "id": "8f302e2c",
   "metadata": {},
   "outputs": [],
   "source": [
    "N_steps = 1000\n",
    "N_trunc = 16\n",
    "options = {\n",
    "    'linear' : False,\n",
    "    'use_noise' : True,\n",
    "}"
   ]
  },
  {
   "cell_type": "code",
   "execution_count": 9,
   "id": "f5e6102a",
   "metadata": {},
   "outputs": [],
   "source": [
    "my_hops = hops.HOPS_Engine_Simple(g, w, h, L, duration, N_steps, N_trunc, options)"
   ]
  },
  {
   "cell_type": "code",
   "execution_count": 10,
   "id": "551755c7",
   "metadata": {},
   "outputs": [
    {
     "data": {
      "application/vnd.jupyter.widget-view+json": {
       "model_id": "9745840878b142d5993bb9cd6df78232",
       "version_major": 2,
       "version_minor": 0
      },
      "text/plain": [
       "  0%|          | 0/100 [00:00<?, ?it/s]"
      ]
     },
     "metadata": {},
     "output_type": "display_data"
    }
   ],
   "source": [
    "my_hops.compute_realizations(N_samples=100, progressBar=tqdm, data_path=\"data/nonlinear_100/psi\")"
   ]
  },
  {
   "cell_type": "code",
   "execution_count": 13,
   "id": "fcbb5b72",
   "metadata": {},
   "outputs": [
    {
     "data": {
      "application/vnd.jupyter.widget-view+json": {
       "model_id": "426b50c1f6784f90832d68cf636a9aaa",
       "version_major": 2,
       "version_minor": 0
      },
      "text/plain": [
       "  0%|          | 0/1000 [00:00<?, ?it/s]"
      ]
     },
     "metadata": {},
     "output_type": "display_data"
    }
   ],
   "source": [
    "my_hops.compute_realizations(N_samples=1000, progressBar=tqdm, data_path=\"data/nonlinear_1000/psi\")"
   ]
  },
  {
   "cell_type": "code",
   "execution_count": null,
   "id": "9d0782ed",
   "metadata": {},
   "outputs": [],
   "source": [
    "psis_10000 = hops.compute_realizations(N_samples=10000, progressBar=tqdm)"
   ]
  },
  {
   "cell_type": "code",
   "execution_count": 14,
   "id": "bf4ed67d",
   "metadata": {},
   "outputs": [],
   "source": [
    "psis_100 = np.array([np.load(\"data/nonlinear_100/psi\"+str(n)+\".npy\") for n in range(100)])\n",
    "psis_1000 = np.array([np.load(\"data/nonlinear_1000/psi\"+str(n)+\".npy\") for n in range(1000)])\n",
    "#psis_10000 = np.array([np.load(\"data/nonlinear_10000/psi\"+str(n)+\".npy\") for n in range(10000)])\n",
    "sigma_zs_100 = compute_exp_val(psis_100, sigma_z)\n",
    "sigma_zs_1000 = compute_exp_val(psis_1000, sigma_z)\n",
    "#sigma_zs_10000 = compute_exp_val(psis_10000, sigma_z)"
   ]
  },
  {
   "cell_type": "code",
   "execution_count": 15,
   "id": "1b6bf0c4",
   "metadata": {},
   "outputs": [
    {
     "data": {
      "image/png": "[encoded data removed]",
      "text/plain": [
       "<Figure size 432x288 with 1 Axes>"
      ]
     },
     "metadata": {
      "needs_background": "light"
     },
     "output_type": "display_data"
    }
   ],
   "source": [
    "plt.plot(np.linspace(0, duration, N_steps), sigma_zs_100, label=\"100 samples\")\n",
    "plt.plot(np.linspace(0, duration, N_steps), sigma_zs_1000, label=\"1000 samples\")\n",
    "#plt.plot(np.linspace(0, duration, N_steps), sigma_zs_10000, label=\"10000 samples\")\n",
    "plt.legend(loc=\"upper right\")\n",
    "plt.xlabel(\"t\")\n",
    "plt.ylabel(\"$<\\sigma_z>$\")\n",
    "plt.ylim(-1, 1)\n",
    "plt.xlim(0, duration)\n",
    "plt.show()"
   ]
  },
  {
   "cell_type": "code",
   "execution_count": null,
   "id": "a3f54a6c",
   "metadata": {},
   "outputs": [],
   "source": [
    "plt.plot(np.linspace(0, duration, N_steps), sigma_zs_100, label=\"100 samples\")\n",
    "plt.plot(np.linspace(0, duration, N_steps), sigma_zs_1000, label=\"1000 samples\")\n",
    "#plt.plot(np.linspace(0, duration, N_steps), sigma_zs_10000, label=\"10000 samples\")\n",
    "plt.legend()\n",
    "plt.ylim(-1, 1)\n",
    "plt.xlim(0, duration)\n",
    "plt.xlabel(\"t\")\n",
    "plt.ylabel(\"$<\\sigma_z>$\")\n",
    "plt.show()"
   ]
  },
  {
   "cell_type": "markdown",
   "id": "7420e056",
   "metadata": {},
   "source": [
    "# Test if the memory terms are updated correctly"
   ]
  },
  {
   "cell_type": "code",
   "execution_count": null,
   "id": "6a972606",
   "metadata": {},
   "outputs": [],
   "source": [
    "N_steps = 1000\n",
    "N_trunc = 16\n",
    "options = {\n",
    "    'linear' : False,\n",
    "    'use_noise' : True,\n",
    "    'method' : 'RK4'\n",
    "}"
   ]
  },
  {
   "cell_type": "code",
   "execution_count": null,
   "id": "3508c9d3",
   "metadata": {},
   "outputs": [],
   "source": [
    "my_hops = hops.HOPS_Engine_Simple(g, w, h, L, duration, N_steps, N_trunc, options)"
   ]
  },
  {
   "cell_type": "code",
   "execution_count": null,
   "id": "d559eab3",
   "metadata": {},
   "outputs": [],
   "source": [
    "psis = my_hops.compute_realizations(1, compute_debug_info=True)"
   ]
  },
  {
   "cell_type": "code",
   "execution_count": null,
   "id": "dcf269dd",
   "metadata": {},
   "outputs": [],
   "source": [
    "# compute memory by approximating the integrals with sums\n",
    "def compute_memory(psis, t_index, expLs):\n",
    "    result = np.array([0], dtype=complex)\n",
    "    for s_index in range(t_index):\n",
    "        result += np.conj(bath_correlation_function.alpha(my_hops.ts[t_index*2] - my_hops.ts[s_index*2], g, w)) * expLs[s_index]\n",
    "    return (result * my_hops.dt).item()"
   ]
  },
  {
   "cell_type": "code",
   "execution_count": null,
   "id": "603ae8b4",
   "metadata": {},
   "outputs": [],
   "source": [
    "memory_compare = []\n",
    "expLs = []\n",
    "for t_index in tqdm(range(N_steps)):\n",
    "    expLs.append(np.real_if_close((np.conj(psis[0, t_index, :]).T@sigma_z@psis[0, t_index, :])/(np.conj(psis[0, t_index, :]).T@psis[0, t_index, :]))) \n",
    "for t_index in tqdm(range(N_steps)):\n",
    "    memory_compare.append(compute_memory(psis, t_index, expLs))"
   ]
  },
  {
   "cell_type": "code",
   "execution_count": null,
   "id": "dfe2ea69",
   "metadata": {},
   "outputs": [],
   "source": [
    "plt.plot(np.real(my_hops.debug_info['memory'][0]), np.imag(my_hops.debug_info['memory'][0]), \"o-\", label=\"RK4\")\n",
    "plt.plot(np.real(memory_compare), np.imag(memory_compare), \"o-\", label=\"exact\")\n",
    "plt.legend()\n",
    "plt.show()"
   ]
  },
  {
   "cell_type": "code",
   "execution_count": null,
   "id": "7abb73b9",
   "metadata": {},
   "outputs": [],
   "source": [
    "plt.plot(np.abs(my_hops.debug_info['memory'][0] - np.array(memory_compare)))\n",
    "plt.show()"
   ]
  }
 ],
 "metadata": {
  "kernelspec": {
   "display_name": "Python 3",
   "language": "python",
   "name": "python3"
  },
  "language_info": {
   "codemirror_mode": {
    "name": "ipython",
    "version": 3
   },
   "file_extension": ".py",
   "mimetype": "text/x-python",
   "name": "python",
   "nbconvert_exporter": "python",
   "pygments_lexer": "ipython3",
   "version": "3.8.5"
  }
 },
 "nbformat": 4,
 "nbformat_minor": 5
}
