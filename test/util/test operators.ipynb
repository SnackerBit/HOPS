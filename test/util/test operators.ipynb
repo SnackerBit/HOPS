{
 "cells": [
  {
   "cell_type": "code",
   "execution_count": 1,
   "id": "a7259345",
   "metadata": {},
   "outputs": [],
   "source": [
    "%load_ext autoreload\n",
    "%autoreload 2"
   ]
  },
  {
   "cell_type": "code",
   "execution_count": 2,
   "id": "212b94db",
   "metadata": {},
   "outputs": [],
   "source": [
    "import sys\n",
    "sys.path.append(\"../../\")\n",
    "from src.util import operators"
   ]
  },
  {
   "cell_type": "markdown",
   "id": "50327cae",
   "metadata": {},
   "source": [
    "# Physical operators"
   ]
  },
  {
   "cell_type": "code",
   "execution_count": 3,
   "id": "a993abd8",
   "metadata": {},
   "outputs": [
    {
     "name": "stdout",
     "output_type": "stream",
     "text": [
      "sigma_x:\n",
      "[[0.+0.j 1.+0.j]\n",
      " [1.+0.j 0.+0.j]]\n",
      "\n",
      "sigma_z:\n",
      "[[ 1.+0.j  0.+0.j]\n",
      " [ 0.+0.j -1.+0.j]]\n",
      "\n",
      "eye:\n",
      "[[1.+0.j 0.+0.j]\n",
      " [0.+0.j 1.+0.j]]\n"
     ]
    }
   ],
   "source": [
    "sigma_x, sigma_z, eye = operators.generate_physical_operators()\n",
    "print(\"sigma_x:\")\n",
    "print(sigma_x)\n",
    "print(\"\\nsigma_z:\")\n",
    "print(sigma_z)\n",
    "print(\"\\neye:\")\n",
    "print(eye)"
   ]
  },
  {
   "cell_type": "code",
   "execution_count": 4,
   "id": "4ea12d0c",
   "metadata": {},
   "outputs": [
    {
     "name": "stdout",
     "output_type": "stream",
     "text": [
      "sigma_x:\n",
      "  (0, 1)\t(1+0j)\n",
      "  (1, 0)\t(1+0j)\n",
      "\n",
      "sigma_z:\n",
      "  (0, 0)\t(1+0j)\n",
      "  (1, 1)\t(-1+0j)\n",
      "\n",
      "eye:\n",
      "  (0, 0)\t(1+0j)\n",
      "  (1, 1)\t(1+0j)\n"
     ]
    }
   ],
   "source": [
    "sigma_x, sigma_z, eye = operators.generate_physical_operators_sparse()\n",
    "print(\"sigma_x:\")\n",
    "print(sigma_x)\n",
    "print(\"\\nsigma_z:\")\n",
    "print(sigma_z)\n",
    "print(\"\\neye:\")\n",
    "print(eye)"
   ]
  },
  {
   "cell_type": "markdown",
   "id": "afb25be1",
   "metadata": {},
   "source": [
    "# Spin-boson system hamiltonian"
   ]
  },
  {
   "cell_type": "code",
   "execution_count": 5,
   "id": "039904ff",
   "metadata": {},
   "outputs": [],
   "source": [
    "delta = 1\n",
    "epsilon = 2"
   ]
  },
  {
   "cell_type": "code",
   "execution_count": 6,
   "id": "db8bf940",
   "metadata": {},
   "outputs": [
    {
     "name": "stdout",
     "output_type": "stream",
     "text": [
      "H:\n",
      "[[ 1. +0.j -0.5+0.j]\n",
      " [-0.5+0.j -1. +0.j]]\n"
     ]
    }
   ],
   "source": [
    "H = operators.generate_spin_boson_hamiltonian(delta, epsilon)\n",
    "print(\"H:\")\n",
    "print(H)"
   ]
  },
  {
   "cell_type": "code",
   "execution_count": 7,
   "id": "1f64c793",
   "metadata": {},
   "outputs": [
    {
     "name": "stdout",
     "output_type": "stream",
     "text": [
      "H:\n",
      "  (0, 0)\t(1+0j)\n",
      "  (0, 1)\t(-0.5+0j)\n",
      "  (1, 0)\t(-0.5+0j)\n",
      "  (1, 1)\t(-1+0j)\n"
     ]
    }
   ],
   "source": [
    "H = operators.generate_spin_boson_hamiltonian_sparse(delta, epsilon)\n",
    "print(\"H:\")\n",
    "print(H)"
   ]
  },
  {
   "cell_type": "markdown",
   "id": "8bc994c4",
   "metadata": {},
   "source": [
    "# Auxillary operators"
   ]
  },
  {
   "cell_type": "code",
   "execution_count": 8,
   "id": "faa38c05",
   "metadata": {},
   "outputs": [],
   "source": [
    "N_trunc = 5"
   ]
  },
  {
   "cell_type": "code",
   "execution_count": 9,
   "id": "c9065ca2",
   "metadata": {},
   "outputs": [
    {
     "name": "stdout",
     "output_type": "stream",
     "text": [
      "N:\n",
      "[[0.+0.j 0.+0.j 0.+0.j 0.+0.j 0.+0.j]\n",
      " [0.+0.j 1.+0.j 0.+0.j 0.+0.j 0.+0.j]\n",
      " [0.+0.j 0.+0.j 2.+0.j 0.+0.j 0.+0.j]\n",
      " [0.+0.j 0.+0.j 0.+0.j 3.+0.j 0.+0.j]\n",
      " [0.+0.j 0.+0.j 0.+0.j 0.+0.j 4.+0.j]]\n",
      "\n",
      "b_dagger:\n",
      "[[0.        +0.j 0.        +0.j 0.        +0.j 0.        +0.j\n",
      "  0.        +0.j]\n",
      " [1.        +0.j 0.        +0.j 0.        +0.j 0.        +0.j\n",
      "  0.        +0.j]\n",
      " [0.        +0.j 1.41421356+0.j 0.        +0.j 0.        +0.j\n",
      "  0.        +0.j]\n",
      " [0.        +0.j 0.        +0.j 1.73205081+0.j 0.        +0.j\n",
      "  0.        +0.j]\n",
      " [0.        +0.j 0.        +0.j 0.        +0.j 2.        +0.j\n",
      "  0.        +0.j]]\n",
      "\n",
      "b:\n",
      "[[0.        +0.j 1.        +0.j 0.        +0.j 0.        +0.j\n",
      "  0.        +0.j]\n",
      " [0.        +0.j 0.        +0.j 1.41421356+0.j 0.        +0.j\n",
      "  0.        +0.j]\n",
      " [0.        +0.j 0.        +0.j 0.        +0.j 1.73205081+0.j\n",
      "  0.        +0.j]\n",
      " [0.        +0.j 0.        +0.j 0.        +0.j 0.        +0.j\n",
      "  2.        +0.j]\n",
      " [0.        +0.j 0.        +0.j 0.        +0.j 0.        +0.j\n",
      "  0.        +0.j]]\n",
      "\n",
      "eye_aux:\n",
      "[[1.+0.j 0.+0.j 0.+0.j 0.+0.j 0.+0.j]\n",
      " [0.+0.j 1.+0.j 0.+0.j 0.+0.j 0.+0.j]\n",
      " [0.+0.j 0.+0.j 1.+0.j 0.+0.j 0.+0.j]\n",
      " [0.+0.j 0.+0.j 0.+0.j 1.+0.j 0.+0.j]\n",
      " [0.+0.j 0.+0.j 0.+0.j 0.+0.j 1.+0.j]]\n"
     ]
    }
   ],
   "source": [
    "N, b_dagger, b, eye_aux = operators.generate_auxiallary_operators(N_trunc)\n",
    "print(\"N:\")\n",
    "print(N)\n",
    "print(\"\\nb_dagger:\")\n",
    "print(b_dagger)\n",
    "print(\"\\nb:\")\n",
    "print(b)\n",
    "print(\"\\neye_aux:\")\n",
    "print(eye_aux)"
   ]
  },
  {
   "cell_type": "code",
   "execution_count": 10,
   "id": "f948f6af",
   "metadata": {},
   "outputs": [
    {
     "name": "stdout",
     "output_type": "stream",
     "text": [
      "N:\n",
      "  (1, 1)\t(1+0j)\n",
      "  (2, 2)\t(2+0j)\n",
      "  (3, 3)\t(3+0j)\n",
      "  (4, 4)\t(4+0j)\n",
      "\n",
      "b_dagger:\n",
      "  (1, 0)\t(1+0j)\n",
      "  (2, 1)\t(1.4142135623730951+0j)\n",
      "  (3, 2)\t(1.7320508075688772+0j)\n",
      "  (4, 3)\t(2+0j)\n",
      "\n",
      "b:\n",
      "  (0, 1)\t(1+0j)\n",
      "  (1, 2)\t(1.4142135623730951+0j)\n",
      "  (2, 3)\t(1.7320508075688772+0j)\n",
      "  (3, 4)\t(2+0j)\n",
      "\n",
      "eye_aux:\n",
      "  (0, 0)\t(1+0j)\n",
      "  (1, 1)\t(1+0j)\n",
      "  (2, 2)\t(1+0j)\n",
      "  (3, 3)\t(1+0j)\n",
      "  (4, 4)\t(1+0j)\n"
     ]
    }
   ],
   "source": [
    "N_trunc = 5\n",
    "N, b_dagger, b, eye_aux = operators.generate_auxiallary_operators_sparse(N_trunc)\n",
    "print(\"N:\")\n",
    "print(N)\n",
    "print(\"\\nb_dagger:\")\n",
    "print(b_dagger)\n",
    "print(\"\\nb:\")\n",
    "print(b)\n",
    "print(\"\\neye_aux:\")\n",
    "print(eye_aux)"
   ]
  }
 ],
 "metadata": {
  "kernelspec": {
   "display_name": "Python 3",
   "language": "python",
   "name": "python3"
  },
  "language_info": {
   "codemirror_mode": {
    "name": "ipython",
    "version": 3
   },
   "file_extension": ".py",
   "mimetype": "text/x-python",
   "name": "python",
   "nbconvert_exporter": "python",
   "pygments_lexer": "ipython3",
   "version": "3.8.5"
  }
 },
 "nbformat": 4,
 "nbformat_minor": 5
}
