{
 "cells": [
  {
   "cell_type": "code",
   "execution_count": 1,
   "id": "52186476",
   "metadata": {},
   "outputs": [],
   "source": [
    "import numpy as np\n",
    "from scipy.linalg import expm\n",
    "import time\n",
    "import sys\n",
    "sys.path.append(\"../../\")\n",
    "from src.util import krylov"
   ]
  },
  {
   "cell_type": "markdown",
   "id": "1ab76288",
   "metadata": {},
   "source": [
    "# Correctness"
   ]
  },
  {
   "cell_type": "code",
   "execution_count": 2,
   "id": "d42ee33a",
   "metadata": {},
   "outputs": [],
   "source": [
    "def compute_expmv_scipy(A, v):\n",
    "    return expm(A)@v\n",
    "\n",
    "def compute_expmv_krylov(A, v):\n",
    "    Afunc = lambda v : A@v\n",
    "    return krylov.expm_krylov(Afunc, v, 1, min(int(v.size/10), 10))"
   ]
  },
  {
   "cell_type": "code",
   "execution_count": 3,
   "id": "2384b69d",
   "metadata": {},
   "outputs": [],
   "source": [
    "\"\"\"\n",
    "Computes exp(A)*v using scipy.linalg.expm and krylov.expm_krylov. Computes the error of the krylov method \n",
    "with respect to the scipy method\n",
    "\n",
    "Parameters\n",
    "----------\n",
    "A : np.ndarray\n",
    "    the (N, N) matrix A\n",
    "v : np.ndarray\n",
    "    the (N,) vector v onto which exp(A) should be applied\n",
    "\n",
    "Returns\n",
    "-------\n",
    "float :\n",
    "    the relative error norm(result_scipy - result_krylov)/norm(result_scipy)\n",
    "\"\"\"\n",
    "def test_matrix_exp(A, v):\n",
    "    # Compute using scipy\n",
    "    result_scipy = compute_expmv_scipy(A, v)\n",
    "    # Compute using krylov\n",
    "    result_krylov = compute_expmv_krylov(A, v)\n",
    "    return np.linalg.norm(result_scipy - result_krylov)/np.linalg.norm(result_scipy)"
   ]
  },
  {
   "cell_type": "code",
   "execution_count": 4,
   "id": "03d61fdc",
   "metadata": {},
   "outputs": [],
   "source": [
    "N = 100\n",
    "N_samples = 1000\n",
    "errors = []\n",
    "for i in range(N_samples):\n",
    "    A = np.random.random((N, N))\n",
    "    v = np.random.random(N)\n",
    "    errors.append(test_matrix_exp(A, v))"
   ]
  },
  {
   "cell_type": "code",
   "execution_count": 5,
   "id": "8f74f37d",
   "metadata": {},
   "outputs": [
    {
     "name": "stdout",
     "output_type": "stream",
     "text": [
      "mean error of krylov: 3.179149432789258e-12\n"
     ]
    }
   ],
   "source": [
    "print(\"mean error of krylov:\", np.mean(errors))"
   ]
  },
  {
   "cell_type": "code",
   "execution_count": 6,
   "id": "03463600",
   "metadata": {},
   "outputs": [],
   "source": [
    "N = 500\n",
    "N_samples = 100\n",
    "errors = []\n",
    "for i in range(N_samples):\n",
    "    A = np.random.random((N, N))\n",
    "    v = np.random.random(N)\n",
    "    errors.append(test_matrix_exp(A, v))"
   ]
  },
  {
   "cell_type": "code",
   "execution_count": 7,
   "id": "83c0b96f",
   "metadata": {},
   "outputs": [
    {
     "name": "stdout",
     "output_type": "stream",
     "text": [
      "mean error of krylov: 1.3815420955809911e-13\n"
     ]
    }
   ],
   "source": [
    "print(\"mean error of krylov:\", np.mean(errors))"
   ]
  },
  {
   "cell_type": "markdown",
   "id": "4142849e",
   "metadata": {},
   "source": [
    "relative error is very low."
   ]
  },
  {
   "cell_type": "markdown",
   "id": "52df53c2",
   "metadata": {},
   "source": [
    "# Time improvements"
   ]
  },
  {
   "cell_type": "code",
   "execution_count": 163,
   "id": "e8b4c883",
   "metadata": {},
   "outputs": [],
   "source": [
    "A = np.random.random((100, 100))\n",
    "v = np.random.random(100)"
   ]
  },
  {
   "cell_type": "code",
   "execution_count": 164,
   "id": "b95726dc",
   "metadata": {},
   "outputs": [
    {
     "name": "stdout",
     "output_type": "stream",
     "text": [
      "2.78 ms ± 260 µs per loop (mean ± std. dev. of 7 runs, 100 loops each)\n"
     ]
    }
   ],
   "source": [
    "%timeit compute_expmv_scipy(A, v)"
   ]
  },
  {
   "cell_type": "code",
   "execution_count": 165,
   "id": "badb3dc9",
   "metadata": {},
   "outputs": [
    {
     "name": "stdout",
     "output_type": "stream",
     "text": [
      "1.75 ms ± 105 µs per loop (mean ± std. dev. of 7 runs, 1000 loops each)\n"
     ]
    }
   ],
   "source": [
    "%timeit compute_expmv_krylov(A, v)"
   ]
  },
  {
   "cell_type": "code",
   "execution_count": 166,
   "id": "03899a07",
   "metadata": {},
   "outputs": [],
   "source": [
    "A = np.random.random((1000, 1000))\n",
    "v = np.random.random(1000)"
   ]
  },
  {
   "cell_type": "code",
   "execution_count": 167,
   "id": "568eb977",
   "metadata": {},
   "outputs": [
    {
     "name": "stdout",
     "output_type": "stream",
     "text": [
      "372 ms ± 21.8 ms per loop (mean ± std. dev. of 7 runs, 1 loop each)\n"
     ]
    }
   ],
   "source": [
    "%timeit compute_expmv_scipy(A, v)"
   ]
  },
  {
   "cell_type": "code",
   "execution_count": 168,
   "id": "6b0bcd46",
   "metadata": {},
   "outputs": [
    {
     "name": "stdout",
     "output_type": "stream",
     "text": [
      "17.3 ms ± 785 µs per loop (mean ± std. dev. of 7 runs, 100 loops each)\n"
     ]
    }
   ],
   "source": [
    "%timeit compute_expmv_krylov(A, v)"
   ]
  },
  {
   "cell_type": "markdown",
   "id": "5b2f9f0f",
   "metadata": {},
   "source": [
    "Significant better runtime!"
   ]
  }
 ],
 "metadata": {
  "kernelspec": {
   "display_name": "Python 3 (ipykernel)",
   "language": "python",
   "name": "python3"
  },
  "language_info": {
   "codemirror_mode": {
    "name": "ipython",
    "version": 3
   },
   "file_extension": ".py",
   "mimetype": "text/x-python",
   "name": "python",
   "nbconvert_exporter": "python",
   "pygments_lexer": "ipython3",
   "version": "3.9.7"
  }
 },
 "nbformat": 4,
 "nbformat_minor": 5
}
