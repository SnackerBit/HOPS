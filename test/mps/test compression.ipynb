{
 "cells": [
  {
   "cell_type": "code",
   "execution_count": 1,
   "id": "6d4eb396",
   "metadata": {},
   "outputs": [],
   "source": [
    "%load_ext autoreload\n",
    "%autoreload 2"
   ]
  },
  {
   "cell_type": "code",
   "execution_count": 2,
   "id": "b5ca640d",
   "metadata": {},
   "outputs": [],
   "source": [
    "import numpy as np\n",
    "import scipy\n",
    "import matplotlib.pyplot as plt\n",
    "import time\n",
    "from tqdm.notebook import tqdm\n",
    "import sys\n",
    "import helper_functions\n",
    "sys.path.append(\"../../\")\n",
    "from src.mps import mps"
   ]
  },
  {
   "cell_type": "markdown",
   "id": "1298cd8d",
   "metadata": {},
   "source": [
    "# Generating ground state of TFI model"
   ]
  },
  {
   "cell_type": "code",
   "execution_count": 3,
   "id": "53062b4e",
   "metadata": {},
   "outputs": [
    {
     "name": "stdout",
     "output_type": "stream",
     "text": [
      "ground state energy: -17.47100405473179\n"
     ]
    }
   ],
   "source": [
    "L = 14\n",
    "g = 1\n",
    "J = 1\n",
    "H = helper_functions.generate_TFI_Hamiltonian(L, J, g)\n",
    "sparse_res = scipy.sparse.linalg.eigsh(H, 1, which='SA')\n",
    "print(\"ground state energy:\", sparse_res[0][0])\n",
    "psi_0 = sparse_res[1][:, 0]"
   ]
  },
  {
   "cell_type": "code",
   "execution_count": 4,
   "id": "a643cfe1",
   "metadata": {},
   "outputs": [
    {
     "name": "stdout",
     "output_type": "stream",
     "text": [
      "norm: 0.9999999999999999\n"
     ]
    }
   ],
   "source": [
    "mps_psi_0_exact = mps.MPS.initialize_from_state_vector(psi_0, L, 1000)\n",
    "psi_0_compare = mps_psi_0_exact.to_state_vector()\n",
    "print(\"norm:\", mps_psi_0_exact.norm)"
   ]
  },
  {
   "cell_type": "code",
   "execution_count": 5,
   "id": "93150701",
   "metadata": {},
   "outputs": [
    {
     "name": "stdout",
     "output_type": "stream",
     "text": [
      "True\n",
      "2.5673907444456745e-15\n"
     ]
    }
   ],
   "source": [
    "print(np.all(np.isclose(psi_0, psi_0_compare)))\n",
    "print(np.max(np.abs(psi_0 - psi_0_compare)))"
   ]
  },
  {
   "cell_type": "code",
   "execution_count": 6,
   "id": "85285a4a",
   "metadata": {},
   "outputs": [
    {
     "name": "stdout",
     "output_type": "stream",
     "text": [
      "norm: 0.9999999999999992\n"
     ]
    }
   ],
   "source": [
    "mps_psi_0_compressed = mps_psi_0_exact.copy()\n",
    "mps_psi_0_compressed.compress(100, 0)\n",
    "psi_0_compressed_compare = mps_psi_0_compressed.to_state_vector()\n",
    "print(\"norm:\", mps_psi_0_compressed.norm)"
   ]
  },
  {
   "cell_type": "code",
   "execution_count": 7,
   "id": "51aecf88",
   "metadata": {},
   "outputs": [
    {
     "name": "stdout",
     "output_type": "stream",
     "text": [
      "True\n",
      "3.4139358007223564e-15\n"
     ]
    }
   ],
   "source": [
    "print(np.all(np.isclose(psi_0, psi_0_compressed_compare)))\n",
    "print(np.max(np.abs(psi_0 - psi_0_compressed_compare)))"
   ]
  }
 ],
 "metadata": {
  "kernelspec": {
   "display_name": "Python 3 (ipykernel)",
   "language": "python",
   "name": "python3"
  },
  "language_info": {
   "codemirror_mode": {
    "name": "ipython",
    "version": 3
   },
   "file_extension": ".py",
   "mimetype": "text/x-python",
   "name": "python",
   "nbconvert_exporter": "python",
   "pygments_lexer": "ipython3",
   "version": "3.9.7"
  }
 },
 "nbformat": 4,
 "nbformat_minor": 5
}
