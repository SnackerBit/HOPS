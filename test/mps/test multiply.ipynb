{
 "cells": [
  {
   "cell_type": "code",
   "execution_count": 1,
   "id": "2d6f4b1f",
   "metadata": {},
   "outputs": [],
   "source": [
    "%load_ext autoreload\n",
    "%autoreload 2"
   ]
  },
  {
   "cell_type": "code",
   "execution_count": 2,
   "id": "1837e9d8",
   "metadata": {},
   "outputs": [],
   "source": [
    "import numpy as np\n",
    "import scipy\n",
    "import matplotlib.pyplot as plt\n",
    "import time\n",
    "from tqdm.notebook import tqdm\n",
    "import sys\n",
    "import helper_functions\n",
    "sys.path.append(\"../../\")\n",
    "from src.mps import mps\n",
    "from src.mps import multiplication\n",
    "from src.mps import tfi_model"
   ]
  },
  {
   "cell_type": "markdown",
   "id": "81d7729b",
   "metadata": {},
   "source": [
    "# Generating ground state of TFI model"
   ]
  },
  {
   "cell_type": "code",
   "execution_count": 3,
   "id": "9313493f",
   "metadata": {},
   "outputs": [
    {
     "name": "stdout",
     "output_type": "stream",
     "text": [
      "ground state energy: -17.47100405473179\n"
     ]
    }
   ],
   "source": [
    "L = 14\n",
    "g = 1\n",
    "J = 1\n",
    "H = helper_functions.generate_TFI_Hamiltonian(L, J, g)\n",
    "sparse_res = scipy.sparse.linalg.eigsh(H, 1, which='SA')\n",
    "print(\"ground state energy:\", sparse_res[0][0])\n",
    "psi_0 = sparse_res[1][:, 0]"
   ]
  },
  {
   "cell_type": "code",
   "execution_count": 4,
   "id": "60e55cae",
   "metadata": {},
   "outputs": [],
   "source": [
    "mps_psi_0_exact = mps.MPS.initialize_from_state_vector(psi_0, L, 1000)\n",
    "psi_0_compare = mps_psi_0_exact.to_state_vector()"
   ]
  },
  {
   "cell_type": "code",
   "execution_count": 5,
   "id": "2daedfd3",
   "metadata": {},
   "outputs": [
    {
     "name": "stdout",
     "output_type": "stream",
     "text": [
      "True\n",
      "2.5673907444456745e-15\n"
     ]
    }
   ],
   "source": [
    "print(np.all(np.isclose(psi_0, psi_0_compare)))\n",
    "print(np.max(np.abs(psi_0 - psi_0_compare)))"
   ]
  },
  {
   "cell_type": "markdown",
   "id": "8d36d963",
   "metadata": {},
   "source": [
    "# Testing if multiplying has the correct effect"
   ]
  },
  {
   "cell_type": "code",
   "execution_count": 6,
   "id": "7d9a6b24",
   "metadata": {},
   "outputs": [],
   "source": [
    "model = tfi_model.TFIModel(14, 1., 1.)"
   ]
  },
  {
   "cell_type": "code",
   "execution_count": 11,
   "id": "b3e8c8ee",
   "metadata": {},
   "outputs": [],
   "source": [
    "mps_psi_0_exact = mps.MPS.initialize_from_state_vector(psi_0, L, 1000)\n",
    "\n",
    "psi_1 = H@psi_0\n",
    "mps_psi_1_exact = multiplication.multiply(mps_psi_0_exact, model.H_mpo, 1000, 0, inplace=False, compress=False)\n",
    "psi_1_compare = mps_psi_1_exact.to_state_vector()"
   ]
  },
  {
   "cell_type": "code",
   "execution_count": 12,
   "id": "dc6470f0",
   "metadata": {},
   "outputs": [
    {
     "name": "stdout",
     "output_type": "stream",
     "text": [
      "True\n",
      "4.085620730620576e-14\n"
     ]
    }
   ],
   "source": [
    "print(np.all(np.isclose(psi_1, psi_1_compare)))\n",
    "print(np.max(np.abs(psi_1 - psi_1_compare)))"
   ]
  },
  {
   "cell_type": "code",
   "execution_count": 15,
   "id": "8eb3794f",
   "metadata": {},
   "outputs": [],
   "source": [
    "psi_all_up = np.zeros(2**L)\n",
    "psi_all_up[0] = 1."
   ]
  },
  {
   "cell_type": "code",
   "execution_count": 16,
   "id": "f5b1261d",
   "metadata": {},
   "outputs": [],
   "source": [
    "mps_psi_0_exact = mps.MPS.initialize_from_state_vector(psi_all_up, L, 1000)\n",
    "\n",
    "psi_1 = H@psi_all_up\n",
    "mps_psi_1_exact = multiplication.multiply(mps_psi_0_exact, model.H_mpo, 1000, 0, inplace=False, compress=False)\n",
    "psi_1_compare = mps_psi_1_exact.to_state_vector()"
   ]
  },
  {
   "cell_type": "code",
   "execution_count": 17,
   "id": "f14ec0ea",
   "metadata": {},
   "outputs": [
    {
     "name": "stdout",
     "output_type": "stream",
     "text": [
      "True\n",
      "0.0\n"
     ]
    }
   ],
   "source": [
    "print(np.all(np.isclose(psi_1, psi_1_compare)))\n",
    "print(np.max(np.abs(psi_1 - psi_1_compare)))"
   ]
  },
  {
   "cell_type": "markdown",
   "id": "82930992",
   "metadata": {},
   "source": [
    "# Testing if normalizing works as expected"
   ]
  },
  {
   "cell_type": "code",
   "execution_count": 19,
   "id": "f3bbe221",
   "metadata": {},
   "outputs": [],
   "source": [
    "mps_psi_1_exact = multiplication.multiply(mps_psi_0_exact, model.H_mpo, 1000, 0, inplace=False, compress=True)"
   ]
  },
  {
   "cell_type": "code",
   "execution_count": 20,
   "id": "3e9dc695",
   "metadata": {},
   "outputs": [
    {
     "name": "stdout",
     "output_type": "stream",
     "text": [
      "1.0000000000000009\n"
     ]
    }
   ],
   "source": [
    "print(helper_functions.overlap(mps_psi_1_exact, mps_psi_1_exact))"
   ]
  },
  {
   "cell_type": "code",
   "execution_count": 21,
   "id": "7b045f56",
   "metadata": {},
   "outputs": [
    {
     "name": "stdout",
     "output_type": "stream",
     "text": [
      "1.0\n"
     ]
    }
   ],
   "source": [
    "print(helper_functions.overlap(mps_psi_0_exact, mps_psi_0_exact))"
   ]
  },
  {
   "cell_type": "code",
   "execution_count": 22,
   "id": "a665adeb",
   "metadata": {},
   "outputs": [
    {
     "name": "stdout",
     "output_type": "stream",
     "text": [
      "0.9999999999999999\n"
     ]
    }
   ],
   "source": [
    "mps_psi_1_exact.compress(3, 0)\n",
    "print(helper_functions.overlap(mps_psi_1_exact, mps_psi_1_exact))"
   ]
  }
 ],
 "metadata": {
  "kernelspec": {
   "display_name": "Python 3 (ipykernel)",
   "language": "python",
   "name": "python3"
  },
  "language_info": {
   "codemirror_mode": {
    "name": "ipython",
    "version": 3
   },
   "file_extension": ".py",
   "mimetype": "text/x-python",
   "name": "python",
   "nbconvert_exporter": "python",
   "pygments_lexer": "ipython3",
   "version": "3.9.7"
  }
 },
 "nbformat": 4,
 "nbformat_minor": 5
}
