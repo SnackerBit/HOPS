{
 "cells": [
  {
   "cell_type": "code",
   "execution_count": 1,
   "id": "9f7c9b4e",
   "metadata": {},
   "outputs": [],
   "source": [
    "%load_ext autoreload\n",
    "%autoreload 2"
   ]
  },
  {
   "cell_type": "code",
   "execution_count": 2,
   "id": "7da298aa",
   "metadata": {},
   "outputs": [],
   "source": [
    "import numpy as np\n",
    "import scipy\n",
    "import matplotlib.pyplot as plt\n",
    "import time\n",
    "from tqdm.notebook import tqdm\n",
    "import sys\n",
    "import helper_functions\n",
    "sys.path.append(\"../../\")\n",
    "from src.mps import mps\n",
    "from src.mps import addition\n",
    "from src.mps import tfi_model"
   ]
  },
  {
   "cell_type": "markdown",
   "id": "430dfcbf",
   "metadata": {},
   "source": [
    "# Test if adding states has the correct effect"
   ]
  },
  {
   "cell_type": "code",
   "execution_count": 3,
   "id": "41b950b7",
   "metadata": {},
   "outputs": [],
   "source": [
    "L = 14"
   ]
  },
  {
   "cell_type": "code",
   "execution_count": 13,
   "id": "572fca2c",
   "metadata": {},
   "outputs": [],
   "source": [
    "psi1 = np.random.random(2**L) + 1.j * np.random.random(2**L)\n",
    "psi2 = np.random.random(2**L) + 1.j * np.random.random(2**L)"
   ]
  },
  {
   "cell_type": "code",
   "execution_count": 14,
   "id": "90779554",
   "metadata": {},
   "outputs": [
    {
     "name": "stdout",
     "output_type": "stream",
     "text": [
      "4.5601929276903843e-14\n",
      "2.39309725413548e-14\n"
     ]
    }
   ],
   "source": [
    "psi1_mps = mps.MPS.initialize_from_state_vector(psi1, L, 1000)\n",
    "print(np.max(np.abs(psi1_mps.to_state_vector() - psi1)))\n",
    "psi2_mps = mps.MPS.initialize_from_state_vector(psi2, L, 1000)\n",
    "print(np.max(np.abs(psi2_mps.to_state_vector() - psi2)))"
   ]
  },
  {
   "cell_type": "code",
   "execution_count": 15,
   "id": "e987bbd2",
   "metadata": {},
   "outputs": [
    {
     "name": "stdout",
     "output_type": "stream",
     "text": [
      "psi1 norm: (104.71923007359511+0j)\n",
      "psi2 norm: (104.26529702004498+0j)\n"
     ]
    }
   ],
   "source": [
    "print(\"psi1 norm:\", psi1_mps.norm)\n",
    "print(\"psi2 norm:\", psi2_mps.norm)"
   ]
  },
  {
   "cell_type": "code",
   "execution_count": 16,
   "id": "35c4e07f",
   "metadata": {},
   "outputs": [],
   "source": [
    "psi_result_mps = addition.add(psi1_mps, psi2_mps, 1000, 0, 1.0)"
   ]
  },
  {
   "cell_type": "code",
   "execution_count": 19,
   "id": "1f95c0c4",
   "metadata": {},
   "outputs": [],
   "source": [
    "psi_result_compare = psi_result_mps[0].to_state_vector()"
   ]
  },
  {
   "cell_type": "code",
   "execution_count": 20,
   "id": "fde06296",
   "metadata": {},
   "outputs": [
    {
     "name": "stdout",
     "output_type": "stream",
     "text": [
      "True\n",
      "7.948811137492397e-14\n"
     ]
    }
   ],
   "source": [
    "print(np.all(np.isclose(psi1+psi2, psi_result_compare)))\n",
    "print(np.max(np.abs(psi1+psi2 - psi_result_compare)))"
   ]
  }
 ],
 "metadata": {
  "kernelspec": {
   "display_name": "Python 3",
   "language": "python",
   "name": "python3"
  },
  "language_info": {
   "codemirror_mode": {
    "name": "ipython",
    "version": 3
   },
   "file_extension": ".py",
   "mimetype": "text/x-python",
   "name": "python",
   "nbconvert_exporter": "python",
   "pygments_lexer": "ipython3",
   "version": "3.8.5"
  }
 },
 "nbformat": 4,
 "nbformat_minor": 5
}
