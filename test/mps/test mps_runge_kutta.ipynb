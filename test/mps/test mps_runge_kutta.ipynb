{
 "cells": [
  {
   "cell_type": "code",
   "execution_count": 1,
   "id": "b753d1ae",
   "metadata": {},
   "outputs": [],
   "source": [
    "%load_ext autoreload\n",
    "%autoreload 2"
   ]
  },
  {
   "cell_type": "code",
   "execution_count": 2,
   "id": "0ddf1fa2",
   "metadata": {},
   "outputs": [],
   "source": [
    "import numpy as np\n",
    "import matplotlib.pyplot as plt\n",
    "import time\n",
    "from tqdm.notebook import tqdm\n",
    "import sys\n",
    "import helper_functions\n",
    "sys.path.append(\"../../\")\n",
    "from src.mps import mps\n",
    "from src.mps import mps_runge_kutta\n",
    "from src.mps import tfi_model\n",
    "from src.mps import multiplication\n",
    "from src.mps import addition"
   ]
  },
  {
   "cell_type": "code",
   "execution_count": 3,
   "id": "d790a3b9",
   "metadata": {},
   "outputs": [],
   "source": [
    "J = 1.\n",
    "g = 1.5\n",
    "chi_max = 10\n",
    "eps = 1.e-15\n",
    "dts = [0.1, 0.01, 0.001]\n",
    "t_stop = 10*J\n",
    "L = 14\n",
    "sigma_z = np.array([[1.0, 0.0], [0.0, -1.0]])\n",
    "sigma_x = np.array([[0.0, 1.0], [1.0, 0.0]])"
   ]
  },
  {
   "cell_type": "code",
   "execution_count": 4,
   "id": "3bb9fe2a",
   "metadata": {},
   "outputs": [],
   "source": [
    "psi_0 = mps.MPS.initialize_spinup(L)\n",
    "psi_0_state = np.zeros(2**L)\n",
    "psi_0_state[0] = 1."
   ]
  },
  {
   "cell_type": "code",
   "execution_count": 5,
   "id": "31698fc5",
   "metadata": {},
   "outputs": [],
   "source": [
    "model = tfi_model.TFIModel(L, J, g)"
   ]
  },
  {
   "cell_type": "code",
   "execution_count": 6,
   "id": "e7921b77",
   "metadata": {},
   "outputs": [
    {
     "name": "stdout",
     "output_type": "stream",
     "text": [
      "(0.9937122098932426-0.11196447610330786j)\n"
     ]
    }
   ],
   "source": [
    "# prepare mpo\n",
    "update_mpo = model.H_mpo\n",
    "factor = np.power(-1.j, 1/L)\n",
    "print(factor)\n",
    "for i in range(len(update_mpo)):\n",
    "    update_mpo[i] = factor * update_mpo[i].copy()"
   ]
  },
  {
   "cell_type": "code",
   "execution_count": 7,
   "id": "10819122",
   "metadata": {},
   "outputs": [
    {
     "name": "stdout",
     "output_type": "stream",
     "text": [
      "Computing dt = 0.1\n"
     ]
    },
    {
     "data": {
      "application/vnd.jupyter.widget-view+json": {
       "model_id": "4dc6c8e436084f5db627ae773f306cc6",
       "version_major": 2,
       "version_minor": 0
      },
      "text/plain": [
       "  0%|          | 0/100 [00:00<?, ?it/s]"
      ]
     },
     "metadata": {},
     "output_type": "display_data"
    },
    {
     "name": "stdout",
     "output_type": "stream",
     "text": [
      "Computing dt = 0.01\n"
     ]
    },
    {
     "data": {
      "application/vnd.jupyter.widget-view+json": {
       "model_id": "1a4b11f5581e4df38413993ac8e2d980",
       "version_major": 2,
       "version_minor": 0
      },
      "text/plain": [
       "  0%|          | 0/1000 [00:00<?, ?it/s]"
      ]
     },
     "metadata": {},
     "output_type": "display_data"
    },
    {
     "name": "stdout",
     "output_type": "stream",
     "text": [
      "Computing dt = 0.001\n"
     ]
    },
    {
     "data": {
      "application/vnd.jupyter.widget-view+json": {
       "model_id": "c9203302c6c34664b1f7deb09a1db25e",
       "version_major": 2,
       "version_minor": 0
      },
      "text/plain": [
       "  0%|          | 0/10000 [00:00<?, ?it/s]"
      ]
     },
     "metadata": {},
     "output_type": "display_data"
    },
    {
     "ename": "KeyboardInterrupt",
     "evalue": "",
     "output_type": "error",
     "traceback": [
      "\u001b[0;31m---------------------------------------------------------------------------\u001b[0m",
      "\u001b[0;31mKeyboardInterrupt\u001b[0m                         Traceback (most recent call last)",
      "\u001b[0;32m<ipython-input-7-5ae10295279d>\u001b[0m in \u001b[0;36m<module>\u001b[0;34m\u001b[0m\n\u001b[1;32m     11\u001b[0m     \u001b[0;32mfor\u001b[0m \u001b[0m_\u001b[0m \u001b[0;32min\u001b[0m \u001b[0mtqdm\u001b[0m\u001b[0;34m(\u001b[0m\u001b[0mrange\u001b[0m\u001b[0;34m(\u001b[0m\u001b[0mN\u001b[0m\u001b[0;34m)\u001b[0m\u001b[0;34m)\u001b[0m\u001b[0;34m:\u001b[0m\u001b[0;34m\u001b[0m\u001b[0;34m\u001b[0m\u001b[0m\n\u001b[1;32m     12\u001b[0m         \u001b[0mms\u001b[0m\u001b[0;34m[\u001b[0m\u001b[0mi\u001b[0m\u001b[0;34m]\u001b[0m\u001b[0;34m.\u001b[0m\u001b[0mappend\u001b[0m\u001b[0;34m(\u001b[0m\u001b[0mnp\u001b[0m\u001b[0;34m.\u001b[0m\u001b[0msum\u001b[0m\u001b[0;34m(\u001b[0m\u001b[0mpsi\u001b[0m\u001b[0;34m.\u001b[0m\u001b[0msite_expectation_value\u001b[0m\u001b[0;34m(\u001b[0m\u001b[0msigma_z\u001b[0m\u001b[0;34m)\u001b[0m\u001b[0;34m)\u001b[0m\u001b[0;34m)\u001b[0m\u001b[0;34m\u001b[0m\u001b[0;34m\u001b[0m\u001b[0m\n\u001b[0;32m---> 13\u001b[0;31m         \u001b[0mpsi\u001b[0m \u001b[0;34m=\u001b[0m \u001b[0mmps_runge_kutta\u001b[0m\u001b[0;34m.\u001b[0m\u001b[0mintegrate_MPS_RK4\u001b[0m\u001b[0;34m(\u001b[0m\u001b[0mpsi\u001b[0m\u001b[0;34m,\u001b[0m \u001b[0mdt\u001b[0m\u001b[0;34m,\u001b[0m \u001b[0mupdate_mpo\u001b[0m\u001b[0;34m,\u001b[0m \u001b[0mchi_max\u001b[0m\u001b[0;34m,\u001b[0m \u001b[0meps\u001b[0m\u001b[0;34m)\u001b[0m\u001b[0;34m\u001b[0m\u001b[0;34m\u001b[0m\u001b[0m\n\u001b[0m\u001b[1;32m     14\u001b[0m         \u001b[0mentropies\u001b[0m\u001b[0;34m[\u001b[0m\u001b[0mi\u001b[0m\u001b[0;34m]\u001b[0m\u001b[0;34m.\u001b[0m\u001b[0mappend\u001b[0m\u001b[0;34m(\u001b[0m\u001b[0mpsi\u001b[0m\u001b[0;34m.\u001b[0m\u001b[0mentanglement_entropy\u001b[0m\u001b[0;34m(\u001b[0m\u001b[0;34m)\u001b[0m\u001b[0;34m[\u001b[0m\u001b[0mL\u001b[0m\u001b[0;34m//\u001b[0m\u001b[0;36m2\u001b[0m\u001b[0;34m]\u001b[0m\u001b[0;34m)\u001b[0m\u001b[0;34m\u001b[0m\u001b[0;34m\u001b[0m\u001b[0m\n",
      "\u001b[0;32m/media/benjamin/Data/Dokumente/Uni/Bachelorarbeit Info/HOPS/src/mps/mps_runge_kutta.py\u001b[0m in \u001b[0;36mintegrate_MPS_RK4\u001b[0;34m(psi, dt, update_mpo, chi_max, eps)\u001b[0m\n\u001b[1;32m     35\u001b[0m     \u001b[0mk1\u001b[0m \u001b[0;34m=\u001b[0m \u001b[0mmultiplication\u001b[0m\u001b[0;34m.\u001b[0m\u001b[0mmultiply\u001b[0m\u001b[0;34m(\u001b[0m\u001b[0mpsi\u001b[0m\u001b[0;34m,\u001b[0m \u001b[0mupdate_mpo\u001b[0m\u001b[0;34m,\u001b[0m \u001b[0mchi_max\u001b[0m\u001b[0;34m,\u001b[0m \u001b[0meps\u001b[0m\u001b[0;34m,\u001b[0m \u001b[0minplace\u001b[0m\u001b[0;34m=\u001b[0m\u001b[0;32mFalse\u001b[0m\u001b[0;34m,\u001b[0m \u001b[0mcompress\u001b[0m\u001b[0;34m=\u001b[0m\u001b[0;32mTrue\u001b[0m\u001b[0;34m)\u001b[0m\u001b[0;34m\u001b[0m\u001b[0;34m\u001b[0m\u001b[0m\n\u001b[1;32m     36\u001b[0m     \u001b[0mtemp\u001b[0m \u001b[0;34m=\u001b[0m \u001b[0maddition\u001b[0m\u001b[0;34m.\u001b[0m\u001b[0madd\u001b[0m\u001b[0;34m(\u001b[0m\u001b[0mpsi\u001b[0m\u001b[0;34m,\u001b[0m \u001b[0mk1\u001b[0m\u001b[0;34m,\u001b[0m \u001b[0mchi_max\u001b[0m\u001b[0;34m,\u001b[0m \u001b[0meps\u001b[0m\u001b[0;34m,\u001b[0m \u001b[0mdt\u001b[0m\u001b[0;34m/\u001b[0m\u001b[0;36m2\u001b[0m\u001b[0;34m,\u001b[0m \u001b[0mcompress\u001b[0m\u001b[0;34m=\u001b[0m\u001b[0;32mFalse\u001b[0m\u001b[0;34m)\u001b[0m\u001b[0;34m\u001b[0m\u001b[0;34m\u001b[0m\u001b[0m\n\u001b[0;32m---> 37\u001b[0;31m     \u001b[0mk2\u001b[0m \u001b[0;34m=\u001b[0m \u001b[0mmultiplication\u001b[0m\u001b[0;34m.\u001b[0m\u001b[0mmultiply\u001b[0m\u001b[0;34m(\u001b[0m\u001b[0mtemp\u001b[0m\u001b[0;34m,\u001b[0m \u001b[0mupdate_mpo\u001b[0m\u001b[0;34m,\u001b[0m \u001b[0mchi_max\u001b[0m\u001b[0;34m,\u001b[0m \u001b[0meps\u001b[0m\u001b[0;34m,\u001b[0m \u001b[0minplace\u001b[0m\u001b[0;34m=\u001b[0m\u001b[0;32mFalse\u001b[0m\u001b[0;34m,\u001b[0m \u001b[0mcompress\u001b[0m\u001b[0;34m=\u001b[0m\u001b[0;32mTrue\u001b[0m\u001b[0;34m)\u001b[0m\u001b[0;34m\u001b[0m\u001b[0;34m\u001b[0m\u001b[0m\n\u001b[0m\u001b[1;32m     38\u001b[0m     \u001b[0mtemp\u001b[0m \u001b[0;34m=\u001b[0m \u001b[0maddition\u001b[0m\u001b[0;34m.\u001b[0m\u001b[0madd\u001b[0m\u001b[0;34m(\u001b[0m\u001b[0mpsi\u001b[0m\u001b[0;34m,\u001b[0m \u001b[0mk2\u001b[0m\u001b[0;34m,\u001b[0m \u001b[0mchi_max\u001b[0m\u001b[0;34m,\u001b[0m \u001b[0meps\u001b[0m\u001b[0;34m,\u001b[0m \u001b[0mdt\u001b[0m\u001b[0;34m/\u001b[0m\u001b[0;36m2\u001b[0m\u001b[0;34m,\u001b[0m \u001b[0mcompress\u001b[0m\u001b[0;34m=\u001b[0m\u001b[0;32mFalse\u001b[0m\u001b[0;34m)\u001b[0m\u001b[0;34m\u001b[0m\u001b[0;34m\u001b[0m\u001b[0m\n\u001b[1;32m     39\u001b[0m     \u001b[0mk3\u001b[0m \u001b[0;34m=\u001b[0m \u001b[0mmultiplication\u001b[0m\u001b[0;34m.\u001b[0m\u001b[0mmultiply\u001b[0m\u001b[0;34m(\u001b[0m\u001b[0mtemp\u001b[0m\u001b[0;34m,\u001b[0m \u001b[0mupdate_mpo\u001b[0m\u001b[0;34m,\u001b[0m \u001b[0mchi_max\u001b[0m\u001b[0;34m,\u001b[0m \u001b[0meps\u001b[0m\u001b[0;34m,\u001b[0m \u001b[0minplace\u001b[0m\u001b[0;34m=\u001b[0m\u001b[0;32mFalse\u001b[0m\u001b[0;34m,\u001b[0m \u001b[0mcompress\u001b[0m\u001b[0;34m=\u001b[0m\u001b[0;32mTrue\u001b[0m\u001b[0;34m)\u001b[0m\u001b[0;34m\u001b[0m\u001b[0;34m\u001b[0m\u001b[0m\n",
      "\u001b[0;32m/media/benjamin/Data/Dokumente/Uni/Bachelorarbeit Info/HOPS/src/mps/multiplication.py\u001b[0m in \u001b[0;36mmultiply\u001b[0;34m(psi, Ws, chi_max, eps, inplace, compress)\u001b[0m\n\u001b[1;32m     64\u001b[0m         \u001b[0mresult\u001b[0m\u001b[0;34m.\u001b[0m\u001b[0mcanonical\u001b[0m \u001b[0;34m=\u001b[0m \u001b[0;32mFalse\u001b[0m\u001b[0;34m\u001b[0m\u001b[0;34m\u001b[0m\u001b[0m\n\u001b[1;32m     65\u001b[0m         \u001b[0;32mif\u001b[0m \u001b[0mcompress\u001b[0m\u001b[0;34m:\u001b[0m\u001b[0;34m\u001b[0m\u001b[0;34m\u001b[0m\u001b[0m\n\u001b[0;32m---> 66\u001b[0;31m             \u001b[0mresult\u001b[0m\u001b[0;34m.\u001b[0m\u001b[0mcompress\u001b[0m\u001b[0;34m(\u001b[0m\u001b[0mchi_max\u001b[0m\u001b[0;34m,\u001b[0m \u001b[0meps\u001b[0m\u001b[0;34m)\u001b[0m\u001b[0;34m\u001b[0m\u001b[0;34m\u001b[0m\u001b[0m\n\u001b[0m\u001b[1;32m     67\u001b[0m         \u001b[0;32mreturn\u001b[0m \u001b[0mresult\u001b[0m\u001b[0;34m\u001b[0m\u001b[0;34m\u001b[0m\u001b[0m\n",
      "\u001b[0;32m/media/benjamin/Data/Dokumente/Uni/Bachelorarbeit Info/HOPS/src/mps/mps.py\u001b[0m in \u001b[0;36mcompress\u001b[0;34m(self, chi_max, eps)\u001b[0m\n\u001b[1;32m    125\u001b[0m             \u001b[0mself\u001b[0m\u001b[0;34m.\u001b[0m\u001b[0mBs\u001b[0m\u001b[0;34m[\u001b[0m\u001b[0mi\u001b[0m\u001b[0;34m]\u001b[0m \u001b[0;34m=\u001b[0m \u001b[0mB\u001b[0m\u001b[0;34m\u001b[0m\u001b[0;34m\u001b[0m\u001b[0m\n\u001b[1;32m    126\u001b[0m             \u001b[0mB\u001b[0m \u001b[0;34m=\u001b[0m \u001b[0mself\u001b[0m\u001b[0;34m.\u001b[0m\u001b[0mBs\u001b[0m\u001b[0;34m[\u001b[0m\u001b[0mi\u001b[0m\u001b[0;34m+\u001b[0m\u001b[0;36m1\u001b[0m\u001b[0;34m]\u001b[0m\u001b[0;34m\u001b[0m\u001b[0;34m\u001b[0m\u001b[0m\n\u001b[0;32m--> 127\u001b[0;31m             \u001b[0mB\u001b[0m \u001b[0;34m=\u001b[0m \u001b[0mnp\u001b[0m\u001b[0;34m.\u001b[0m\u001b[0mtensordot\u001b[0m\u001b[0;34m(\u001b[0m\u001b[0mR\u001b[0m\u001b[0;34m,\u001b[0m \u001b[0mB\u001b[0m\u001b[0;34m,\u001b[0m \u001b[0;34m(\u001b[0m\u001b[0;34m[\u001b[0m\u001b[0;36m1\u001b[0m\u001b[0;34m]\u001b[0m\u001b[0;34m,\u001b[0m \u001b[0;34m[\u001b[0m\u001b[0;36m0\u001b[0m\u001b[0;34m]\u001b[0m\u001b[0;34m)\u001b[0m\u001b[0;34m)\u001b[0m \u001b[0;31m# vL [vR]; [vL] i vR -> vL i vR\u001b[0m\u001b[0;34m\u001b[0m\u001b[0;34m\u001b[0m\u001b[0m\n\u001b[0m\u001b[1;32m    128\u001b[0m \u001b[0;34m\u001b[0m\u001b[0m\n\u001b[1;32m    129\u001b[0m         \u001b[0;31m# sweep right to left using SVDs to compute singular values\u001b[0m\u001b[0;34m\u001b[0m\u001b[0;34m\u001b[0m\u001b[0;34m\u001b[0m\u001b[0m\n",
      "\u001b[0;32m<__array_function__ internals>\u001b[0m in \u001b[0;36mtensordot\u001b[0;34m(*args, **kwargs)\u001b[0m\n",
      "\u001b[0;32m~/.local/lib/python3.8/site-packages/numpy/core/numeric.py\u001b[0m in \u001b[0;36mtensordot\u001b[0;34m(a, b, axes)\u001b[0m\n\u001b[1;32m   1136\u001b[0m     \u001b[0mat\u001b[0m \u001b[0;34m=\u001b[0m \u001b[0ma\u001b[0m\u001b[0;34m.\u001b[0m\u001b[0mtranspose\u001b[0m\u001b[0;34m(\u001b[0m\u001b[0mnewaxes_a\u001b[0m\u001b[0;34m)\u001b[0m\u001b[0;34m.\u001b[0m\u001b[0mreshape\u001b[0m\u001b[0;34m(\u001b[0m\u001b[0mnewshape_a\u001b[0m\u001b[0;34m)\u001b[0m\u001b[0;34m\u001b[0m\u001b[0;34m\u001b[0m\u001b[0m\n\u001b[1;32m   1137\u001b[0m     \u001b[0mbt\u001b[0m \u001b[0;34m=\u001b[0m \u001b[0mb\u001b[0m\u001b[0;34m.\u001b[0m\u001b[0mtranspose\u001b[0m\u001b[0;34m(\u001b[0m\u001b[0mnewaxes_b\u001b[0m\u001b[0;34m)\u001b[0m\u001b[0;34m.\u001b[0m\u001b[0mreshape\u001b[0m\u001b[0;34m(\u001b[0m\u001b[0mnewshape_b\u001b[0m\u001b[0;34m)\u001b[0m\u001b[0;34m\u001b[0m\u001b[0;34m\u001b[0m\u001b[0m\n\u001b[0;32m-> 1138\u001b[0;31m     \u001b[0mres\u001b[0m \u001b[0;34m=\u001b[0m \u001b[0mdot\u001b[0m\u001b[0;34m(\u001b[0m\u001b[0mat\u001b[0m\u001b[0;34m,\u001b[0m \u001b[0mbt\u001b[0m\u001b[0;34m)\u001b[0m\u001b[0;34m\u001b[0m\u001b[0;34m\u001b[0m\u001b[0m\n\u001b[0m\u001b[1;32m   1139\u001b[0m     \u001b[0;32mreturn\u001b[0m \u001b[0mres\u001b[0m\u001b[0;34m.\u001b[0m\u001b[0mreshape\u001b[0m\u001b[0;34m(\u001b[0m\u001b[0molda\u001b[0m \u001b[0;34m+\u001b[0m \u001b[0moldb\u001b[0m\u001b[0;34m)\u001b[0m\u001b[0;34m\u001b[0m\u001b[0;34m\u001b[0m\u001b[0m\n\u001b[1;32m   1140\u001b[0m \u001b[0;34m\u001b[0m\u001b[0m\n",
      "\u001b[0;32m<__array_function__ internals>\u001b[0m in \u001b[0;36mdot\u001b[0;34m(*args, **kwargs)\u001b[0m\n",
      "\u001b[0;31mKeyboardInterrupt\u001b[0m: "
     ]
    }
   ],
   "source": [
    "ms = []\n",
    "entropies = []\n",
    "\n",
    "ms = [[] for i in range(len(dts))]\n",
    "entropies = [[] for i in range(len(dts))]\n",
    "\n",
    "for i, dt in enumerate(dts):\n",
    "    psi = mps.MPS.initialize_spinup(L)\n",
    "    N = (int)(np.ceil(t_stop/dt))\n",
    "    print(\"Computing dt =\", dt)\n",
    "    for _ in tqdm(range(N)):\n",
    "        ms[i].append(np.sum(psi.site_expectation_value(sigma_z)))\n",
    "        psi = mps_runge_kutta.integrate_MPS_RK4(psi, dt, update_mpo, chi_max, eps)\n",
    "        entropies[i].append(psi.entanglement_entropy()[L//2])"
   ]
  },
  {
   "cell_type": "code",
   "execution_count": 8,
   "id": "attended-mounting",
   "metadata": {},
   "outputs": [
    {
     "ename": "ValueError",
     "evalue": "x and y must have same first dimension, but have shapes (10000,) and (18,)",
     "output_type": "error",
     "traceback": [
      "\u001b[0;31m---------------------------------------------------------------------------\u001b[0m",
      "\u001b[0;31mValueError\u001b[0m                                Traceback (most recent call last)",
      "\u001b[0;32m<ipython-input-8-7cca319108db>\u001b[0m in \u001b[0;36m<module>\u001b[0;34m\u001b[0m\n\u001b[1;32m      1\u001b[0m \u001b[0;32mfor\u001b[0m \u001b[0mi\u001b[0m\u001b[0;34m,\u001b[0m \u001b[0mdt\u001b[0m \u001b[0;32min\u001b[0m \u001b[0menumerate\u001b[0m\u001b[0;34m(\u001b[0m\u001b[0mdts\u001b[0m\u001b[0;34m)\u001b[0m\u001b[0;34m:\u001b[0m\u001b[0;34m\u001b[0m\u001b[0;34m\u001b[0m\u001b[0m\n\u001b[1;32m      2\u001b[0m     \u001b[0mN\u001b[0m \u001b[0;34m=\u001b[0m \u001b[0;34m(\u001b[0m\u001b[0mint\u001b[0m\u001b[0;34m)\u001b[0m\u001b[0;34m(\u001b[0m\u001b[0mnp\u001b[0m\u001b[0;34m.\u001b[0m\u001b[0mceil\u001b[0m\u001b[0;34m(\u001b[0m\u001b[0mt_stop\u001b[0m\u001b[0;34m/\u001b[0m\u001b[0mdt\u001b[0m\u001b[0;34m)\u001b[0m\u001b[0;34m)\u001b[0m\u001b[0;34m\u001b[0m\u001b[0;34m\u001b[0m\u001b[0m\n\u001b[0;32m----> 3\u001b[0;31m     \u001b[0mplt\u001b[0m\u001b[0;34m.\u001b[0m\u001b[0mplot\u001b[0m\u001b[0;34m(\u001b[0m\u001b[0mnp\u001b[0m\u001b[0;34m.\u001b[0m\u001b[0mlinspace\u001b[0m\u001b[0;34m(\u001b[0m\u001b[0;36m0\u001b[0m\u001b[0;34m,\u001b[0m \u001b[0mt_stop\u001b[0m\u001b[0;34m,\u001b[0m \u001b[0mN\u001b[0m\u001b[0;34m)\u001b[0m\u001b[0;34m,\u001b[0m \u001b[0mms\u001b[0m\u001b[0;34m[\u001b[0m\u001b[0mi\u001b[0m\u001b[0;34m]\u001b[0m\u001b[0;34m,\u001b[0m \u001b[0mlabel\u001b[0m\u001b[0;34m=\u001b[0m\u001b[0;34m\"dt = \"\u001b[0m\u001b[0;34m+\u001b[0m\u001b[0mstr\u001b[0m\u001b[0;34m(\u001b[0m\u001b[0mdt\u001b[0m\u001b[0;34m)\u001b[0m\u001b[0;34m)\u001b[0m\u001b[0;34m\u001b[0m\u001b[0;34m\u001b[0m\u001b[0m\n\u001b[0m\u001b[1;32m      4\u001b[0m \u001b[0mplt\u001b[0m\u001b[0;34m.\u001b[0m\u001b[0mlegend\u001b[0m\u001b[0;34m(\u001b[0m\u001b[0;34m)\u001b[0m\u001b[0;34m\u001b[0m\u001b[0;34m\u001b[0m\u001b[0m\n\u001b[1;32m      5\u001b[0m \u001b[0mplt\u001b[0m\u001b[0;34m.\u001b[0m\u001b[0mshow\u001b[0m\u001b[0;34m(\u001b[0m\u001b[0;34m)\u001b[0m\u001b[0;34m\u001b[0m\u001b[0;34m\u001b[0m\u001b[0m\n",
      "\u001b[0;32m~/.local/lib/python3.8/site-packages/matplotlib/pyplot.py\u001b[0m in \u001b[0;36mplot\u001b[0;34m(scalex, scaley, data, *args, **kwargs)\u001b[0m\n\u001b[1;32m   2838\u001b[0m \u001b[0;34m@\u001b[0m\u001b[0m_copy_docstring_and_deprecators\u001b[0m\u001b[0;34m(\u001b[0m\u001b[0mAxes\u001b[0m\u001b[0;34m.\u001b[0m\u001b[0mplot\u001b[0m\u001b[0;34m)\u001b[0m\u001b[0;34m\u001b[0m\u001b[0;34m\u001b[0m\u001b[0m\n\u001b[1;32m   2839\u001b[0m \u001b[0;32mdef\u001b[0m \u001b[0mplot\u001b[0m\u001b[0;34m(\u001b[0m\u001b[0;34m*\u001b[0m\u001b[0margs\u001b[0m\u001b[0;34m,\u001b[0m \u001b[0mscalex\u001b[0m\u001b[0;34m=\u001b[0m\u001b[0;32mTrue\u001b[0m\u001b[0;34m,\u001b[0m \u001b[0mscaley\u001b[0m\u001b[0;34m=\u001b[0m\u001b[0;32mTrue\u001b[0m\u001b[0;34m,\u001b[0m \u001b[0mdata\u001b[0m\u001b[0;34m=\u001b[0m\u001b[0;32mNone\u001b[0m\u001b[0;34m,\u001b[0m \u001b[0;34m**\u001b[0m\u001b[0mkwargs\u001b[0m\u001b[0;34m)\u001b[0m\u001b[0;34m:\u001b[0m\u001b[0;34m\u001b[0m\u001b[0;34m\u001b[0m\u001b[0m\n\u001b[0;32m-> 2840\u001b[0;31m     return gca().plot(\n\u001b[0m\u001b[1;32m   2841\u001b[0m         \u001b[0;34m*\u001b[0m\u001b[0margs\u001b[0m\u001b[0;34m,\u001b[0m \u001b[0mscalex\u001b[0m\u001b[0;34m=\u001b[0m\u001b[0mscalex\u001b[0m\u001b[0;34m,\u001b[0m \u001b[0mscaley\u001b[0m\u001b[0;34m=\u001b[0m\u001b[0mscaley\u001b[0m\u001b[0;34m,\u001b[0m\u001b[0;34m\u001b[0m\u001b[0;34m\u001b[0m\u001b[0m\n\u001b[1;32m   2842\u001b[0m         **({\"data\": data} if data is not None else {}), **kwargs)\n",
      "\u001b[0;32m~/.local/lib/python3.8/site-packages/matplotlib/axes/_axes.py\u001b[0m in \u001b[0;36mplot\u001b[0;34m(self, scalex, scaley, data, *args, **kwargs)\u001b[0m\n\u001b[1;32m   1741\u001b[0m         \"\"\"\n\u001b[1;32m   1742\u001b[0m         \u001b[0mkwargs\u001b[0m \u001b[0;34m=\u001b[0m \u001b[0mcbook\u001b[0m\u001b[0;34m.\u001b[0m\u001b[0mnormalize_kwargs\u001b[0m\u001b[0;34m(\u001b[0m\u001b[0mkwargs\u001b[0m\u001b[0;34m,\u001b[0m \u001b[0mmlines\u001b[0m\u001b[0;34m.\u001b[0m\u001b[0mLine2D\u001b[0m\u001b[0;34m)\u001b[0m\u001b[0;34m\u001b[0m\u001b[0;34m\u001b[0m\u001b[0m\n\u001b[0;32m-> 1743\u001b[0;31m         \u001b[0mlines\u001b[0m \u001b[0;34m=\u001b[0m \u001b[0;34m[\u001b[0m\u001b[0;34m*\u001b[0m\u001b[0mself\u001b[0m\u001b[0;34m.\u001b[0m\u001b[0m_get_lines\u001b[0m\u001b[0;34m(\u001b[0m\u001b[0;34m*\u001b[0m\u001b[0margs\u001b[0m\u001b[0;34m,\u001b[0m \u001b[0mdata\u001b[0m\u001b[0;34m=\u001b[0m\u001b[0mdata\u001b[0m\u001b[0;34m,\u001b[0m \u001b[0;34m**\u001b[0m\u001b[0mkwargs\u001b[0m\u001b[0;34m)\u001b[0m\u001b[0;34m]\u001b[0m\u001b[0;34m\u001b[0m\u001b[0;34m\u001b[0m\u001b[0m\n\u001b[0m\u001b[1;32m   1744\u001b[0m         \u001b[0;32mfor\u001b[0m \u001b[0mline\u001b[0m \u001b[0;32min\u001b[0m \u001b[0mlines\u001b[0m\u001b[0;34m:\u001b[0m\u001b[0;34m\u001b[0m\u001b[0;34m\u001b[0m\u001b[0m\n\u001b[1;32m   1745\u001b[0m             \u001b[0mself\u001b[0m\u001b[0;34m.\u001b[0m\u001b[0madd_line\u001b[0m\u001b[0;34m(\u001b[0m\u001b[0mline\u001b[0m\u001b[0;34m)\u001b[0m\u001b[0;34m\u001b[0m\u001b[0;34m\u001b[0m\u001b[0m\n",
      "\u001b[0;32m~/.local/lib/python3.8/site-packages/matplotlib/axes/_base.py\u001b[0m in \u001b[0;36m__call__\u001b[0;34m(self, data, *args, **kwargs)\u001b[0m\n\u001b[1;32m    271\u001b[0m                 \u001b[0mthis\u001b[0m \u001b[0;34m+=\u001b[0m \u001b[0margs\u001b[0m\u001b[0;34m[\u001b[0m\u001b[0;36m0\u001b[0m\u001b[0;34m]\u001b[0m\u001b[0;34m,\u001b[0m\u001b[0;34m\u001b[0m\u001b[0;34m\u001b[0m\u001b[0m\n\u001b[1;32m    272\u001b[0m                 \u001b[0margs\u001b[0m \u001b[0;34m=\u001b[0m \u001b[0margs\u001b[0m\u001b[0;34m[\u001b[0m\u001b[0;36m1\u001b[0m\u001b[0;34m:\u001b[0m\u001b[0;34m]\u001b[0m\u001b[0;34m\u001b[0m\u001b[0;34m\u001b[0m\u001b[0m\n\u001b[0;32m--> 273\u001b[0;31m             \u001b[0;32myield\u001b[0m \u001b[0;32mfrom\u001b[0m \u001b[0mself\u001b[0m\u001b[0;34m.\u001b[0m\u001b[0m_plot_args\u001b[0m\u001b[0;34m(\u001b[0m\u001b[0mthis\u001b[0m\u001b[0;34m,\u001b[0m \u001b[0mkwargs\u001b[0m\u001b[0;34m)\u001b[0m\u001b[0;34m\u001b[0m\u001b[0;34m\u001b[0m\u001b[0m\n\u001b[0m\u001b[1;32m    274\u001b[0m \u001b[0;34m\u001b[0m\u001b[0m\n\u001b[1;32m    275\u001b[0m     \u001b[0;32mdef\u001b[0m \u001b[0mget_next_color\u001b[0m\u001b[0;34m(\u001b[0m\u001b[0mself\u001b[0m\u001b[0;34m)\u001b[0m\u001b[0;34m:\u001b[0m\u001b[0;34m\u001b[0m\u001b[0;34m\u001b[0m\u001b[0m\n",
      "\u001b[0;32m~/.local/lib/python3.8/site-packages/matplotlib/axes/_base.py\u001b[0m in \u001b[0;36m_plot_args\u001b[0;34m(self, tup, kwargs)\u001b[0m\n\u001b[1;32m    397\u001b[0m \u001b[0;34m\u001b[0m\u001b[0m\n\u001b[1;32m    398\u001b[0m         \u001b[0;32mif\u001b[0m \u001b[0mx\u001b[0m\u001b[0;34m.\u001b[0m\u001b[0mshape\u001b[0m\u001b[0;34m[\u001b[0m\u001b[0;36m0\u001b[0m\u001b[0;34m]\u001b[0m \u001b[0;34m!=\u001b[0m \u001b[0my\u001b[0m\u001b[0;34m.\u001b[0m\u001b[0mshape\u001b[0m\u001b[0;34m[\u001b[0m\u001b[0;36m0\u001b[0m\u001b[0;34m]\u001b[0m\u001b[0;34m:\u001b[0m\u001b[0;34m\u001b[0m\u001b[0;34m\u001b[0m\u001b[0m\n\u001b[0;32m--> 399\u001b[0;31m             raise ValueError(f\"x and y must have same first dimension, but \"\n\u001b[0m\u001b[1;32m    400\u001b[0m                              f\"have shapes {x.shape} and {y.shape}\")\n\u001b[1;32m    401\u001b[0m         \u001b[0;32mif\u001b[0m \u001b[0mx\u001b[0m\u001b[0;34m.\u001b[0m\u001b[0mndim\u001b[0m \u001b[0;34m>\u001b[0m \u001b[0;36m2\u001b[0m \u001b[0;32mor\u001b[0m \u001b[0my\u001b[0m\u001b[0;34m.\u001b[0m\u001b[0mndim\u001b[0m \u001b[0;34m>\u001b[0m \u001b[0;36m2\u001b[0m\u001b[0;34m:\u001b[0m\u001b[0;34m\u001b[0m\u001b[0;34m\u001b[0m\u001b[0m\n",
      "\u001b[0;31mValueError\u001b[0m: x and y must have same first dimension, but have shapes (10000,) and (18,)"
     ]
    },
    {
     "data": {
      "image/png": "[encoded data removed]",
      "text/plain": [
       "<Figure size 432x288 with 1 Axes>"
      ]
     },
     "metadata": {
      "needs_background": "light"
     },
     "output_type": "display_data"
    }
   ],
   "source": [
    "for i, dt in enumerate(dts):\n",
    "    N = (int)(np.ceil(t_stop/dt))\n",
    "    plt.plot(np.linspace(0, t_stop, N), ms[i], label=\"dt = \"+str(dt))\n",
    "plt.legend()\n",
    "plt.show()\n",
    "\n",
    "for i, dt in enumerate(dts):\n",
    "    N = (int)(np.ceil(t_stop/dt))\n",
    "    plt.plot(np.linspace(0, t_stop, N), entropies[i], label=\"dt = \"+str(dt))\n",
    "plt.legend()\n",
    "plt.show()"
   ]
  },
  {
   "cell_type": "code",
   "execution_count": 8,
   "id": "7b06aafd",
   "metadata": {},
   "outputs": [
    {
     "data": {
      "image/png": "[encoded data removed]",
      "text/plain": [
       "<Figure size 432x288 with 1 Axes>"
      ]
     },
     "metadata": {
      "needs_background": "light"
     },
     "output_type": "display_data"
    },
    {
     "data": {
      "image/png": "[encoded data removed]",
      "text/plain": [
       "<Figure size 432x288 with 1 Axes>"
      ]
     },
     "metadata": {
      "needs_background": "light"
     },
     "output_type": "display_data"
    }
   ],
   "source": [
    "for i, dt in enumerate(dts):\n",
    "    N = (int)(np.ceil(t_stop/dt))\n",
    "    plt.plot(np.linspace(0, t_stop, N), ms[i], label=\"dt = \"+str(dt))\n",
    "plt.legend()\n",
    "plt.show()\n",
    "\n",
    "for i, dt in enumerate(dts):\n",
    "    N = (int)(np.ceil(t_stop/dt))\n",
    "    plt.plot(np.linspace(0, t_stop, N), entropies[i], label=\"dt = \"+str(dt))\n",
    "plt.legend()\n",
    "plt.show()"
   ]
  },
  {
   "cell_type": "markdown",
   "id": "a5c66fe8",
   "metadata": {},
   "source": [
    "# Runge-Kutta using normal state vectors"
   ]
  },
  {
   "cell_type": "code",
   "execution_count": 12,
   "id": "3bf68921",
   "metadata": {},
   "outputs": [],
   "source": [
    "H = helper_functions.generate_TFI_Hamiltonian(L, J, g)"
   ]
  },
  {
   "cell_type": "code",
   "execution_count": 13,
   "id": "2b508da1",
   "metadata": {},
   "outputs": [],
   "source": [
    "def measure_site_op(psi, L, op):\n",
    "    result = 0\n",
    "    for i in range(L):\n",
    "        operator = helper_functions.singlesite_to_full(op, i, L)\n",
    "        result = result + np.real_if_close((np.conj(psi.T)@operator@psi)/(np.conj(psi.T)@psi))\n",
    "    return result"
   ]
  },
  {
   "cell_type": "code",
   "execution_count": 14,
   "id": "23a1a13f",
   "metadata": {},
   "outputs": [
    {
     "data": {
      "application/vnd.jupyter.widget-view+json": {
       "model_id": "0b45abb05ea44551a40c8eddc1c0f9cf",
       "version_major": 2,
       "version_minor": 0
      },
      "text/plain": [
       "  0%|          | 0/100 [00:00<?, ?it/s]"
      ]
     },
     "metadata": {},
     "output_type": "display_data"
    }
   ],
   "source": [
    "ms = []\n",
    "\n",
    "psi = psi_0_state.copy()\n",
    "dt = 0.1\n",
    "N = (int)(np.ceil(t_stop/dt))\n",
    "\n",
    "for i in tqdm(range(N)):\n",
    "    ms.append(measure_site_op(psi, L, sigma_z))\n",
    "    k1 = -1.j*H@psi\n",
    "    k2 = -1.j*H@(psi+dt/2*k1)\n",
    "    k3 = -1.j*H@(psi+dt/2*k2)\n",
    "    k4 = -1.j*H@(psi+dt*k3)\n",
    "    psi = psi + 1/6*dt*(k1+2*k2+2*k3+k4)\n",
    "    psi /= np.linalg.norm(psi)"
   ]
  },
  {
   "cell_type": "code",
   "execution_count": 15,
   "id": "4b64593c",
   "metadata": {},
   "outputs": [
    {
     "data": {
      "image/png": "[encoded data removed]",
      "text/plain": [
       "<Figure size 432x288 with 1 Axes>"
      ]
     },
     "metadata": {
      "needs_background": "light"
     },
     "output_type": "display_data"
    }
   ],
   "source": [
    "N = (int)(np.ceil(t_stop/dt))\n",
    "plt.plot(np.linspace(0, t_stop, N), ms, label=\"dt = \"+str(dt))\n",
    "plt.legend()\n",
    "plt.show()"
   ]
  },
  {
   "cell_type": "markdown",
   "id": "5c1483a5",
   "metadata": {},
   "source": [
    "Already with dt = 0.01 this reproduces pretty well the TEBD/TDVP result!"
   ]
  },
  {
   "cell_type": "markdown",
   "id": "cf25a486",
   "metadata": {},
   "source": [
    "# Comparing the two"
   ]
  },
  {
   "cell_type": "code",
   "execution_count": 38,
   "id": "0a58602b",
   "metadata": {},
   "outputs": [],
   "source": [
    "chi_max = 1000\n",
    "eps = 0"
   ]
  },
  {
   "cell_type": "code",
   "execution_count": 39,
   "id": "fa7f7ce9",
   "metadata": {},
   "outputs": [],
   "source": [
    "J = 1.\n",
    "g = 1.5\n",
    "model = tfi_model.TFIModel(L, J, g)\n",
    "H = helper_functions.generate_TFI_Hamiltonian(L, J, g)"
   ]
  },
  {
   "cell_type": "code",
   "execution_count": 40,
   "id": "c67122c0",
   "metadata": {},
   "outputs": [],
   "source": [
    "dt = 0.1"
   ]
  },
  {
   "cell_type": "code",
   "execution_count": 41,
   "id": "99654ecf",
   "metadata": {},
   "outputs": [],
   "source": [
    "psi_all_up = np.zeros(2**L)\n",
    "psi_all_up[0] = 1."
   ]
  },
  {
   "cell_type": "code",
   "execution_count": 42,
   "id": "2b432fb0",
   "metadata": {},
   "outputs": [],
   "source": [
    "# prepare mpo\n",
    "update_mpo = [None] * L\n",
    "factor = np.power(-1.j, 1/L)\n",
    "for i in range(len(model.H_mpo)):\n",
    "    update_mpo[i] = factor * model.H_mpo[i].copy()"
   ]
  },
  {
   "cell_type": "code",
   "execution_count": 43,
   "id": "f6a5cb73",
   "metadata": {},
   "outputs": [],
   "source": [
    "psi_mps = mps.MPS.initialize_from_state_vector(psi_all_up, L)"
   ]
  },
  {
   "cell_type": "markdown",
   "id": "c2550829",
   "metadata": {},
   "source": [
    "### k1"
   ]
  },
  {
   "cell_type": "code",
   "execution_count": 44,
   "id": "01a0c2aa",
   "metadata": {},
   "outputs": [],
   "source": [
    "k1 = -1.j*H@psi_all_up\n",
    "k1_mps = multiplication.multiply(psi_mps, update_mpo, chi_max, eps, inplace=False, normalize=False)\n",
    "k1_compare = k1_mps.to_state_vector()"
   ]
  },
  {
   "cell_type": "code",
   "execution_count": 45,
   "id": "bbc99cf1",
   "metadata": {},
   "outputs": [
    {
     "name": "stdout",
     "output_type": "stream",
     "text": [
      "2.4868995773233785e-14\n"
     ]
    }
   ],
   "source": [
    "print(np.max(np.abs(k1-k1_compare)))"
   ]
  },
  {
   "cell_type": "markdown",
   "id": "845bfc1d",
   "metadata": {},
   "source": [
    "### k2"
   ]
  },
  {
   "cell_type": "code",
   "execution_count": 52,
   "id": "633a24fc",
   "metadata": {},
   "outputs": [],
   "source": [
    "temp = psi_all_up + dt/2*k1\n",
    "temp_mps = addition.add(psi_mps, k1_mps, chi_max, eps, dt/2)\n",
    "temp_compare = temp_mps.to_state_vector()"
   ]
  },
  {
   "cell_type": "code",
   "execution_count": 53,
   "id": "2817057c",
   "metadata": {},
   "outputs": [
    {
     "name": "stdout",
     "output_type": "stream",
     "text": [
      "6.133982734757958e-15\n"
     ]
    }
   ],
   "source": [
    "print(np.max(np.abs(temp-temp_compare)))"
   ]
  },
  {
   "cell_type": "code",
   "execution_count": 54,
   "id": "73d9f074",
   "metadata": {},
   "outputs": [],
   "source": [
    "k2 = -1.j*H@temp\n",
    "k2_mps = multiplication.multiply(temp_mps, update_mpo, chi_max, eps, inplace=False)\n",
    "k2_compare = k2_mps.to_state_vector()"
   ]
  },
  {
   "cell_type": "code",
   "execution_count": 55,
   "id": "cb1206c5",
   "metadata": {},
   "outputs": [
    {
     "name": "stdout",
     "output_type": "stream",
     "text": [
      "3.7707260204788525e-13\n"
     ]
    }
   ],
   "source": [
    "print(np.max(np.abs(k2-k2_compare)))"
   ]
  },
  {
   "cell_type": "markdown",
   "id": "7b056a2e",
   "metadata": {},
   "source": [
    "### k3"
   ]
  },
  {
   "cell_type": "code",
   "execution_count": 57,
   "id": "fd7c5435",
   "metadata": {},
   "outputs": [],
   "source": [
    "temp = psi_all_up + dt/2*k2\n",
    "temp_mps = addition.add(psi_mps, k2_mps, chi_max, eps, dt/2)\n",
    "temp_compare = temp_mps.to_state_vector()"
   ]
  },
  {
   "cell_type": "code",
   "execution_count": 58,
   "id": "989ad1a7",
   "metadata": {},
   "outputs": [
    {
     "name": "stdout",
     "output_type": "stream",
     "text": [
      "1.9698056925209707e-14\n"
     ]
    }
   ],
   "source": [
    "print(np.max(np.abs(temp-temp_compare)))"
   ]
  },
  {
   "cell_type": "code",
   "execution_count": 60,
   "id": "7447b972",
   "metadata": {},
   "outputs": [],
   "source": [
    "k3 = -1.j*H@temp\n",
    "k3_mps = multiplication.multiply(temp_mps, update_mpo, chi_max, eps, inplace=False)\n",
    "k3_compare = k3_mps.to_state_vector()"
   ]
  },
  {
   "cell_type": "code",
   "execution_count": 61,
   "id": "611a0a67",
   "metadata": {},
   "outputs": [
    {
     "name": "stdout",
     "output_type": "stream",
     "text": [
      "7.014999156114662e-13\n"
     ]
    }
   ],
   "source": [
    "print(np.max(np.abs(k3-k3_compare)))"
   ]
  },
  {
   "cell_type": "markdown",
   "id": "8f7bae7d",
   "metadata": {},
   "source": [
    "### k4"
   ]
  },
  {
   "cell_type": "code",
   "execution_count": 62,
   "id": "a7b981bf",
   "metadata": {},
   "outputs": [],
   "source": [
    "temp = psi_all_up + dt*k3\n",
    "temp_mps = addition.add(psi_mps, k3_mps, chi_max, eps, dt)\n",
    "temp_compare = temp_mps.to_state_vector()"
   ]
  },
  {
   "cell_type": "code",
   "execution_count": 63,
   "id": "4566a1af",
   "metadata": {},
   "outputs": [
    {
     "name": "stdout",
     "output_type": "stream",
     "text": [
      "6.980191764437584e-14\n"
     ]
    }
   ],
   "source": [
    "print(np.max(np.abs(temp-temp_compare)))"
   ]
  },
  {
   "cell_type": "code",
   "execution_count": 64,
   "id": "859b3807",
   "metadata": {},
   "outputs": [],
   "source": [
    "k4 = -1.j*H@temp\n",
    "k4_mps = multiplication.multiply(temp_mps, update_mpo, chi_max, eps, inplace=False)\n",
    "k4_compare = k4_mps.to_state_vector()"
   ]
  },
  {
   "cell_type": "code",
   "execution_count": 65,
   "id": "75b0cc16",
   "metadata": {},
   "outputs": [
    {
     "name": "stdout",
     "output_type": "stream",
     "text": [
      "7.014999156114662e-13\n"
     ]
    }
   ],
   "source": [
    "print(np.max(np.abs(k3-k3_compare)))"
   ]
  },
  {
   "cell_type": "markdown",
   "id": "90fbbd57",
   "metadata": {},
   "source": [
    "### final step"
   ]
  },
  {
   "cell_type": "code",
   "execution_count": 68,
   "id": "396f9ed3",
   "metadata": {},
   "outputs": [],
   "source": [
    "psi_final = psi_all_up + dt/6*(k1+2*k2+2*k3+k4)\n",
    "#psi_final /= np.linalg.norm(psi_final)\n",
    "psi_final_mps = addition.add(psi_mps, k1_mps, chi_max, eps, dt/6)\n",
    "psi_final_mps = addition.add(psi_final_mps, k2_mps, chi_max, eps, dt*2/6)\n",
    "psi_final_mps = addition.add(psi_final_mps, k3_mps, chi_max, eps, dt*2/6)\n",
    "psi_final_mps = addition.add(psi_final_mps, k4_mps, chi_max, eps, dt/6)\n",
    "psi_final_compare = psi_final_mps.to_state_vector()"
   ]
  },
  {
   "cell_type": "code",
   "execution_count": 69,
   "id": "25de60e7",
   "metadata": {},
   "outputs": [
    {
     "name": "stdout",
     "output_type": "stream",
     "text": [
      "3.092783876415224e-14\n"
     ]
    }
   ],
   "source": [
    "print(np.max(np.abs(psi_final-psi_final_compare)))"
   ]
  },
  {
   "cell_type": "code",
   "execution_count": 70,
   "id": "815cccf9",
   "metadata": {},
   "outputs": [
    {
     "name": "stdout",
     "output_type": "stream",
     "text": [
      "14.0\n",
      "14.0\n"
     ]
    }
   ],
   "source": [
    "print(measure_site_op(psi_all_up, L, sigma_z))\n",
    "print(np.sum(psi_mps.site_expectation_value(sigma_z)))"
   ]
  },
  {
   "cell_type": "code",
   "execution_count": 71,
   "id": "c46faa4d",
   "metadata": {},
   "outputs": [
    {
     "name": "stdout",
     "output_type": "stream",
     "text": [
      "12.549772659465372\n",
      "12.549772659465562\n"
     ]
    }
   ],
   "source": [
    "print(measure_site_op(psi_final, L, sigma_z))\n",
    "print(np.sum(psi_final_mps.site_expectation_value(sigma_z)))"
   ]
  },
  {
   "cell_type": "markdown",
   "id": "079336d2",
   "metadata": {},
   "source": [
    "## second RK step"
   ]
  },
  {
   "cell_type": "markdown",
   "id": "b30fa902",
   "metadata": {},
   "source": [
    "### k1"
   ]
  },
  {
   "cell_type": "code",
   "execution_count": 72,
   "id": "6ecaee60",
   "metadata": {},
   "outputs": [],
   "source": [
    "k1 = -1.j*H@psi_final\n",
    "k1_mps = multiplication.multiply(psi_final_mps, update_mpo, chi_max, eps, inplace=False)\n",
    "k1_compare = k1_mps.to_state_vector()"
   ]
  },
  {
   "cell_type": "code",
   "execution_count": 73,
   "id": "179abb19",
   "metadata": {},
   "outputs": [
    {
     "name": "stdout",
     "output_type": "stream",
     "text": [
      "6.227190174331507e-13\n"
     ]
    }
   ],
   "source": [
    "print(np.max(np.abs(k1-k1_compare)))"
   ]
  },
  {
   "cell_type": "markdown",
   "id": "d5540698",
   "metadata": {},
   "source": [
    "### k2"
   ]
  },
  {
   "cell_type": "code",
   "execution_count": 74,
   "id": "5dfa07cf",
   "metadata": {},
   "outputs": [],
   "source": [
    "temp = psi_final + dt/2*k1\n",
    "temp_mps = addition.add(psi_final_mps, k1_mps, chi_max, eps, dt/2)\n",
    "temp_compare = temp_mps.to_state_vector()"
   ]
  },
  {
   "cell_type": "code",
   "execution_count": 75,
   "id": "13e4e3c1",
   "metadata": {},
   "outputs": [
    {
     "name": "stdout",
     "output_type": "stream",
     "text": [
      "5.008818070875817e-14\n"
     ]
    }
   ],
   "source": [
    "print(np.max(np.abs(temp-temp_compare)))"
   ]
  },
  {
   "cell_type": "code",
   "execution_count": 76,
   "id": "85e083bf",
   "metadata": {},
   "outputs": [],
   "source": [
    "k2 = -1.j*H@temp\n",
    "k2_mps = multiplication.multiply(temp_mps, update_mpo, chi_max, eps, inplace=False)\n",
    "k2_compare = k2_mps.to_state_vector()"
   ]
  },
  {
   "cell_type": "code",
   "execution_count": 77,
   "id": "bc9796c7",
   "metadata": {},
   "outputs": [
    {
     "name": "stdout",
     "output_type": "stream",
     "text": [
      "9.533804197651422e-13\n"
     ]
    }
   ],
   "source": [
    "print(np.max(np.abs(k2-k2_compare)))"
   ]
  },
  {
   "cell_type": "markdown",
   "id": "6b4f57bc",
   "metadata": {},
   "source": [
    "### k3"
   ]
  },
  {
   "cell_type": "code",
   "execution_count": 78,
   "id": "628dc3ad",
   "metadata": {},
   "outputs": [],
   "source": [
    "temp = psi_final + dt/2*k2\n",
    "temp_mps = addition.add(psi_final_mps, k2_mps, chi_max, eps, dt/2)\n",
    "temp_compare = temp_mps.to_state_vector()"
   ]
  },
  {
   "cell_type": "code",
   "execution_count": 79,
   "id": "841f8578",
   "metadata": {},
   "outputs": [
    {
     "name": "stdout",
     "output_type": "stream",
     "text": [
      "3.544213393672586e-14\n"
     ]
    }
   ],
   "source": [
    "print(np.max(np.abs(temp-temp_compare)))"
   ]
  },
  {
   "cell_type": "code",
   "execution_count": 80,
   "id": "bc711967",
   "metadata": {},
   "outputs": [],
   "source": [
    "k3 = -1.j*H@temp\n",
    "k3_mps = multiplication.multiply(temp_mps, update_mpo, chi_max, eps, inplace=False)\n",
    "k3_compare = k3_mps.to_state_vector()"
   ]
  },
  {
   "cell_type": "code",
   "execution_count": 81,
   "id": "3d54035a",
   "metadata": {},
   "outputs": [
    {
     "name": "stdout",
     "output_type": "stream",
     "text": [
      "8.580465505103848e-13\n"
     ]
    }
   ],
   "source": [
    "print(np.max(np.abs(k3-k3_compare)))"
   ]
  },
  {
   "cell_type": "markdown",
   "id": "728f4836",
   "metadata": {},
   "source": [
    "### k4"
   ]
  },
  {
   "cell_type": "code",
   "execution_count": 82,
   "id": "4cf6b0c6",
   "metadata": {},
   "outputs": [],
   "source": [
    "temp = psi_final + dt*k3\n",
    "temp_mps = addition.add(psi_final_mps, k3_mps, chi_max, eps, dt)\n",
    "temp_compare = temp_mps.to_state_vector()"
   ]
  },
  {
   "cell_type": "code",
   "execution_count": 83,
   "id": "27e5be67",
   "metadata": {},
   "outputs": [
    {
     "name": "stdout",
     "output_type": "stream",
     "text": [
      "7.455302739264765e-14\n"
     ]
    }
   ],
   "source": [
    "print(np.max(np.abs(temp-temp_compare)))"
   ]
  },
  {
   "cell_type": "code",
   "execution_count": 84,
   "id": "ab818dc7",
   "metadata": {},
   "outputs": [],
   "source": [
    "k4 = -1.j*H@temp\n",
    "k4_mps = multiplication.multiply(temp_mps, update_mpo, chi_max, eps, inplace=False)\n",
    "k4_compare = k4_mps.to_state_vector()"
   ]
  },
  {
   "cell_type": "code",
   "execution_count": 85,
   "id": "d6c69f76",
   "metadata": {},
   "outputs": [
    {
     "name": "stdout",
     "output_type": "stream",
     "text": [
      "8.580465505103848e-13\n"
     ]
    }
   ],
   "source": [
    "print(np.max(np.abs(k3-k3_compare)))"
   ]
  },
  {
   "cell_type": "markdown",
   "id": "1499b9a3",
   "metadata": {},
   "source": [
    "### final step"
   ]
  },
  {
   "cell_type": "code",
   "execution_count": 88,
   "id": "dc79b7ef",
   "metadata": {},
   "outputs": [],
   "source": [
    "psi_final_2 = psi_final + dt/6*(k1+2*k2+2*k3+k4)\n",
    "psi_final_mps_2 = addition.add(psi_final_mps, k1_mps, chi_max, eps, dt/6)\n",
    "psi_final_mps_2 = addition.add(psi_final_mps_2, k2_mps, chi_max, eps, dt*2/6)\n",
    "psi_final_mps_2 = addition.add(psi_final_mps_2, k3_mps, chi_max, eps, dt*2/6)\n",
    "psi_final_mps_2 = addition.add(psi_final_mps_2, k4_mps, chi_max, eps, dt/6)\n",
    "psi_final_2_compare = psi_final_mps_2.to_state_vector()"
   ]
  },
  {
   "cell_type": "code",
   "execution_count": 89,
   "id": "cc811378",
   "metadata": {},
   "outputs": [
    {
     "name": "stdout",
     "output_type": "stream",
     "text": [
      "3.290402417872168e-14\n"
     ]
    }
   ],
   "source": [
    "print(np.max(np.abs(psi_final_2-psi_final_2_compare)))"
   ]
  },
  {
   "cell_type": "code",
   "execution_count": 90,
   "id": "615df35f",
   "metadata": {},
   "outputs": [
    {
     "name": "stdout",
     "output_type": "stream",
     "text": [
      "9.400762963376666\n",
      "9.40076296337674\n"
     ]
    }
   ],
   "source": [
    "print(measure_site_op(psi_final_2, L, sigma_z))\n",
    "print(np.sum(psi_final_mps_2.site_expectation_value(sigma_z)))"
   ]
  },
  {
   "cell_type": "markdown",
   "id": "31c8f5b8",
   "metadata": {},
   "source": [
    "# Full Runge-Kutta run using MPS"
   ]
  },
  {
   "cell_type": "code",
   "execution_count": 91,
   "id": "bcf9e6f8",
   "metadata": {},
   "outputs": [],
   "source": [
    "chi_max = 10\n",
    "eps = 1.e-15\n",
    "\n",
    "L = 14\n",
    "J = 1.\n",
    "g = 1.5\n",
    "\n",
    "dt = 0.1\n",
    "\n",
    "# prepare initial state\n",
    "psi_all_up = np.zeros(2**L)\n",
    "psi_all_up[0] = 1.\n",
    "\n",
    "# prepare mpo\n",
    "model = tfi_model.TFIModel(L, J, g)\n",
    "update_mpo = [None] * L\n",
    "factor = np.power(-1.j, 1/L)\n",
    "for i in range(len(model.H_mpo)):\n",
    "    update_mpo[i] = factor * model.H_mpo[i].copy()"
   ]
  },
  {
   "cell_type": "code",
   "execution_count": 93,
   "id": "62ea7e03",
   "metadata": {},
   "outputs": [
    {
     "data": {
      "application/vnd.jupyter.widget-view+json": {
       "model_id": "907341dde95046c4aec669ef26cbf489",
       "version_major": 2,
       "version_minor": 0
      },
      "text/plain": [
       "  0%|          | 0/100 [00:00<?, ?it/s]"
      ]
     },
     "metadata": {},
     "output_type": "display_data"
    },
    {
     "name": "stdout",
     "output_type": "stream",
     "text": [
      "14.0 14.0\n",
      "12.549772659465477 12.549772659465372\n",
      "9.40076335731417 9.400762963376666\n",
      "7.212420103155944 7.212416873325335\n",
      "6.361018520995755 6.360996051395682\n",
      "6.136080625872114 6.136001332980636\n",
      "6.277567853392496 6.277445273666827\n",
      "6.637110768954596 6.6369832327543286\n",
      "6.914048351127039 6.911697985451322\n",
      "6.898146194412127 6.890541487520257\n",
      "6.666513073448722 6.650700408986139\n",
      "6.471004323126147 6.441073986601885\n",
      "6.4895621815845175 6.434527349377303\n",
      "6.691627439029334 6.597789175081356\n",
      "6.898657449392177 6.754510616271914\n",
      "6.935370204702835 6.748728377233082\n",
      "6.753146325052179 6.564429160951846\n",
      "6.44814123013099 6.3182312465595505\n",
      "6.1761038980248175 6.150833336465262\n",
      "6.041612823804433 6.115629227365471\n",
      "6.043237727364484 6.151216799163372\n",
      "6.096776105535028 6.147637954006627\n",
      "6.099795685510349 6.041468300642377\n",
      "5.988866764329634 5.860628897668048\n",
      "5.772804095830253 5.6899653233577405\n",
      "5.5259356643336375 5.595619043515242\n",
      "5.333012809804352 5.574516539108664\n",
      "5.231911247986186 5.5667838359323225\n",
      "5.20104431226546 5.513168885620676\n",
      "5.19087514166304 5.40489807235751\n",
      "5.165975377568732 5.285671275065433\n",
      "5.127901436563575 5.209517373665497\n",
      "5.109140931367295 5.194408485636993\n",
      "5.14468073831759 5.210834119335302\n",
      "5.240241103060997 5.211317420803143\n",
      "5.361286787381666 5.171981279766666\n",
      "5.451330851870196 5.109990936459562\n",
      "5.46473858903774 5.064471564996641\n",
      "5.394631433162966 5.0604858117116445\n",
      "5.277842021124092 5.0882017516659275\n",
      "5.1667240963515475 5.113639462109548\n",
      "5.092915171713348 5.109128203832913\n",
      "5.053262915673198 5.075841083090055\n",
      "5.019333907538461 5.039836423464126\n",
      "4.962713338852135 5.027177795901023\n",
      "4.876864634391095 5.041138257075753\n",
      "4.776449805551461 5.060866069087316\n",
      "4.6859007330563145 5.060942419208709\n",
      "4.632136314052222 5.033341275936678\n",
      "4.6266907905003665 4.992648187294496\n",
      "4.659599698155008 4.961304184259232\n",
      "4.7090724260206045 4.949202282135949\n",
      "4.754000991410646 4.9458788688303335\n",
      "4.781353417344057 4.931338089543168\n",
      "4.785597178241939 4.8948638338897075\n",
      "4.764351455635583 4.844790862864585\n",
      "4.718569887611951 4.80105768725492\n",
      "4.65891897810481 4.777871266414915\n",
      "4.603575323605301 4.772132734799248\n",
      "4.567674588820119 4.76759083685204\n",
      "4.554535587145053 4.7506916151745875\n",
      "4.553758962208834 4.724284946211029\n",
      "4.547222277773094 4.707828250242702\n",
      "4.519742438297847 4.724486717019129\n",
      "4.468547202435025 4.7858289021625975\n",
      "4.406720815815513 4.88507619101017\n",
      "4.358251955532206 5.001015685623428\n",
      "4.347178683067215 5.105663950722461\n",
      "4.383388385971545 5.167951870033487\n",
      "4.451023054372712 5.153251051342977\n",
      "4.517952926961653 5.026492655673422\n",
      "4.545412724639665 4.766312783083256\n",
      "4.515996394645751 4.387908638406773\n",
      "4.441121870282074 3.9608203898623398\n",
      "4.353342207664137 3.604891122376246\n",
      "4.290052871146893 3.4573079700376645\n",
      "4.275721181937434 3.6203360943982843\n",
      "4.30805647623313 4.112192915882948\n",
      "4.358437605604741 4.84437553238699\n",
      "4.387029652139556 5.637716776528685\n",
      "4.365213553059017 6.273427892483497\n",
      "4.291455428152327 6.562324236562712\n",
      "4.190310072784171 6.409373440742076\n",
      "4.100656092248489 5.851508231837242\n",
      "4.059479370797499 5.053052530537819\n",
      "4.083675407238879 4.254925016338242\n",
      "4.161113073740399 3.6903829509727997\n",
      "4.2584481637185885 3.4969874889669255\n",
      "4.338672458881377 3.6627325393051193\n",
      "4.377456465516441 4.035194462800945\n",
      "4.368553036161699 4.395448592369772\n",
      "4.31703187194464 4.564822233285354\n",
      "4.231363928019425 4.491452552047958\n",
      "4.12298715665981 4.270200795867688\n",
      "4.010557519836427 4.083544809891019\n",
      "3.9199125934464276 4.094889647003064\n",
      "3.872781413848761 4.353652640532501\n",
      "3.872934847541939 4.765841131507332\n",
      "3.9061785809770186 5.146715006890632\n",
      "3.9511263830007244 5.324824789956452\n"
     ]
    }
   ],
   "source": [
    "ms_mps = []\n",
    "ms = []\n",
    "entropies = []\n",
    "\n",
    "psi_mps = mps.MPS.initialize_from_state_vector(psi_all_up.copy(), L, chi_max)\n",
    "\n",
    "N = (int)(np.ceil(t_stop/dt))\n",
    "\n",
    "for i in tqdm(range(N)):\n",
    "    m_mps = np.sum(psi_mps.site_expectation_value(sigma_z))\n",
    "    m = measure_site_op(psi, L, sigma_z)\n",
    "    print(m_mps, m)\n",
    "    ms_mps.append(m_mps)\n",
    "    ms.append(m)\n",
    "    \n",
    "    # RK4 (MPS)\n",
    "    psi_mps = mps_runge_kutta.integrate_MPS_RK4(psi_mps, dt, update_mpo, chi_max, eps)\n",
    "    \n",
    "    # RK4 (state vector)\n",
    "    k1 = -1.j*H@psi\n",
    "    k2 = -1.j*H@(psi + dt/2*k1)\n",
    "    k3 = -1.j*H@(psi + dt/2*k2)\n",
    "    k4 = -1.j*H@(psi + dt*k3)\n",
    "    psi = psi + dt/6*(k1+2*k2+2*k3+k4)"
   ]
  },
  {
   "cell_type": "code",
   "execution_count": 94,
   "id": "b3bb194c",
   "metadata": {},
   "outputs": [
    {
     "data": {
      "image/png": "[encoded data removed]",
      "text/plain": [
       "<Figure size 432x288 with 1 Axes>"
      ]
     },
     "metadata": {
      "needs_background": "light"
     },
     "output_type": "display_data"
    }
   ],
   "source": [
    "N = (int)(np.ceil(t_stop/dt))\n",
    "\n",
    "plt.plot(np.linspace(0, t_stop, N), ms, label=\"RK with states, dt = \"+str(dt))\n",
    "plt.plot(np.linspace(0, t_stop, N), ms_mps, \"--\", label=\"RK with MPS, dt = \"+str(dt))\n",
    "plt.legend()\n",
    "plt.show()\n",
    "\n",
    "#plt.plot(np.linspace(0, t_stop, N), entropies, label=\"dt = \"+str(dt))\n",
    "#plt.legend()\n",
    "#plt.show()"
   ]
  },
  {
   "cell_type": "code",
   "execution_count": 209,
   "id": "23f19a92",
   "metadata": {},
   "outputs": [
    {
     "data": {
      "image/png": "[encoded data removed]",
      "text/plain": [
       "<Figure size 432x288 with 1 Axes>"
      ]
     },
     "metadata": {
      "needs_background": "light"
     },
     "output_type": "display_data"
    }
   ],
   "source": [
    "N = (int)(np.ceil(t_stop/dt))\n",
    "\n",
    "plt.plot(np.linspace(0, t_stop, N), ms, label=\"RK with states, dt = \"+str(dt))\n",
    "plt.plot(np.linspace(0, t_stop, N), ms_mps, \"--\", label=\"RK with MPS, dt = \"+str(dt))\n",
    "plt.legend()\n",
    "plt.show()\n",
    "\n",
    "#plt.plot(np.linspace(0, t_stop, N), entropies, label=\"dt = \"+str(dt))\n",
    "#plt.legend()\n",
    "#plt.show()"
   ]
  }
 ],
 "metadata": {
  "kernelspec": {
   "display_name": "Python 3",
   "language": "python",
   "name": "python3"
  },
  "language_info": {
   "codemirror_mode": {
    "name": "ipython",
    "version": 3
   },
   "file_extension": ".py",
   "mimetype": "text/x-python",
   "name": "python",
   "nbconvert_exporter": "python",
   "pygments_lexer": "ipython3",
   "version": "3.8.5"
  }
 },
 "nbformat": 4,
 "nbformat_minor": 5
}
