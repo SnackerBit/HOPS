{
 "cells": [
  {
   "cell_type": "code",
   "execution_count": 1,
   "id": "87f5bfec",
   "metadata": {},
   "outputs": [],
   "source": [
    "%load_ext autoreload\n",
    "%autoreload 2"
   ]
  },
  {
   "cell_type": "code",
   "execution_count": 4,
   "id": "dc489e4f",
   "metadata": {},
   "outputs": [],
   "source": [
    "import numpy as np\n",
    "import scipy\n",
    "import matplotlib.pyplot as plt\n",
    "import time\n",
    "from tqdm.notebook import tqdm\n",
    "import sys\n",
    "import helper_functions\n",
    "sys.path.append(\"../../\")\n",
    "from src.mps import mps\n",
    "from src.mps import addition\n",
    "from src.mps import tfi_model"
   ]
  },
  {
   "cell_type": "code",
   "execution_count": 9,
   "id": "99b6e812",
   "metadata": {},
   "outputs": [
    {
     "name": "stdout",
     "output_type": "stream",
     "text": [
      "[1, 1, 1, 1, 1, 1, 1, 1, 1, 1, 1, 1, 1]\n"
     ]
    }
   ],
   "source": [
    "psi = mps.MPS.initialize_spinup(14)\n",
    "psi.sanity_check()\n",
    "print(psi.get_bond_dims())"
   ]
  },
  {
   "cell_type": "code",
   "execution_count": 10,
   "id": "ac9f479d",
   "metadata": {},
   "outputs": [
    {
     "name": "stdout",
     "output_type": "stream",
     "text": [
      "[20, 20, 20, 20, 20, 20, 20, 20, 20, 20, 20, 20, 20]\n"
     ]
    }
   ],
   "source": [
    "psi = mps.MPS.initialize_spinup(14, chimax=20)\n",
    "psi.sanity_check()\n",
    "print(psi.get_bond_dims())"
   ]
  },
  {
   "cell_type": "code",
   "execution_count": null,
   "id": "164bba7d",
   "metadata": {},
   "outputs": [],
   "source": []
  }
 ],
 "metadata": {
  "kernelspec": {
   "display_name": "Python 3 (ipykernel)",
   "language": "python",
   "name": "python3"
  },
  "language_info": {
   "codemirror_mode": {
    "name": "ipython",
    "version": 3
   },
   "file_extension": ".py",
   "mimetype": "text/x-python",
   "name": "python",
   "nbconvert_exporter": "python",
   "pygments_lexer": "ipython3",
   "version": "3.9.7"
  }
 },
 "nbformat": 4,
 "nbformat_minor": 5
}
