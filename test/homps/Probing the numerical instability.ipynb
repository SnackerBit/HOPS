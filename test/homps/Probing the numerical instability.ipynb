{
 "cells": [
  {
   "cell_type": "markdown",
   "id": "biological-destination",
   "metadata": {},
   "source": [
    "In this notebook, we compare RK4 HOPS and RK4 HOMPS using as example the spin boson model at high temperatures and low damping, trying to find the numerical instability"
   ]
  },
  {
   "cell_type": "code",
   "execution_count": 1,
   "id": "neutral-office",
   "metadata": {},
   "outputs": [],
   "source": [
    "%load_ext autoreload\n",
    "%autoreload 2"
   ]
  },
  {
   "cell_type": "code",
   "execution_count": 526,
   "id": "victorian-track",
   "metadata": {},
   "outputs": [],
   "source": [
    "import numpy as np\n",
    "import matplotlib.pyplot as plt\n",
    "from tqdm.notebook import  tqdm\n",
    "from scipy.linalg import svd\n",
    "import time\n",
    "import sys\n",
    "sys.path.append(\"../../\")\n",
    "from src.util import operators\n",
    "from src.util.stochastic_expectation_value import compute_stochastic_expectation_value_nonlinear as compute_exp_val_nonlinear\n",
    "from src.util.stochastic_expectation_value import compute_stochastic_expectation_value_linear as compute_exp_val_linear\n",
    "from src.util import bath_correlation_function\n",
    "from src.util import debye_spectral_density  \n",
    "from src.homps import homps\n",
    "from src.homps import homps_model\n",
    "from src.util import operators\n",
    "from src.hops import hops\n",
    "from src.util import noise_generator\n",
    "from src.mps import mps\n",
    "import helper_functions\n",
    "import mpmath"
   ]
  },
  {
   "cell_type": "code",
   "execution_count": 15,
   "id": "color-curve",
   "metadata": {},
   "outputs": [],
   "source": [
    "# Parameters for the spin-boson model\n",
    "epsilon = 2.0\n",
    "delta = -2.0\n",
    "# Parameters for the Debye spectral density\n",
    "beta = 0.5\n",
    "T = 1/beta\n",
    "gamma = 0.25\n",
    "eta = 0.5\n",
    "# operators\n",
    "sigma_x, sigma_z, eye = operators.generate_physical_operators()\n",
    "L = sigma_z\n",
    "h = operators.generate_spin_boson_hamiltonian(delta=delta, epsilon=epsilon)\n",
    "# time window\n",
    "duration = 30"
   ]
  },
  {
   "cell_type": "code",
   "execution_count": 16,
   "id": "becoming-breakdown",
   "metadata": {},
   "outputs": [],
   "source": [
    "N_terms = 1\n",
    "g, w = debye_spectral_density.get_debye_coefficients(N_terms, T, gamma, eta)\n",
    "g_noise, w_noise = debye_spectral_density.get_debye_coefficients(1000, T, gamma, eta)"
   ]
  },
  {
   "cell_type": "code",
   "execution_count": 224,
   "id": "economic-marketplace",
   "metadata": {},
   "outputs": [],
   "source": [
    "N_steps = 1000\n",
    "N_trunc = 30\n",
    "linear = False\n",
    "use_noise = True"
   ]
  },
  {
   "cell_type": "code",
   "execution_count": 225,
   "id": "excellent-latitude",
   "metadata": {},
   "outputs": [],
   "source": [
    "def swap_from_HOPS_to_HOMPS(psi):\n",
    "    \"\"\"\n",
    "    Helper functions that transforms a state vector\n",
    "    in H_aux \\kron H_phys to Hphys \\kron H_aux or the other way around!\n",
    "    \"\"\"\n",
    "    result = np.reshape(psi, (2, N_trunc))\n",
    "    return np.reshape(result.T, (2*N_trunc))"
   ]
  },
  {
   "cell_type": "code",
   "execution_count": 510,
   "id": "younger-sapphire",
   "metadata": {},
   "outputs": [],
   "source": [
    "def mp_matrix_to_numpy_array(A):\n",
    "    return np.array([[np.complex256(x) for x in row] for row in A.tolist()], dtype=np.complex256)"
   ]
  },
  {
   "cell_type": "code",
   "execution_count": 511,
   "id": "prerequisite-tennessee",
   "metadata": {},
   "outputs": [],
   "source": [
    "def svd_exact(A, prec=100): \n",
    "    \"\"\"\n",
    "    Helper function that computes a SVD with 128bit precision\n",
    "    \"\"\"\n",
    "    mp.prec = prec\n",
    "    A_mp = mp.matrix(A.tolist())\n",
    "    U, S, V = mp.svd(A_mp)\n",
    "    U = mp_matrix_to_numpy_array(U)\n",
    "    S = mp_matrix_to_numpy_array(S)[:, 0]\n",
    "    V = mp_matrix_to_numpy_array(V)\n",
    "    return U, S, V"
   ]
  },
  {
   "cell_type": "code",
   "execution_count": 512,
   "id": "empirical-chassis",
   "metadata": {},
   "outputs": [],
   "source": [
    "# Prepare matrices for HOPS RK4\n",
    "temp_options = {\n",
    "    'linear' : linear,\n",
    "    'use_noise' : use_noise,\n",
    "    'method' : 'Trotter'\n",
    "}\n",
    "temp_hops = hops.HOPS_Engine_Simple(g, w, h, L, duration, N_steps, N_trunc, temp_options)\n",
    "Heff_linear = temp_hops.Heff_linear\n",
    "if use_noise:\n",
    "    Heff_noise = temp_hops.Heff_noise\n",
    "if not linear:\n",
    "    Heff_nonlinear = temp_hops.Heff_nonlinear"
   ]
  },
  {
   "cell_type": "code",
   "execution_count": 513,
   "id": "dense-chick",
   "metadata": {},
   "outputs": [],
   "source": [
    "# Prepare MPOS for HOMPS RK4\n",
    "temp_homps_model = homps_model.HOMPSModel(g, w, h, L, N_trunc)\n",
    "Heff_MPO_0 = temp_homps_model.H_mpo[0].copy()\n",
    "Heff_MPO_1 = temp_homps_model.H_mpo[1].copy()"
   ]
  },
  {
   "cell_type": "code",
   "execution_count": 514,
   "id": "shaped-tumor",
   "metadata": {},
   "outputs": [],
   "source": [
    "# Prepare the noise\n",
    "#zts = np.zeros(N_steps*2)\n",
    "#if use_noise:\n",
    "#    alpha = lambda tau : bath_correlation_function.alpha(tau, g, w) \n",
    "#    alpha0 = alpha(0)\n",
    "#    generator = noise_generator.ColoredNoiseGenerator_FourierFiltering(2*N_steps, alpha, 0, duration)\n",
    "#    zts = generator.sample_process()"
   ]
  },
  {
   "cell_type": "code",
   "execution_count": 515,
   "id": "weighted-spider",
   "metadata": {},
   "outputs": [],
   "source": [
    "def construct_RHS_HOPS(psi, memory, zt):\n",
    "    Heff = Heff_linear.copy()\n",
    "    if not linear:\n",
    "        expL = ((np.conj(psi[0:2])@np.conj(L).T@psi[0:2])/(np.conj(psi[0:2])@psi[0:2])).item()\n",
    "        Heff += expL * Heff_nonlinear\n",
    "    if use_noise:\n",
    "        Heff += (np.conj(zt) + memory) * Heff_noise\n",
    "    memory_update = 0.\n",
    "    if not linear:\n",
    "        memory_update = -np.conj(w.item())*memory + np.conj(alpha0).item()*expL\n",
    "    return -1.j*Heff@psi, memory_update"
   ]
  },
  {
   "cell_type": "code",
   "execution_count": 516,
   "id": "german-contact",
   "metadata": {},
   "outputs": [],
   "source": [
    "def construct_RHS_HOMPS(psi, memory, zt):\n",
    "    # First test: Just contract the MPO!\n",
    "    Heff_MPO = [Heff_MPO_0.copy(), Heff_MPO_1.copy()]\n",
    "    if not linear:\n",
    "        expL = ((np.conj(psi[0:2])@np.conj(L).T@psi[0:2])/(np.conj(psi[0:2])@psi[0:2])).item()\n",
    "        Heff_MPO[0][0, 2, :, :] += 1.j * expL * eye\n",
    "    if use_noise:\n",
    "        Heff_MPO[0][0, 3, :, :] += 1.j * (np.conj(zt) + memory) * L\n",
    "    # contract\n",
    "    Heff = np.tensordot(Heff_MPO[0][0, :, :, :], Heff_MPO[1][:, -1, :, :], ([0], [0])) # [wR] i i*; [wL] j j* \n",
    "    Heff = np.transpose(Heff, (2, 0, 3, 1)) # i i* j j* -> j i j* i*\n",
    "    Heff = np.reshape(Heff, (Heff.shape[0]*Heff.shape[1], Heff.shape[2]*Heff.shape[3])) # (j i), (j* i*)\n",
    "    memory_update = 0.\n",
    "    if not linear:\n",
    "        memory_update = -np.conj(w.item())*memory + np.conj(alpha0).item()*expL\n",
    "    return -1.j*Heff@psi, memory_update"
   ]
  },
  {
   "cell_type": "code",
   "execution_count": 517,
   "id": "acute-constitution",
   "metadata": {},
   "outputs": [],
   "source": [
    "def compute_update_HOPS(psi, memory, t_index, dt):\n",
    "    k1, q1 = construct_RHS_HOPS(psi, memory, zts[2*t_index])\n",
    "    k2, q2 = construct_RHS_HOPS(psi + dt/2*k1, memory + dt/2*q1, zts[2*t_index+1])\n",
    "    k3, q3 = construct_RHS_HOPS(psi + dt/2*k2, memory + dt/2*q2, zts[2*t_index+1])\n",
    "    k4, q4 = construct_RHS_HOPS(psi + dt*k3, memory + dt*q3, zts[2*t_index+2])\n",
    "    psi_prime = psi + dt/6*(k1+2*k2+2*k3+k4)\n",
    "    memory_prime = memory + dt/6*(q1+2*q2+2*q3+q4)\n",
    "    return psi_prime, memory_prime"
   ]
  },
  {
   "cell_type": "code",
   "execution_count": 518,
   "id": "breeding-publicity",
   "metadata": {},
   "outputs": [],
   "source": [
    "def compute_update_HOMPS(psi, memory, t_index, dt):\n",
    "    k1, q1 = construct_RHS_HOMPS(psi, memory, zts[2*t_index])\n",
    "    k2, q2 = construct_RHS_HOMPS(psi + dt/2*k1, memory + dt/2*q1, zts[2*t_index+1])\n",
    "    k3, q3 = construct_RHS_HOMPS(psi + dt/2*k2, memory + dt/2*q2, zts[2*t_index+1])\n",
    "    k4, q4 = construct_RHS_HOMPS(psi + dt*k3, memory + dt*q3, zts[2*t_index+2])\n",
    "    psi_prime = psi + dt/6*(k1+2*k2+2*k3+k4)\n",
    "    memory_prime = memory + dt/6*(q1+2*q2+2*q3+q4)\n",
    "    return psi_prime, memory_prime"
   ]
  },
  {
   "cell_type": "code",
   "execution_count": 523,
   "id": "peaceful-original",
   "metadata": {},
   "outputs": [
    {
     "data": {
      "application/vnd.jupyter.widget-view+json": {
       "model_id": "0bbc7326573a456cb2c4c3ba2890b576",
       "version_major": 2,
       "version_minor": 0
      },
      "text/plain": [
       "  0%|          | 0/999 [00:00<?, ?it/s]"
      ]
     },
     "metadata": {},
     "output_type": "display_data"
    }
   ],
   "source": [
    "# perform time evolution\n",
    "\n",
    "psis_HOPS = np.empty((N_steps, 2), dtype=complex)\n",
    "psi_HOPS = np.zeros(N_trunc*2)\n",
    "psi_HOPS[0] = 1.\n",
    "psis_HOPS[0, :] = psi_HOPS[0:2]\n",
    "memory_HOPS = 0.\n",
    "\n",
    "psis_HOMPS = np.empty((N_steps, 2), dtype=np.complex256)\n",
    "psi_HOMPS = np.zeros(N_trunc*2)\n",
    "psi_HOMPS[0] = 1.\n",
    "psis_HOMPS[0, :] = psi_HOPS[0:2]\n",
    "memory_HOMPS = 0.\n",
    "\n",
    "dt = duration/N_steps\n",
    "\n",
    "for i in tqdm(range(N_steps-1)):\n",
    "    psi_HOPS, memory_HOPS = compute_update_HOPS(psi_HOPS, memory_HOPS, i, dt)\n",
    "    psi_HOPS /= np.linalg.norm(psi_HOPS)\n",
    "    psis_HOPS[i+1, :] = psi_HOPS[0:2]\n",
    "    \n",
    "    psi_HOMPS, memory_HOMPS = compute_update_HOMPS(psi_HOMPS, memory_HOMPS, i, dt)\n",
    "    psi_HOMPS /= np.linalg.norm(psi_HOMPS)\n",
    "    \n",
    "    #psi_HOMPS = swap_from_HOPS_to_HOMPS(psi_HOMPS)\n",
    "    temp = np.reshape(psi_HOMPS, (N_trunc, 2))\n",
    "    #U, S, V = svd(temp, full_matrices=False, lapack_driver='gesdd')\n",
    "    #U, S, V = svd_exact(temp)\n",
    "    #psi_HOMPS = np.reshape(U@np.diag(S)@V, 2*N_trunc)\n",
    "    #error = np.linalg.norm(np.abs(temp - U@np.diag(S)@V)) / np.linalg.norm(np.abs(temp))\n",
    "    #print(error)\n",
    "    #psi_HOMPS = mps.MPS.initialize_from_state_vector(psi_HOPS.copy(), 2, chi_max=100, eps=0, d=[N_trunc, 2])\n",
    "    #psi_HOMPS = helper_functions.uncompress(psi_HOMPS)\n",
    "    #psi_HOMPS = swap_from_HOPS_to_HOMPS(psi_HOMPS)\n",
    "    \n",
    "    psis_HOMPS[i+1, :] = psi_HOMPS[0:2]"
   ]
  },
  {
   "cell_type": "code",
   "execution_count": 522,
   "id": "every-collection",
   "metadata": {},
   "outputs": [
    {
     "data": {
      "image/png": "[encoded data removed]",
      "text/plain": [
       "<Figure size 1080x288 with 2 Axes>"
      ]
     },
     "metadata": {
      "needs_background": "light"
     },
     "output_type": "display_data"
    }
   ],
   "source": [
    "# compute and plot expectation values\n",
    "figure, axarray = plt.subplots(1, 2, figsize=(15, 4))\n",
    "\n",
    "sigma_zs_HOPS = compute_exp_val_nonlinear(np.expand_dims(psis_HOPS, axis=0), sigma_z)\n",
    "sigma_zs_HOMPS = compute_exp_val_nonlinear(np.expand_dims(psis_HOMPS, axis=0), sigma_z)\n",
    "error = np.linalg.norm(np.abs(psis_HOPS - psis_HOMPS), axis=1) / np.linalg.norm(np.abs(psis_HOPS), axis=1)\n",
    "\n",
    "ts = np.linspace(0, duration, N_steps)\n",
    "\n",
    "axarray[0].plot(ts, sigma_zs_HOPS, label=\"HOPS\")\n",
    "axarray[0].plot(ts, sigma_zs_HOMPS, \"--\", label=\"HOMPS\")\n",
    "axarray[0].set_title(\"\")\n",
    "axarray[0].set_xlabel(\"t\")\n",
    "axarray[0].set_ylabel(\"$<L>$\")\n",
    "axarray[0].set_title(\"expectation value of L\")\n",
    "axarray[0].legend()\n",
    "\n",
    "axarray[1].plot(ts, error)\n",
    "axarray[1].set_yscale(\"log\")\n",
    "axarray[1].set_xlabel(\"t\")\n",
    "axarray[1].set_title(r\"normalized error $\\frac{||\\Psi_{HOPS}-\\Psi_{HOMPS}||}{||\\Psi_{HOPS}||}$\")\n",
    "\n",
    "#plt.savefig(\"plots/using_contracted_MPO.pdf\")\n",
    "plt.show()"
   ]
  },
  {
   "cell_type": "code",
   "execution_count": 524,
   "id": "missing-hebrew",
   "metadata": {},
   "outputs": [
    {
     "data": {
      "image/png": "[encoded data removed]",
      "text/plain": [
       "<Figure size 1080x288 with 2 Axes>"
      ]
     },
     "metadata": {
      "needs_background": "light"
     },
     "output_type": "display_data"
    }
   ],
   "source": [
    "# compute and plot expectation values\n",
    "figure, axarray = plt.subplots(1, 2, figsize=(15, 4))\n",
    "\n",
    "sigma_zs_HOPS = compute_exp_val_nonlinear(np.expand_dims(psis_HOPS, axis=0), sigma_z)\n",
    "sigma_zs_HOMPS = compute_exp_val_nonlinear(np.expand_dims(psis_HOMPS, axis=0), sigma_z)\n",
    "error = np.linalg.norm(np.abs(psis_HOPS - psis_HOMPS), axis=1) / np.linalg.norm(np.abs(psis_HOPS), axis=1)\n",
    "\n",
    "ts = np.linspace(0, duration, N_steps)\n",
    "\n",
    "axarray[0].plot(ts, sigma_zs_HOPS, label=\"HOPS\")\n",
    "axarray[0].plot(ts, sigma_zs_HOMPS, \"--\", label=\"HOMPS\")\n",
    "axarray[0].set_title(\"\")\n",
    "axarray[0].set_xlabel(\"t\")\n",
    "axarray[0].set_ylabel(\"$<L>$\")\n",
    "axarray[0].set_title(\"expectation value of L\")\n",
    "axarray[0].legend()\n",
    "\n",
    "axarray[1].plot(ts, error)\n",
    "axarray[1].set_yscale(\"log\")\n",
    "axarray[1].set_xlabel(\"t\")\n",
    "axarray[1].set_title(r\"normalized error $\\frac{||\\Psi_{HOPS}-\\Psi_{HOMPS}||}{||\\Psi_{HOPS}||}$\")\n",
    "\n",
    "#plt.savefig(\"plots/using_contracted_MPO.pdf\")\n",
    "plt.show()"
   ]
  },
  {
   "cell_type": "code",
   "execution_count": 491,
   "id": "convinced-angel",
   "metadata": {},
   "outputs": [
    {
     "name": "stdout",
     "output_type": "stream",
     "text": [
      "Mpmath settings:\n",
      "  mp.prec = 100               [default: 53]\n",
      "  mp.dps = 29                 [default: 15]\n",
      "  mp.trap_complex = False     [default: False]\n"
     ]
    }
   ],
   "source": [
    "mp.prec = 100\n",
    "print(mp)"
   ]
  },
  {
   "cell_type": "code",
   "execution_count": 492,
   "id": "needed-namibia",
   "metadata": {},
   "outputs": [],
   "source": [
    "N, M = 40, 50"
   ]
  },
  {
   "cell_type": "code",
   "execution_count": 493,
   "id": "adjusted-spouse",
   "metadata": {},
   "outputs": [],
   "source": [
    "def mp_matrix_to_numpy_array(A):\n",
    "    return np.array([[np.complex256(x) for x in row] for row in A.tolist()], dtype=np.complex256)"
   ]
  },
  {
   "cell_type": "code",
   "execution_count": 494,
   "id": "changing-screw",
   "metadata": {},
   "outputs": [
    {
     "name": "stdout",
     "output_type": "stream",
     "text": [
      "1.5154562546756266e-15\n"
     ]
    }
   ],
   "source": [
    "A = np.array(np.random.random((N, M)), dtype=np.complex128) + 1.j * np.array(np.random.random((N, M)), dtype=np.complex128)\n",
    "U, S, V = svd(A, full_matrices=False)\n",
    "error = np.linalg.norm(np.abs(A - U@np.diag(S)@V)) / np.linalg.norm(np.abs(A))\n",
    "print(error)"
   ]
  },
  {
   "cell_type": "code",
   "execution_count": 495,
   "id": "conditional-malaysia",
   "metadata": {},
   "outputs": [],
   "source": [
    "A_mp = mp.matrix(A.tolist())\n",
    "U, S, V = mp.svd(A_mp)\n",
    "A_compare = mp_matrix_to_numpy_array(U*mp.diag(S)*V)\n",
    "#U = mp_matrix_to_numpy_array(U)\n",
    "#S = mp_matrix_to_numpy_array(S)[:, 0]\n",
    "#V = mp_matrix_to_numpy_array(V)"
   ]
  },
  {
   "cell_type": "code",
   "execution_count": 496,
   "id": "subject-harvest",
   "metadata": {},
   "outputs": [],
   "source": [
    "U_np = mp_matrix_to_numpy_array(U)\n",
    "S_np = mp_matrix_to_numpy_array(S)[:, 0]\n",
    "V_np = mp_matrix_to_numpy_array(V)"
   ]
  },
  {
   "cell_type": "code",
   "execution_count": 497,
   "id": "desperate-branch",
   "metadata": {},
   "outputs": [
    {
     "name": "stdout",
     "output_type": "stream",
     "text": [
      "(-4.0405663577260161108025171601e-18 - 5.2767971726708879713872478729e-18j)\n"
     ]
    }
   ],
   "source": [
    "print(U[0, 0]-np.complex256(complex(U[0, 0])))"
   ]
  },
  {
   "cell_type": "code",
   "execution_count": 498,
   "id": "noble-filing",
   "metadata": {},
   "outputs": [
    {
     "name": "stdout",
     "output_type": "stream",
     "text": [
      "(-0.1089235571021881134206250914033039296665050827583510561794521119549639109891359112225472927093505859 - 0.1033601815169991386432938941353882682481811766834123927783352196729804717278966563753783702850341797j)\n"
     ]
    }
   ],
   "source": [
    "print(mp.nstr(U[0, 0], n=100))"
   ]
  },
  {
   "cell_type": "code",
   "execution_count": 499,
   "id": "boring-swimming",
   "metadata": {},
   "outputs": [
    {
     "name": "stdout",
     "output_type": "stream",
     "text": [
      "7.272874418072857168e-17\n",
      "0.0\n"
     ]
    }
   ],
   "source": [
    "error = np.linalg.norm(np.abs(A - U_np@np.diag(S_np)@V_np)) / np.linalg.norm(np.abs(A))\n",
    "print(error)\n",
    "error = np.linalg.norm(np.abs(A - A_compare)) / np.linalg.norm(np.abs(A))\n",
    "print(error)"
   ]
  },
  {
   "cell_type": "code",
   "execution_count": 470,
   "id": "stopped-treatment",
   "metadata": {},
   "outputs": [
    {
     "name": "stdout",
     "output_type": "stream",
     "text": [
      "(1+0j)\n"
     ]
    }
   ],
   "source": [
    "print(np.complex256(1)+np.complex256(1e-20))"
   ]
  },
  {
   "cell_type": "code",
   "execution_count": null,
   "id": "small-mathematics",
   "metadata": {},
   "outputs": [],
   "source": []
  }
 ],
 "metadata": {
  "kernelspec": {
   "display_name": "Python 3",
   "language": "python",
   "name": "python3"
  },
  "language_info": {
   "codemirror_mode": {
    "name": "ipython",
    "version": 3
   },
   "file_extension": ".py",
   "mimetype": "text/x-python",
   "name": "python",
   "nbconvert_exporter": "python",
   "pygments_lexer": "ipython3",
   "version": "3.8.5"
  }
 },
 "nbformat": 4,
 "nbformat_minor": 5
}
