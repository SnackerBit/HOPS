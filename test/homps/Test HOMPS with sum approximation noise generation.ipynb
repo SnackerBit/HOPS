{
 "cells": [
  {
   "cell_type": "code",
   "execution_count": 1,
   "id": "canadian-twist",
   "metadata": {},
   "outputs": [],
   "source": [
    "%load_ext autoreload\n",
    "%autoreload 2"
   ]
  },
  {
   "cell_type": "code",
   "execution_count": 2,
   "id": "announced-letter",
   "metadata": {},
   "outputs": [],
   "source": [
    "import numpy as np\n",
    "import matplotlib.pyplot as plt\n",
    "from tqdm.notebook import  tqdm\n",
    "import time\n",
    "import sys\n",
    "sys.path.append(\"../../\")\n",
    "from src.util import operators\n",
    "from src.util.stochastic_expectation_value import compute_stochastic_expectation_value_nonlinear as compute_exp_val_nonlinear\n",
    "from src.util.stochastic_expectation_value import compute_stochastic_expectation_value_linear as compute_exp_val_linear\n",
    "from src.util import bath_correlation_function\n",
    "from src.util import debye_spectral_density  \n",
    "from src.homps import homps\n",
    "from src.util import operators\n",
    "from src.hops import hops\n",
    "from src.util import noise_generator"
   ]
  },
  {
   "cell_type": "markdown",
   "id": "boolean-numbers",
   "metadata": {},
   "source": [
    "# Simple test"
   ]
  },
  {
   "cell_type": "code",
   "execution_count": 3,
   "id": "english-marsh",
   "metadata": {},
   "outputs": [],
   "source": [
    "# parameters for the bath correlation functions\n",
    "g = np.array([2])\n",
    "w = np.array([0.5+2j])\n",
    "# time\n",
    "duration = 50\n",
    "# operators\n",
    "sigma_x, sigma_z, eye = operators.generate_physical_operators()\n",
    "h = operators.generate_spin_boson_hamiltonian()\n",
    "L = sigma_z"
   ]
  },
  {
   "cell_type": "code",
   "execution_count": 4,
   "id": "romantic-fifty",
   "metadata": {},
   "outputs": [],
   "source": [
    "N_steps = 1000\n",
    "N_trunc = 8"
   ]
  },
  {
   "cell_type": "code",
   "execution_count": 7,
   "id": "ordinary-insured",
   "metadata": {},
   "outputs": [],
   "source": [
    "options = {\n",
    "    'linear' : False,\n",
    "    'use_noise' : True,\n",
    "    'chi_max' : 10,\n",
    "    'eps' : 0,\n",
    "    'method' : 'RK4',\n",
    "}"
   ]
  },
  {
   "cell_type": "code",
   "execution_count": 8,
   "id": "norwegian-camera",
   "metadata": {},
   "outputs": [
    {
     "name": "stdout",
     "output_type": "stream",
     "text": [
      "0\n"
     ]
    }
   ],
   "source": [
    "my_homps = homps.HOMPS_Engine(g, w, h, L, duration, N_steps, N_trunc, options)"
   ]
  },
  {
   "cell_type": "code",
   "execution_count": 9,
   "id": "native-cookbook",
   "metadata": {},
   "outputs": [
    {
     "data": {
      "application/vnd.jupyter.widget-view+json": {
       "model_id": "cc0b7ef5dbf24ef5b6e6642c04f36fcf",
       "version_major": 2,
       "version_minor": 0
      },
      "text/plain": [
       "  0%|          | 0/100 [00:00<?, ?it/s]"
      ]
     },
     "metadata": {},
     "output_type": "display_data"
    }
   ],
   "source": [
    "psis_100 = my_homps.compute_realizations(N_samples=100, progressBar=tqdm)"
   ]
  },
  {
   "cell_type": "code",
   "execution_count": 10,
   "id": "incorrect-lighter",
   "metadata": {},
   "outputs": [],
   "source": [
    "#psis_1000 = my_homps.compute_realizations(N_samples=1000, progressBar=tqdm)"
   ]
  },
  {
   "cell_type": "code",
   "execution_count": 11,
   "id": "southeast-travel",
   "metadata": {},
   "outputs": [],
   "source": [
    "sigma_zs_100 = compute_exp_val_nonlinear(psis_100, sigma_z)\n",
    "#sigma_zs_1000 = compute_exp_val_nonlinear(psis_1000, sigma_z)"
   ]
  },
  {
   "cell_type": "code",
   "execution_count": 12,
   "id": "encouraging-consortium",
   "metadata": {},
   "outputs": [
    {
     "data": {
      "image/png": "[encoded data removed]",
      "text/plain": [
       "<Figure size 432x288 with 1 Axes>"
      ]
     },
     "metadata": {
      "needs_background": "light"
     },
     "output_type": "display_data"
    }
   ],
   "source": [
    "plt.plot(np.linspace(0, duration, N_steps), sigma_zs_100, label=\"100 samples\")\n",
    "#plt.plot(np.linspace(0, duration, N_steps), sigma_zs_1000, label=\"1000 samples\")\n",
    "plt.ylim(-1, 1)\n",
    "plt.xlim(0, duration)\n",
    "plt.legend()\n",
    "plt.show()"
   ]
  },
  {
   "cell_type": "code",
   "execution_count": 352,
   "id": "married-initial",
   "metadata": {},
   "outputs": [],
   "source": [
    "options = {\n",
    "    'linear' : False,\n",
    "    'use_noise' : False,\n",
    "    'chi_max' : 10,\n",
    "    'eps' : 0,\n",
    "    'method' : 'RK4',\n",
    "    'physical' : False,\n",
    "}"
   ]
  },
  {
   "cell_type": "code",
   "execution_count": 353,
   "id": "saving-appeal",
   "metadata": {},
   "outputs": [
    {
     "name": "stdout",
     "output_type": "stream",
     "text": [
      "non physical\n"
     ]
    }
   ],
   "source": [
    "my_homps = homps.HOMPS_Engine(g, w, h, L, duration, N_steps, N_trunc, options)"
   ]
  },
  {
   "cell_type": "code",
   "execution_count": 354,
   "id": "orange-english",
   "metadata": {},
   "outputs": [
    {
     "data": {
      "application/vnd.jupyter.widget-view+json": {
       "model_id": "124d3b09abad4a0ea082fed4010bdce0",
       "version_major": 2,
       "version_minor": 0
      },
      "text/plain": [
       "  0%|          | 0/1 [00:00<?, ?it/s]"
      ]
     },
     "metadata": {},
     "output_type": "display_data"
    }
   ],
   "source": [
    "psi_no_noise = my_homps.compute_realizations(N_samples=1, progressBar=tqdm)"
   ]
  },
  {
   "cell_type": "code",
   "execution_count": 355,
   "id": "atlantic-turkey",
   "metadata": {},
   "outputs": [],
   "source": [
    "sigma_zs = compute_exp_val_nonlinear(psi_no_noise, sigma_z)"
   ]
  },
  {
   "cell_type": "code",
   "execution_count": 356,
   "id": "realistic-familiar",
   "metadata": {},
   "outputs": [
    {
     "data": {
      "image/png": "[encoded data removed]",
      "text/plain": [
       "<Figure size 432x288 with 1 Axes>"
      ]
     },
     "metadata": {
      "needs_background": "light"
     },
     "output_type": "display_data"
    }
   ],
   "source": [
    "plt.plot(np.linspace(0, duration, N_steps), sigma_zs)\n",
    "plt.ylim(-1, 1)\n",
    "plt.xlim(0, duration)\n",
    "plt.show()"
   ]
  },
  {
   "cell_type": "markdown",
   "id": "christian-withdrawal",
   "metadata": {},
   "source": [
    "# High T, low damping"
   ]
  },
  {
   "cell_type": "code",
   "execution_count": 64,
   "id": "collaborative-cleanup",
   "metadata": {},
   "outputs": [],
   "source": [
    "# Parameters for the spin-boson model\n",
    "epsilon = 2.0\n",
    "delta = -2.0\n",
    "# Parameters for the Debye spectral density\n",
    "beta = 0.5\n",
    "T = 1/beta\n",
    "gamma = 0.25\n",
    "eta = 0.5\n",
    "# operators\n",
    "sigma_x, sigma_z, eye = operators.generate_physical_operators()\n",
    "L = sigma_z\n",
    "h = operators.generate_spin_boson_hamiltonian(delta=delta, epsilon=epsilon)\n",
    "# time window\n",
    "duration = 30"
   ]
  },
  {
   "cell_type": "code",
   "execution_count": 65,
   "id": "double-local",
   "metadata": {},
   "outputs": [],
   "source": [
    "N_terms = 1\n",
    "g, w = debye_spectral_density.get_debye_coefficients(N_terms, T, gamma, eta)\n",
    "N_terms_noise = 5000\n",
    "g_noise, w_noise = debye_spectral_density.get_debye_coefficients(N_terms_noise, T, gamma, eta)"
   ]
  },
  {
   "cell_type": "code",
   "execution_count": 66,
   "id": "decreased-leadership",
   "metadata": {},
   "outputs": [],
   "source": [
    "N_steps = 500\n",
    "N_trunc = 40"
   ]
  },
  {
   "cell_type": "code",
   "execution_count": 100,
   "id": "ultimate-bundle",
   "metadata": {},
   "outputs": [],
   "source": [
    "N_memory = 4"
   ]
  },
  {
   "cell_type": "markdown",
   "id": "amino-blood",
   "metadata": {},
   "source": [
    "## FFT noise"
   ]
  },
  {
   "cell_type": "code",
   "execution_count": 101,
   "id": "liquid-sullivan",
   "metadata": {},
   "outputs": [],
   "source": [
    "alpha = lambda tau : bath_correlation_function.alpha(tau, g_noise, w_noise)"
   ]
  },
  {
   "cell_type": "code",
   "execution_count": 102,
   "id": "first-trouble",
   "metadata": {},
   "outputs": [],
   "source": [
    "options = {\n",
    "    'linear' : False,\n",
    "    'use_noise' : True,\n",
    "    'chi_max' : 10,\n",
    "    'eps' : 0,\n",
    "    'method' : 'RK4',\n",
    "    'rescale_aux' : True,\n",
    "    'noise_generator' : noise_generator.ColoredNoiseGenerator_FourierFiltering(alpha, 0, duration),\n",
    "    'g_memory' : g_noise[:N_memory],\n",
    "    'w_memory' : w_noise[:N_memory],\n",
    "}"
   ]
  },
  {
   "cell_type": "code",
   "execution_count": 103,
   "id": "peaceful-cedar",
   "metadata": {},
   "outputs": [],
   "source": [
    "my_homps = homps.HOMPS_Engine(g, w, h, L, duration, N_steps, N_trunc, options)"
   ]
  },
  {
   "cell_type": "code",
   "execution_count": 104,
   "id": "pressed-person",
   "metadata": {},
   "outputs": [
    {
     "data": {
      "application/vnd.jupyter.widget-view+json": {
       "model_id": "7bc5e96af2a84bbdabaf6d7d6fdf45ae",
       "version_major": 2,
       "version_minor": 0
      },
      "text/plain": [
       "  0%|          | 0/100 [00:00<?, ?it/s]"
      ]
     },
     "metadata": {},
     "output_type": "display_data"
    }
   ],
   "source": [
    "psis_100_fft = my_homps.compute_realizations(100, progressBar=tqdm)"
   ]
  },
  {
   "cell_type": "code",
   "execution_count": 49,
   "id": "utility-literature",
   "metadata": {},
   "outputs": [
    {
     "data": {
      "application/vnd.jupyter.widget-view+json": {
       "model_id": "71f059f9b0c3425c8c6b50a4c026f0dd",
       "version_major": 2,
       "version_minor": 0
      },
      "text/plain": [
       "  0%|          | 0/1000 [00:00<?, ?it/s]"
      ]
     },
     "metadata": {},
     "output_type": "display_data"
    }
   ],
   "source": [
    "psis_1000_fft = my_homps.compute_realizations(1000, progressBar=tqdm)"
   ]
  },
  {
   "cell_type": "code",
   "execution_count": 105,
   "id": "korean-magnitude",
   "metadata": {},
   "outputs": [],
   "source": [
    "sigma_zs_100_fft = compute_exp_val_nonlinear(psis_100_fft, sigma_z)\n",
    "sigma_zs_1000_fft = compute_exp_val_nonlinear(psis_1000_fft, sigma_z)"
   ]
  },
  {
   "cell_type": "code",
   "execution_count": 106,
   "id": "mental-agent",
   "metadata": {},
   "outputs": [
    {
     "data": {
      "image/png": "[encoded data removed]",
      "text/plain": [
       "<Figure size 432x288 with 1 Axes>"
      ]
     },
     "metadata": {
      "needs_background": "light"
     },
     "output_type": "display_data"
    }
   ],
   "source": [
    "plt.plot(np.linspace(0, duration, N_steps), sigma_zs_100_fft)\n",
    "plt.plot(np.linspace(0, duration, N_steps), sigma_zs_1000_fft)\n",
    "plt.ylim(-.5, 1.)\n",
    "plt.xlim(0,30)\n",
    "plt.show()"
   ]
  },
  {
   "cell_type": "markdown",
   "id": "equal-tracy",
   "metadata": {},
   "source": [
    "## Sum approx noise"
   ]
  },
  {
   "cell_type": "code",
   "execution_count": 107,
   "id": "compound-horizontal",
   "metadata": {},
   "outputs": [],
   "source": [
    "N = 10000\n",
    "w_cut = 1000\n",
    "J = lambda w : debye_spectral_density.debye_spectral_density(w, eta, gamma)"
   ]
  },
  {
   "cell_type": "code",
   "execution_count": 108,
   "id": "graduate-diabetes",
   "metadata": {},
   "outputs": [],
   "source": [
    "generator = noise_generator.ColoredNoiseGenerator_SumApprox(J, 0, duration, N, w_cut, beta)"
   ]
  },
  {
   "cell_type": "code",
   "execution_count": 111,
   "id": "intelligent-software",
   "metadata": {},
   "outputs": [],
   "source": [
    "options = {\n",
    "    'linear' : False,\n",
    "    'use_noise' : True,\n",
    "    'chi_max' : 10,\n",
    "    'eps' : 0,\n",
    "    'method' : 'RK4',\n",
    "    'rescale_aux' : True,\n",
    "    'noise_generator' : generator,\n",
    "    'g_memory' : g_noise[:N_memory],\n",
    "    'w_memory' : w_noise[:N_memory],\n",
    "}"
   ]
  },
  {
   "cell_type": "code",
   "execution_count": 112,
   "id": "facial-carbon",
   "metadata": {},
   "outputs": [],
   "source": [
    "my_homps = homps.HOMPS_Engine(g, w, h, L, duration, N_steps, N_trunc, options)"
   ]
  },
  {
   "cell_type": "code",
   "execution_count": 113,
   "id": "isolated-elevation",
   "metadata": {},
   "outputs": [
    {
     "data": {
      "application/vnd.jupyter.widget-view+json": {
       "model_id": "abdc6271d4354ec7ada4698c06d48ba9",
       "version_major": 2,
       "version_minor": 0
      },
      "text/plain": [
       "  0%|          | 0/100 [00:00<?, ?it/s]"
      ]
     },
     "metadata": {},
     "output_type": "display_data"
    }
   ],
   "source": [
    "psis_100_sum_approx = my_homps.compute_realizations(100, progressBar=tqdm)"
   ]
  },
  {
   "cell_type": "code",
   "execution_count": 52,
   "id": "ideal-pacific",
   "metadata": {},
   "outputs": [
    {
     "data": {
      "application/vnd.jupyter.widget-view+json": {
       "model_id": "eb964060e8a44541811aebf41e0988fd",
       "version_major": 2,
       "version_minor": 0
      },
      "text/plain": [
       "  0%|          | 0/1000 [00:00<?, ?it/s]"
      ]
     },
     "metadata": {},
     "output_type": "display_data"
    }
   ],
   "source": [
    "psis_1000_sum_approx = my_homps.compute_realizations(1000, progressBar=tqdm)"
   ]
  },
  {
   "cell_type": "code",
   "execution_count": 114,
   "id": "official-richardson",
   "metadata": {},
   "outputs": [],
   "source": [
    "sigma_zs_100_sum_approx = compute_exp_val_nonlinear(psis_100_sum_approx, sigma_z)\n",
    "sigma_zs_1000_sum_approx = compute_exp_val_nonlinear(psis_1000_sum_approx, sigma_z)"
   ]
  },
  {
   "cell_type": "code",
   "execution_count": 115,
   "id": "framed-canada",
   "metadata": {},
   "outputs": [
    {
     "data": {
      "image/png": "[encoded data removed]",
      "text/plain": [
       "<Figure size 432x288 with 1 Axes>"
      ]
     },
     "metadata": {
      "needs_background": "light"
     },
     "output_type": "display_data"
    }
   ],
   "source": [
    "plt.plot(np.linspace(0, duration, N_steps), sigma_zs_100_sum_approx, label=\"sum approx\")\n",
    "plt.plot(np.linspace(0, duration, N_steps), sigma_zs_100_fft, label=\"fft\")\n",
    "plt.ylim(-0.5, 1)\n",
    "plt.yticks(np.linspace(-0.5, 1, 16))\n",
    "plt.xlim(0, duration)\n",
    "plt.grid()\n",
    "plt.legend()\n",
    "plt.show()"
   ]
  },
  {
   "cell_type": "code",
   "execution_count": 116,
   "id": "periodic-doubt",
   "metadata": {},
   "outputs": [
    {
     "data": {
      "image/png": "[encoded data removed]",
      "text/plain": [
       "<Figure size 432x288 with 1 Axes>"
      ]
     },
     "metadata": {
      "needs_background": "light"
     },
     "output_type": "display_data"
    }
   ],
   "source": [
    "plt.plot(np.linspace(0, duration, N_steps), sigma_zs_1000_sum_approx, label=\"sum approx\")\n",
    "plt.plot(np.linspace(0, duration, N_steps), sigma_zs_1000_fft, label=\"fft\")\n",
    "plt.ylim(-0.5, 1)\n",
    "plt.yticks(np.linspace(-0.5, 1, 16))\n",
    "plt.xlim(0, duration)\n",
    "plt.grid()\n",
    "plt.legend()\n",
    "plt.show()"
   ]
  },
  {
   "cell_type": "code",
   "execution_count": null,
   "id": "worse-birth",
   "metadata": {},
   "outputs": [],
   "source": []
  }
 ],
 "metadata": {
  "kernelspec": {
   "display_name": "Python 3",
   "language": "python",
   "name": "python3"
  },
  "language_info": {
   "codemirror_mode": {
    "name": "ipython",
    "version": 3
   },
   "file_extension": ".py",
   "mimetype": "text/x-python",
   "name": "python",
   "nbconvert_exporter": "python",
   "pygments_lexer": "ipython3",
   "version": "3.8.5"
  }
 },
 "nbformat": 4,
 "nbformat_minor": 5
}
