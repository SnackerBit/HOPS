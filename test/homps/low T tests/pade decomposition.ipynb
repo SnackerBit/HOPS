{
 "cells": [
  {
   "cell_type": "code",
   "execution_count": 1,
   "id": "pressing-financing",
   "metadata": {},
   "outputs": [],
   "source": [
    "import numpy as np\n",
    "import matplotlib.pyplot as plt"
   ]
  },
  {
   "cell_type": "code",
   "execution_count": 340,
   "id": "severe-loading",
   "metadata": {},
   "outputs": [],
   "source": [
    "import numpy as np\n",
    "import matplotlib.pyplot as plt\n",
    "from tqdm.notebook import tqdm\n",
    "import time\n",
    "import sys\n",
    "sys.path.append(\"../../../\")\n",
    "from src.util import operators\n",
    "from src.util.stochastic_expectation_value import compute_stochastic_expectation_value_nonlinear as compute_exp_val_nonlinear\n",
    "from src.util.stochastic_expectation_value import compute_stochastic_expectation_value_linear as compute_exp_val_linear\n",
    "from src.util import bath_correlation_function\n",
    "from src.util import debye_spectral_density  \n",
    "from src.homps import homps\n",
    "from src.util import operators\n",
    "from src.util import noise_generator"
   ]
  },
  {
   "cell_type": "markdown",
   "id": "determined-death",
   "metadata": {},
   "source": [
    "## [N-1/N] PDS scheme"
   ]
  },
  {
   "cell_type": "code",
   "execution_count": 268,
   "id": "modified-agent",
   "metadata": {},
   "outputs": [],
   "source": [
    "# performs the [N-1/N] PDS scheme\n",
    "def PSD_Nm1_N(N, mode='fermi'):\n",
    "    # compute bs\n",
    "    if mode=='fermi':\n",
    "        b = 2*np.arange(1, 2*N+2) - 1\n",
    "    else:\n",
    "        b = 2*np.arange(1, 2*N+2) + 1\n",
    "    # compute xi\n",
    "    lam = np.zeros((2*N, 2*N), dtype=float)\n",
    "    for m in range(2*N):\n",
    "        if m > 0:\n",
    "            lam[m, m-1] = 1/np.sqrt(b[m]*b[m-1])\n",
    "        if m < 2*N-1:\n",
    "            lam[m, m+1] = 1/np.sqrt(b[m]*b[m+1])\n",
    "    w, _ = np.linalg.eig(lam)\n",
    "    xi = 2/np.sort(w)[N:]\n",
    "    # compute sigma\n",
    "    lam = lam[1:, 1:]\n",
    "    sigma = []\n",
    "    if lam.size > 1:\n",
    "        w, _ = np.linalg.eig(lam)\n",
    "        sigma = 2/np.sort(w)[N:]\n",
    "    # compute eta\n",
    "    etas = []\n",
    "    for j in range(N):\n",
    "        eta = 0.5*N*b[N]\n",
    "        if (len(sigma) > 0):\n",
    "            eta *= np.prod(sigma**2-xi[j]**2)\n",
    "        for k in range(N):\n",
    "            if k != j:\n",
    "                eta /= (xi[k]**2-xi[j]**2)\n",
    "        etas.append(eta)\n",
    "    return xi, etas"
   ]
  },
  {
   "cell_type": "code",
   "execution_count": 149,
   "id": "universal-biotechnology",
   "metadata": {},
   "outputs": [
    {
     "name": "stdout",
     "output_type": "stream",
     "text": [
      "xi: 3.4641016151377535 should be 3.4641016151377544\n",
      "eta: 1.5 should be 1.5\n"
     ]
    }
   ],
   "source": [
    "# test with [0/1]\n",
    "xi, etas = PSD_Nm1_N(1)\n",
    "print(\"xi:\", xi[0], \"should be\", np.sqrt(12))\n",
    "print(\"eta:\", etas[0], \"should be\", 1.5)"
   ]
  },
  {
   "cell_type": "code",
   "execution_count": 151,
   "id": "spatial-command",
   "metadata": {},
   "outputs": [
    {
     "name": "stdout",
     "output_type": "stream",
     "text": [
      "xi_1 13.043193723012802 should be 13.0431937230128\n",
      "xi_2 3.142466786452878 should be 3.1424667864528786\n",
      "eta_1 3.9976617288979543 should be 3.9976617288979535\n",
      "eta_2 1.0023382711020448 should be 1.0023382711020465\n"
     ]
    }
   ],
   "source": [
    "# test with [1/2]\n",
    "xi_1 = np.sqrt(90 + np.sqrt(6420))\n",
    "xi_2 = np.sqrt(90 - np.sqrt(6420))\n",
    "eta_1 = 5*(xi_1**2-42)/(2*(xi_1**2-90))\n",
    "eta_2 = 5*(xi_2**2-42)/(2*(xi_2**2-90))\n",
    "xi, etas = PSD_Nm1_N(2)\n",
    "print(\"xi_1\", xi[0], \"should be\", xi_1)\n",
    "print(\"xi_2\", xi[1], \"should be\", xi_2)\n",
    "print(\"eta_1\", etas[0], \"should be\", eta_1)\n",
    "print(\"eta_2\", etas[1], \"should be\", eta_2)"
   ]
  },
  {
   "cell_type": "markdown",
   "id": "contained-ideal",
   "metadata": {},
   "source": [
    "## [N/N] PDS scheme"
   ]
  },
  {
   "cell_type": "code",
   "execution_count": 269,
   "id": "sitting-pixel",
   "metadata": {},
   "outputs": [],
   "source": [
    "# performs the [N/N] PDS scheme\n",
    "def PSD_N_N(N, mode='fermi'):\n",
    "    # compute bs\n",
    "    if mode=='fermi':\n",
    "        b = 2*np.arange(1, 2*N+2) - 1\n",
    "    else:\n",
    "        b = 2*np.arange(1, 2*N+2) + 1\n",
    "    # compute xi\n",
    "    lam = np.zeros((2*N+1, 2*N+1), dtype=float)\n",
    "    for m in range(2*N+1):\n",
    "        if m > 0:\n",
    "            lam[m, m-1] = 1/np.sqrt(b[m]*b[m-1])\n",
    "        if m < 2*N:\n",
    "            lam[m, m+1] = 1/np.sqrt(b[m]*b[m+1])\n",
    "    w, _ = np.linalg.eig(lam)\n",
    "    xi = 2/np.sort(w)[N+1:]\n",
    "    # compute sigma\n",
    "    lam = lam[1:, 1:]\n",
    "    sigma = []\n",
    "    if lam.size > 1:\n",
    "        w, _ = np.linalg.eig(lam)\n",
    "        sigma = 2/np.sort(w)[N:]\n",
    "    # compute eta\n",
    "    etas = []\n",
    "    for j in range(N):\n",
    "        eta = 0.5/(4*(N+1)*b[N])\n",
    "        if (len(sigma) > 0):\n",
    "            eta *= np.prod(sigma**2-xi[j]**2)\n",
    "        for k in range(N):\n",
    "            if k != j:\n",
    "                eta /= (xi[k]**2-xi[j]**2)\n",
    "        etas.append(eta)\n",
    "    return xi, etas"
   ]
  },
  {
   "cell_type": "code",
   "execution_count": 167,
   "id": "applicable-incidence",
   "metadata": {},
   "outputs": [
    {
     "name": "stdout",
     "output_type": "stream",
     "text": [
      "xi: 3.162277660168377 should be 3.1622776601683795\n",
      "eta: 1.0416666666666674 should be 1.0416666666666667\n"
     ]
    }
   ],
   "source": [
    "# test with [0/1]\n",
    "xi, etas = PSD_N_N(1)\n",
    "print(\"xi:\", xi[0], \"should be\", np.sqrt(10))\n",
    "print(\"eta:\", etas[0], \"should be\", 25/24)"
   ]
  },
  {
   "cell_type": "code",
   "execution_count": 168,
   "id": "laden-dynamics",
   "metadata": {},
   "outputs": [
    {
     "name": "stdout",
     "output_type": "stream",
     "text": [
      "xi_1 10.105951235716669 should be 10.105951235716665\n",
      "xi_2 3.141615766021815 should be 3.1416157660218116\n",
      "eta_1 1.5665892567112163 should be 1.5665892567112127\n",
      "eta_2 1.0000774099554497 should be 1.0000774099554541\n"
     ]
    }
   ],
   "source": [
    "# test with [2/2]\n",
    "xi_1 = np.sqrt(56 + np.sqrt(2128))\n",
    "xi_2 = np.sqrt(56 - np.sqrt(2128))\n",
    "eta_1 = (xi_1**4-420*xi_1**2+15120)/(240*(56-xi_1**2))\n",
    "eta_2 = (xi_2**4-420*xi_2**2+15120)/(240*(56-xi_2**2))\n",
    "xi, etas = PSD_N_N(2)\n",
    "print(\"xi_1\", xi[0], \"should be\", xi_1)\n",
    "print(\"xi_2\", xi[1], \"should be\", xi_2)\n",
    "print(\"eta_1\", etas[0], \"should be\", eta_1)\n",
    "print(\"eta_2\", etas[1], \"should be\", eta_2)"
   ]
  },
  {
   "cell_type": "markdown",
   "id": "consistent-extreme",
   "metadata": {},
   "source": [
    "## [N+1/N] PDS scheme"
   ]
  },
  {
   "cell_type": "code",
   "execution_count": 219,
   "id": "female-bidding",
   "metadata": {},
   "outputs": [
    {
     "ename": "SyntaxError",
     "evalue": "unexpected EOF while parsing (<ipython-input-219-4ce000a581c4>, line 35)",
     "output_type": "error",
     "traceback": [
      "\u001b[0;36m  File \u001b[0;32m\"<ipython-input-219-4ce000a581c4>\"\u001b[0;36m, line \u001b[0;32m35\u001b[0m\n\u001b[0;31m    \u001b[0m\n\u001b[0m    ^\u001b[0m\n\u001b[0;31mSyntaxError\u001b[0m\u001b[0;31m:\u001b[0m unexpected EOF while parsing\n"
     ]
    }
   ],
   "source": [
    "# performs the [N+1/N] PDS scheme\n",
    "def PSD_Np1_N(N):\n",
    "    # compute bs\n",
    "    b = 2*np.arange(1, 2*N+3) - 1\n",
    "    # compute ds\n",
    "    d = [1/4/b[0]]\n",
    "    for i in range(2, 2*N+3):\n",
    "        if (i % 2 == 0):\n",
    "            # i == 2*m\n",
    "            m = i//2\n",
    "            d.append(-4*m**2*b[m-1]**2*b[i-1]**2)\n",
    "        else:\n",
    "            # i == 2*m+1\n",
    "            m = (i-1)//2\n",
    "            d.append(-b[i-1]/(4*m*(m+1)*b[m-1]*b[m]))\n",
    "    # Compute RN and TN\n",
    "    TN = 1/(4*np.sum(d[1:2*N+2:2]))\n",
    "    RN = 0\n",
    "    for m in range(1, N+2):\n",
    "        temp = 0\n",
    "        for k in range(m, N+2):\n",
    "            temp += d[2*k-1]\n",
    "        RN += d[2*m-2]*temp**2\n",
    "    RN *= (4*TN)**2\n",
    "    # Compute xi\n",
    "    lam = np.zeros((2*N+1, 2*N+1), dtype=float)\n",
    "    for m in range(2*N+1):\n",
    "        if m > 0:\n",
    "            lam[m, m-1] = 1/np.sqrt(d[m+1]*d[m])\n",
    "        if m < 2*N:\n",
    "            lam[m, m+1] = 1/np.sqrt(d[m+1]*d[m+2])\n",
    "    # Compute eta using the recursive algorithm\n",
    "    etas = []\n",
    "    for j in range(1, N+1):\n",
    "        "
   ]
  },
  {
   "cell_type": "code",
   "execution_count": 220,
   "id": "stupid-greenhouse",
   "metadata": {},
   "outputs": [
    {
     "name": "stdout",
     "output_type": "stream",
     "text": [
      "[[0.         0.36514837 0.         0.         0.        ]\n",
      " [0.36514837 0.         0.02608203 0.         0.        ]\n",
      " [0.         0.02608203 0.         0.07529233 0.        ]\n",
      " [0.         0.         0.07529233 0.         0.01916532]\n",
      " [0.         0.         0.         0.01916532 0.        ]]\n"
     ]
    }
   ],
   "source": [
    "PSD_Np1_N(2)"
   ]
  },
  {
   "cell_type": "markdown",
   "id": "fabulous-crest",
   "metadata": {},
   "source": [
    "# Testing"
   ]
  },
  {
   "cell_type": "code",
   "execution_count": 321,
   "id": "professional-museum",
   "metadata": {},
   "outputs": [],
   "source": [
    "def f_Fermi(x):\n",
    "    return 1/(1+np.exp(x))\n",
    "\n",
    "def f_Bose(x):\n",
    "    return np.exp(-x)/(1-np.exp(-x))"
   ]
  },
  {
   "cell_type": "code",
   "execution_count": 468,
   "id": "stretch-shipping",
   "metadata": {},
   "outputs": [],
   "source": [
    "N = 1000\n",
    "xs_fermi = np.linspace(-4, 4, N)\n",
    "fs_fermi = f_Fermi(xs_fermi)\n",
    "xs_bose = np.linspace(-4, 4, N)\n",
    "fs_bose = f_Bose(xs_bose)"
   ]
  },
  {
   "cell_type": "code",
   "execution_count": 469,
   "id": "precious-criminal",
   "metadata": {},
   "outputs": [
    {
     "data": {
      "image/png": "[encoded data removed]",
      "text/plain": [
       "<Figure size 432x288 with 1 Axes>"
      ]
     },
     "metadata": {
      "needs_background": "light"
     },
     "output_type": "display_data"
    }
   ],
   "source": [
    "plt.plot(xs_fermi, fs_fermi)\n",
    "plt.plot(xs_bose, fs_bose)\n",
    "plt.xlim(-4, 4)\n",
    "plt.ylim(0, 3)\n",
    "plt.show()"
   ]
  },
  {
   "cell_type": "code",
   "execution_count": 470,
   "id": "spread-hotel",
   "metadata": {},
   "outputs": [],
   "source": [
    "xi, etas = PSD_N_N(15)\n",
    "fs_approx = []\n",
    "for x in xs_fermi:\n",
    "    temp = np.sum(2*np.array(etas)*x/(x**2+xi**2))\n",
    "    fs_approx.append(0.5-temp)"
   ]
  },
  {
   "cell_type": "code",
   "execution_count": 471,
   "id": "cutting-manner",
   "metadata": {},
   "outputs": [
    {
     "data": {
      "image/png": "[encoded data removed]",
      "text/plain": [
       "<Figure size 432x288 with 1 Axes>"
      ]
     },
     "metadata": {
      "needs_background": "light"
     },
     "output_type": "display_data"
    }
   ],
   "source": [
    "plt.plot(xs_fermi, fs_approx, label=\"approx\")\n",
    "plt.plot(xs_fermi, fs_fermi, \"--\", label=\"exact\")\n",
    "plt.legend()\n",
    "plt.show()"
   ]
  },
  {
   "cell_type": "code",
   "execution_count": 472,
   "id": "significant-pacific",
   "metadata": {},
   "outputs": [],
   "source": [
    "xi, etas = PSD_N_N(20, \"bose\")\n",
    "fs_approx = []\n",
    "for x in xs_bose:\n",
    "    temp = np.sum(2*np.array(etas)*x/(x**2+xi**2))\n",
    "    fs_approx.append(np.exp(-x)*(1/x+0.5+temp))"
   ]
  },
  {
   "cell_type": "code",
   "execution_count": 473,
   "id": "meaningful-african",
   "metadata": {},
   "outputs": [],
   "source": [
    "fs_coths = 0.5*(1/np.tanh(xs_bose/2)-1)\n",
    "fs_bose_2 = 1/(np.exp(xs_bose)-1)"
   ]
  },
  {
   "cell_type": "code",
   "execution_count": 474,
   "id": "graduate-hampton",
   "metadata": {},
   "outputs": [
    {
     "data": {
      "image/png": "[encoded data removed]",
      "text/plain": [
       "<Figure size 432x288 with 1 Axes>"
      ]
     },
     "metadata": {
      "needs_background": "light"
     },
     "output_type": "display_data"
    }
   ],
   "source": [
    "plt.plot(xs_bose, fs_coths, label=\"coth\")\n",
    "plt.plot(xs_bose, fs_bose_2, \"--\", label=\"bose 2\")\n",
    "plt.plot(xs_bose, fs_approx, label=\"approx\")\n",
    "plt.plot(xs_bose, fs_bose, \"--\", label=\"exact\")\n",
    "plt.legend()\n",
    "#plt.ylim(0, 3)\n",
    "plt.show()"
   ]
  },
  {
   "cell_type": "code",
   "execution_count": 677,
   "id": "stupid-shakespeare",
   "metadata": {},
   "outputs": [],
   "source": [
    "def get_pade_coefficients(N, beta, gamma, eta):\n",
    "    xij, etaj = PSD_Nm1_N(N-1, \"bose\")\n",
    "    gs = [1/(gamma*beta) - 1.j/2]\n",
    "    for j in range(N-1):\n",
    "        gs[0] -= 2*etaj[j]*gamma*beta/(xij[j]**2 - gamma**2*beta**2)\n",
    "    gs[0] *= eta*gamma #*np.exp(-1.j*gamma*beta)\n",
    "    ws = [gamma]\n",
    "    for k in range(N-1):\n",
    "        gs.append(2*etaj[k]*eta*gamma*xij[k]/(xij[k]**2-gamma**2*beta**2))#*np.exp(-1.j*xij[k]))\n",
    "        ws.append(xij[k]/beta)\n",
    "    return np.array(gs), np.array(ws)"
   ]
  },
  {
   "cell_type": "code",
   "execution_count": 678,
   "id": "korean-picking",
   "metadata": {},
   "outputs": [],
   "source": [
    "# Parameters for the spin-boson model\n",
    "epsilon = 2.0\n",
    "delta = -2.0\n",
    "# Parameters for the Debye spectral density\n",
    "beta = 50.0\n",
    "T = 1/beta\n",
    "gamma = 5.0\n",
    "eta = 0.5\n",
    "# operators\n",
    "sigma_x, sigma_z, eye = operators.generate_physical_operators()\n",
    "L = sigma_z\n",
    "h = operators.generate_spin_boson_hamiltonian(delta=delta, epsilon=epsilon)\n",
    "# time window\n",
    "duration = 3\n",
    "\n",
    "gs_compare, ws_compare = debye_spectral_density.get_debye_coefficients(10000, T, gamma, eta)"
   ]
  },
  {
   "cell_type": "code",
   "execution_count": 730,
   "id": "composed-halloween",
   "metadata": {},
   "outputs": [],
   "source": [
    "gs, ws = get_pade_coefficients(15, beta, gamma, eta)"
   ]
  },
  {
   "cell_type": "code",
   "execution_count": 731,
   "id": "weird-pakistan",
   "metadata": {},
   "outputs": [],
   "source": [
    "taus = np.linspace(0, 15, 1000)\n",
    "alphas = bath_correlation_function.alpha(taus, gs, ws)\n",
    "alphas_compare = bath_correlation_function.alpha(taus, gs_compare, ws_compare)"
   ]
  },
  {
   "cell_type": "code",
   "execution_count": 732,
   "id": "aggressive-ideal",
   "metadata": {},
   "outputs": [
    {
     "data": {
      "image/png": "[encoded data removed]",
      "text/plain": [
       "<Figure size 1080x288 with 2 Axes>"
      ]
     },
     "metadata": {
      "needs_background": "light"
     },
     "output_type": "display_data"
    }
   ],
   "source": [
    "figure, axarray = plt.subplots(1, 2, figsize=(15,4))\n",
    "axarray[0].plot(taus, np.real(alphas), label=\"Pade\")\n",
    "axarray[0].plot(taus, np.real(alphas_compare), \"--\", label=\"Default\")\n",
    "axarray[0].legend()\n",
    "axarray[1].plot(taus, np.imag(alphas), label=\"Pade\")\n",
    "axarray[1].plot(taus, np.imag(alphas_compare), \"--\", label=\"Default\")\n",
    "axarray[1].legend()\n",
    "plt.show()"
   ]
  },
  {
   "cell_type": "markdown",
   "id": "tested-belgium",
   "metadata": {},
   "source": [
    "# debugging pade decomp"
   ]
  },
  {
   "cell_type": "code",
   "execution_count": 647,
   "id": "headed-delhi",
   "metadata": {},
   "outputs": [],
   "source": [
    "N = 40\n",
    "xij, etaj = PSD_Nm1_N(N, \"bose\")"
   ]
  },
  {
   "cell_type": "code",
   "execution_count": 650,
   "id": "pleased-eating",
   "metadata": {},
   "outputs": [],
   "source": [
    "def bose_approx(xs):\n",
    "    fs_approx = []\n",
    "    temp = 0\n",
    "    for k in range(N):\n",
    "        temp += 2*etaj[k]*xs/(xs**2+xij[k]**2)\n",
    "    #for x in xs:\n",
    "    #    temp = np.sum(2*np.array(etas)*x/(x**2+xi**2))\n",
    "    #    fs_approx.append(1/x+0.5+temp)\n",
    "    return 1/xs + 0.5 + temp"
   ]
  },
  {
   "cell_type": "code",
   "execution_count": 651,
   "id": "desperate-alert",
   "metadata": {},
   "outputs": [
    {
     "data": {
      "image/png": "[encoded data removed]",
      "text/plain": [
       "<Figure size 432x288 with 1 Axes>"
      ]
     },
     "metadata": {
      "needs_background": "light"
     },
     "output_type": "display_data"
    }
   ],
   "source": [
    "xs = np.linspace(-100, 100, 1000)\n",
    "plt.plot(xs, bose_approx(xs))\n",
    "plt.plot(xs, 1/(1-np.exp(-xs)), \"--\")\n",
    "plt.show()"
   ]
  },
  {
   "cell_type": "code",
   "execution_count": 664,
   "id": "alleged-particle",
   "metadata": {},
   "outputs": [],
   "source": [
    "def integrand(w, tau):\n",
    "    #S = eta*gamma*w/(w**2+gamma**2)\n",
    "    #temp = 1/(w*beta) + 0.5\n",
    "    #temp = 0\n",
    "    #for j in range(N-1):\n",
    "    #    temp += 2*etaj[j]*w*beta/((w*beta)**2 + xij[j]**2)\n",
    "    #result = np.exp(1.j*w*tau)*np.exp(-w*beta)*S*temp/np.pi\n",
    "    #return result\n",
    "    \n",
    "    f_bose = 0\n",
    "    for k in range(N):\n",
    "        f_bose += 2*etaj[k]*w*beta/(w**2*beta**2+xij[k]**2)\n",
    "    f_bose += 1/(w*beta) + 0.5\n",
    "    S = eta*gamma*w/(w**2+gamma**2)\n",
    "    f_bose = bose_approx(w*beta)\n",
    "    \n",
    "    result = S*np.exp(1.j*w*tau)*np.exp(-w*beta)*f_bose/np.pi\n",
    "    return result"
   ]
  },
  {
   "cell_type": "code",
   "execution_count": 665,
   "id": "alike-candidate",
   "metadata": {},
   "outputs": [],
   "source": [
    "def integrand_old(w, tau):\n",
    "    S = eta*gamma*w/(w**2+gamma**2)\n",
    "    result = S*np.exp(1.j*w*tau)/(np.exp(w*beta)-1)/np.pi\n",
    "    return result"
   ]
  },
  {
   "cell_type": "code",
   "execution_count": 666,
   "id": "mighty-condition",
   "metadata": {},
   "outputs": [
    {
     "data": {
      "image/png": "[encoded data removed]",
      "text/plain": [
       "<Figure size 432x288 with 1 Axes>"
      ]
     },
     "metadata": {
      "needs_background": "light"
     },
     "output_type": "display_data"
    }
   ],
   "source": [
    "ws = np.linspace(-0.5, 0.5, 1000)\n",
    "tau = 100\n",
    "plt.plot(ws, np.real(integrand(ws, tau)))\n",
    "plt.plot(ws, np.real(integrand_old(ws, tau)), \"--\")\n",
    "plt.show()"
   ]
  },
  {
   "cell_type": "code",
   "execution_count": null,
   "id": "logical-functionality",
   "metadata": {},
   "outputs": [],
   "source": []
  },
  {
   "cell_type": "code",
   "execution_count": null,
   "id": "suspected-tooth",
   "metadata": {},
   "outputs": [],
   "source": []
  },
  {
   "cell_type": "code",
   "execution_count": null,
   "id": "british-context",
   "metadata": {},
   "outputs": [],
   "source": [
    "taus = np.linspace(0, 30, 100)\n"
   ]
  }
 ],
 "metadata": {
  "kernelspec": {
   "display_name": "Python 3",
   "language": "python",
   "name": "python3"
  },
  "language_info": {
   "codemirror_mode": {
    "name": "ipython",
    "version": 3
   },
   "file_extension": ".py",
   "mimetype": "text/x-python",
   "name": "python",
   "nbconvert_exporter": "python",
   "pygments_lexer": "ipython3",
   "version": "3.8.5"
  }
 },
 "nbformat": 4,
 "nbformat_minor": 5
}
