{
 "cells": [
  {
   "cell_type": "code",
   "execution_count": 1,
   "id": "national-pride",
   "metadata": {},
   "outputs": [],
   "source": [
    "%load_ext autoreload\n",
    "%autoreload 2"
   ]
  },
  {
   "cell_type": "code",
   "execution_count": 2,
   "id": "multiple-guatemala",
   "metadata": {},
   "outputs": [],
   "source": [
    "import numpy as np\n",
    "import matplotlib.pyplot as plt\n",
    "from tqdm.notebook import tqdm\n",
    "import time\n",
    "import sys\n",
    "sys.path.append(\"../../../\")\n",
    "from src.util import operators\n",
    "from src.util.stochastic_expectation_value import compute_stochastic_expectation_value_nonlinear as compute_exp_val_nonlinear\n",
    "from src.util.stochastic_expectation_value import compute_stochastic_expectation_value_linear as compute_exp_val_linear\n",
    "from src.util import bath_correlation_function\n",
    "from src.util import debye_spectral_density  \n",
    "from src.homps import homps\n",
    "from src.util import operators\n",
    "from src.util import noise_generator"
   ]
  },
  {
   "cell_type": "code",
   "execution_count": 3,
   "id": "inside-lawsuit",
   "metadata": {},
   "outputs": [],
   "source": [
    "# Parameters for the spin-boson model\n",
    "epsilon = 2.0\n",
    "delta = -2.0\n",
    "# Parameters for the Debye spectral density\n",
    "beta = 50.0\n",
    "T = 1/beta\n",
    "gamma = 5.0\n",
    "eta = 0.5\n",
    "# operators\n",
    "sigma_x, sigma_z, eye = operators.generate_physical_operators()\n",
    "L = sigma_z\n",
    "h = operators.generate_spin_boson_hamiltonian(delta=delta, epsilon=epsilon)\n",
    "# time window\n",
    "duration = 30"
   ]
  },
  {
   "cell_type": "code",
   "execution_count": 4,
   "id": "alone-sustainability",
   "metadata": {},
   "outputs": [],
   "source": [
    "g, w = debye_spectral_density.get_debye_coefficients(5000, T, gamma, eta)"
   ]
  },
  {
   "cell_type": "code",
   "execution_count": 5,
   "id": "genetic-impossible",
   "metadata": {},
   "outputs": [],
   "source": [
    "N_steps = 6000\n",
    "N_trunc = 9\n",
    "N_terms = 13"
   ]
  },
  {
   "cell_type": "code",
   "execution_count": 6,
   "id": "parliamentary-niagara",
   "metadata": {},
   "outputs": [],
   "source": [
    "N = 10000\n",
    "w_cut = 1000\n",
    "J = lambda w : debye_spectral_density.debye_spectral_density(w, eta, gamma)"
   ]
  },
  {
   "cell_type": "code",
   "execution_count": 7,
   "id": "brazilian-banner",
   "metadata": {},
   "outputs": [],
   "source": [
    "generator = noise_generator.ColoredNoiseGenerator_SumApprox(J, 0, duration, N, w_cut, beta)"
   ]
  },
  {
   "cell_type": "code",
   "execution_count": 8,
   "id": "excellent-steal",
   "metadata": {},
   "outputs": [],
   "source": [
    "options = {\n",
    "    'linear' : False,\n",
    "    'use_noise' : True,\n",
    "    'method' : 'RK4',\n",
    "    'chi_max' : 10,\n",
    "    'eps' : 1.e-3,\n",
    "    'noise_generator' : generator,\n",
    "    'rescale_aux' : True,\n",
    "}"
   ]
  },
  {
   "cell_type": "code",
   "execution_count": 9,
   "id": "useful-cylinder",
   "metadata": {},
   "outputs": [],
   "source": [
    "my_homps = homps.HOMPS_Engine(g[:N_terms], w[:N_terms], h, L, duration, N_steps, N_trunc, options)"
   ]
  },
  {
   "cell_type": "code",
   "execution_count": 10,
   "id": "worth-monkey",
   "metadata": {},
   "outputs": [
    {
     "data": {
      "application/vnd.jupyter.widget-view+json": {
       "model_id": "ac4eff0d71fd4104814cafc144a34db1",
       "version_major": 2,
       "version_minor": 0
      },
      "text/plain": [
       "  0%|          | 0/100 [00:00<?, ?it/s]"
      ]
     },
     "metadata": {},
     "output_type": "display_data"
    }
   ],
   "source": [
    "psis_100 = my_homps.compute_realizations(100, progressBar=tqdm)"
   ]
  },
  {
   "cell_type": "code",
   "execution_count": 11,
   "id": "automotive-overview",
   "metadata": {},
   "outputs": [],
   "source": [
    "sigma_zs_100 = compute_exp_val_nonlinear(psis_100, sigma_z)"
   ]
  },
  {
   "cell_type": "code",
   "execution_count": 12,
   "id": "polish-bleeding",
   "metadata": {},
   "outputs": [
    {
     "data": {
      "image/png": "[encoded data removed]",
      "text/plain": [
       "<Figure size 432x288 with 1 Axes>"
      ]
     },
     "metadata": {
      "needs_background": "light"
     },
     "output_type": "display_data"
    }
   ],
   "source": [
    "plt.plot(np.linspace(0, 30, N_steps), sigma_zs_100)\n",
    "plt.ylim(-1, 1)\n",
    "plt.yticks(np.linspace(-1.0, 1.0, 21))\n",
    "plt.xlim(0, 30)\n",
    "plt.grid()\n",
    "plt.show()"
   ]
  },
  {
   "cell_type": "markdown",
   "id": "peripheral-bishop",
   "metadata": {},
   "source": [
    "## Using more memory terms"
   ]
  },
  {
   "cell_type": "code",
   "execution_count": 17,
   "id": "organized-penalty",
   "metadata": {},
   "outputs": [],
   "source": [
    "g, w = debye_spectral_density.get_debye_coefficients(5000, T, gamma, eta)"
   ]
  },
  {
   "cell_type": "code",
   "execution_count": 18,
   "id": "charged-royalty",
   "metadata": {},
   "outputs": [],
   "source": [
    "N_steps = 6000\n",
    "N_trunc = 9\n",
    "N_terms = 13\n",
    "N_terms_memory = 4000"
   ]
  },
  {
   "cell_type": "code",
   "execution_count": 19,
   "id": "heard-benjamin",
   "metadata": {},
   "outputs": [],
   "source": [
    "N = 10000\n",
    "w_cut = 1000\n",
    "J = lambda w : debye_spectral_density.debye_spectral_density(w, eta, gamma)"
   ]
  },
  {
   "cell_type": "code",
   "execution_count": 20,
   "id": "sharing-birth",
   "metadata": {},
   "outputs": [],
   "source": [
    "generator = noise_generator.ColoredNoiseGenerator_SumApprox(J, 0, duration, N, w_cut, beta)"
   ]
  },
  {
   "cell_type": "code",
   "execution_count": 21,
   "id": "gothic-hardwood",
   "metadata": {},
   "outputs": [],
   "source": [
    "options = {\n",
    "    'linear' : False,\n",
    "    'use_noise' : True,\n",
    "    'method' : 'RK4',\n",
    "    'chi_max' : 10,\n",
    "    'eps' : 1.e-3,\n",
    "    'noise_generator' : generator,\n",
    "    'rescale_aux' : True,\n",
    "    'g_memory' : g[:N_terms_memory],\n",
    "    'w_memory' : w[:N_terms_memory],\n",
    "}"
   ]
  },
  {
   "cell_type": "code",
   "execution_count": 22,
   "id": "casual-poison",
   "metadata": {},
   "outputs": [],
   "source": [
    "my_homps = homps.HOMPS_Engine(g[:N_terms], w[:N_terms], h, L, duration, N_steps, N_trunc, options)"
   ]
  },
  {
   "cell_type": "code",
   "execution_count": 23,
   "id": "charged-dairy",
   "metadata": {},
   "outputs": [
    {
     "data": {
      "application/vnd.jupyter.widget-view+json": {
       "model_id": "8e1fad1548064268a6a938638e4c5209",
       "version_major": 2,
       "version_minor": 0
      },
      "text/plain": [
       "  0%|          | 0/100 [00:00<?, ?it/s]"
      ]
     },
     "metadata": {},
     "output_type": "display_data"
    }
   ],
   "source": [
    "psis_100 = my_homps.compute_realizations(100, progressBar=tqdm)"
   ]
  },
  {
   "cell_type": "code",
   "execution_count": 24,
   "id": "pressed-curtis",
   "metadata": {},
   "outputs": [],
   "source": [
    "sigma_zs_100 = compute_exp_val_nonlinear(psis_100, sigma_z)"
   ]
  },
  {
   "cell_type": "code",
   "execution_count": 25,
   "id": "scenic-denver",
   "metadata": {},
   "outputs": [
    {
     "data": {
      "image/png": "[encoded data removed]",
      "text/plain": [
       "<Figure size 432x288 with 1 Axes>"
      ]
     },
     "metadata": {
      "needs_background": "light"
     },
     "output_type": "display_data"
    }
   ],
   "source": [
    "plt.plot(np.linspace(0, 30, N_steps), sigma_zs_100)\n",
    "plt.ylim(-1, 1)\n",
    "plt.yticks(np.linspace(-1.0, 1.0, 21))\n",
    "plt.xlim(0, 30)\n",
    "plt.grid()\n",
    "plt.show()"
   ]
  }
 ],
 "metadata": {
  "kernelspec": {
   "display_name": "Python 3",
   "language": "python",
   "name": "python3"
  },
  "language_info": {
   "codemirror_mode": {
    "name": "ipython",
    "version": 3
   },
   "file_extension": ".py",
   "mimetype": "text/x-python",
   "name": "python",
   "nbconvert_exporter": "python",
   "pygments_lexer": "ipython3",
   "version": "3.8.5"
  }
 },
 "nbformat": 4,
 "nbformat_minor": 5
}
