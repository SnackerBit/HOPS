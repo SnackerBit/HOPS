{
 "cells": [
  {
   "cell_type": "code",
   "execution_count": 1,
   "id": "neither-packing",
   "metadata": {},
   "outputs": [],
   "source": [
    "%load_ext autoreload\n",
    "%autoreload 2"
   ]
  },
  {
   "cell_type": "code",
   "execution_count": 46,
   "id": "perceived-stephen",
   "metadata": {},
   "outputs": [],
   "source": [
    "import numpy as np\n",
    "import matplotlib.pyplot as plt\n",
    "from tqdm.notebook import tqdm\n",
    "import time\n",
    "import sys\n",
    "sys.path.append(\"../../\")\n",
    "from src.util import operators\n",
    "from src.util.stochastic_expectation_value import compute_stochastic_expectation_value_nonlinear as compute_exp_val_nonlinear\n",
    "from src.util.stochastic_expectation_value import compute_stochastic_expectation_value_linear as compute_exp_val_linear\n",
    "from src.util import bath_correlation_function\n",
    "from src.util import debye_spectral_density  \n",
    "from src.homps import homps\n",
    "from src.util import operators\n",
    "from src.util import noise_generator"
   ]
  },
  {
   "cell_type": "code",
   "execution_count": 47,
   "id": "recorded-information",
   "metadata": {},
   "outputs": [],
   "source": [
    "# Parameters for the spin-boson model\n",
    "epsilon = 2.0\n",
    "delta = -2.0\n",
    "# Parameters for the Debye spectral density\n",
    "beta = 50.0\n",
    "T = 1/beta\n",
    "gamma = 5.0\n",
    "eta = 0.5\n",
    "# operators\n",
    "sigma_x, sigma_z, eye = operators.generate_physical_operators()\n",
    "L = sigma_z\n",
    "h = operators.generate_spin_boson_hamiltonian(delta=delta, epsilon=epsilon)\n",
    "# time window\n",
    "duration = 30"
   ]
  },
  {
   "cell_type": "code",
   "execution_count": 48,
   "id": "stylish-aaron",
   "metadata": {},
   "outputs": [],
   "source": [
    "## Parameters for the spin-boson model\n",
    "#epsilon = 2.0\n",
    "#delta = -2.0\n",
    "## Parameters for the Debye spectral density\n",
    "#beta = 0.5\n",
    "#T = 1/beta\n",
    "#gamma = 0.25\n",
    "#eta = 0.5\n",
    "## operators\n",
    "#sigma_x, sigma_z, eye = operators.generate_physical_operators()\n",
    "#L = sigma_z\n",
    "#h = operators.generate_spin_boson_hamiltonian(delta=delta, epsilon=epsilon)\n",
    "## time window\n",
    "#duration = 30"
   ]
  },
  {
   "cell_type": "code",
   "execution_count": 49,
   "id": "pharmaceutical-bandwidth",
   "metadata": {},
   "outputs": [],
   "source": [
    "g, w = debye_spectral_density.get_debye_coefficients(5000, T, gamma, eta)"
   ]
  },
  {
   "cell_type": "code",
   "execution_count": 50,
   "id": "automatic-figure",
   "metadata": {},
   "outputs": [],
   "source": [
    "N_steps = 6000\n",
    "N_trunc = 9\n",
    "N_terms = 14\n",
    "N = 10000\n",
    "w_cut = 500"
   ]
  },
  {
   "cell_type": "code",
   "execution_count": 51,
   "id": "assumed-cable",
   "metadata": {},
   "outputs": [],
   "source": [
    "J = lambda w : debye_spectral_density.debye_spectral_density(w, eta, gamma)"
   ]
  },
  {
   "cell_type": "code",
   "execution_count": 52,
   "id": "reported-georgia",
   "metadata": {},
   "outputs": [],
   "source": [
    "options = {\n",
    "    'linear' : False,\n",
    "    'use_noise' : True,\n",
    "    'chi_max' : 10,\n",
    "    'eps' : 1.e-3,\n",
    "    'method' : 'RK4',\n",
    "    'noise_generator' : noise_generator.ColoredNoiseGenerator_SumApprox(J, 0, duration, N, w_cut, beta)\n",
    "}"
   ]
  },
  {
   "cell_type": "code",
   "execution_count": 53,
   "id": "leading-lecture",
   "metadata": {},
   "outputs": [],
   "source": [
    "my_homps = homps.HOMPS_Engine(g[:N_terms], w[:N_terms], h, L, duration, N_steps, N_trunc, options)"
   ]
  },
  {
   "cell_type": "code",
   "execution_count": 54,
   "id": "round-continuity",
   "metadata": {},
   "outputs": [
    {
     "data": {
      "application/vnd.jupyter.widget-view+json": {
       "model_id": "45e46ab96cc44fc08c4a349791fdfc1c",
       "version_major": 2,
       "version_minor": 0
      },
      "text/plain": [
       "  0%|          | 0/100 [00:00<?, ?it/s]"
      ]
     },
     "metadata": {},
     "output_type": "display_data"
    }
   ],
   "source": [
    "psis_100 = my_homps.compute_realizations(100, progressBar=tqdm)"
   ]
  },
  {
   "cell_type": "code",
   "execution_count": 56,
   "id": "neural-grace",
   "metadata": {},
   "outputs": [
    {
     "data": {
      "image/png": "[encoded data removed]",
      "text/plain": [
       "<Figure size 432x288 with 1 Axes>"
      ]
     },
     "metadata": {
      "needs_background": "light"
     },
     "output_type": "display_data"
    }
   ],
   "source": [
    "plt.plot(np.linspace(0, duration, N_steps), sigmazs_100)\n",
    "plt.show()"
   ]
  },
  {
   "cell_type": "code",
   "execution_count": null,
   "id": "pending-webcam",
   "metadata": {},
   "outputs": [],
   "source": []
  }
 ],
 "metadata": {
  "kernelspec": {
   "display_name": "Python 3",
   "language": "python",
   "name": "python3"
  },
  "language_info": {
   "codemirror_mode": {
    "name": "ipython",
    "version": 3
   },
   "file_extension": ".py",
   "mimetype": "text/x-python",
   "name": "python",
   "nbconvert_exporter": "python",
   "pygments_lexer": "ipython3",
   "version": "3.8.5"
  }
 },
 "nbformat": 4,
 "nbformat_minor": 5
}
